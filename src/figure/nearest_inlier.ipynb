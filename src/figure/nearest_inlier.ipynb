{
 "cells": [
  {
   "cell_type": "code",
   "execution_count": 3,
   "id": "c5e86ee6-1f7a-4637-9e08-5e21600834bd",
   "metadata": {},
   "outputs": [],
   "source": [
    "import sys\n",
    "sys.path.append('../')\n",
    "from attacks import get_advdist, get_detector\n",
    "from loader import get_dataloader\n",
    "\n",
    "import numpy as np\n",
    "import matplotlib.pyplot as plt\n",
    "import torch\n",
    "import os\n",
    "from omegaconf import OmegaConf"
   ]
  },
  {
   "cell_type": "code",
   "execution_count": 35,
   "id": "221bef23-80ce-4eb8-a5d6-70cdc93bce9b",
   "metadata": {},
   "outputs": [
    {
     "name": "stdout",
     "output_type": "stream",
     "text": [
      "Using No Augmentations\n",
      "Using No Augmentations\n"
     ]
    }
   ],
   "source": [
    "train_dl = get_dataloader({'dataset': 'RImgNet', \n",
    "                           'split':'training', \n",
    "                           'path': '../datasets', \n",
    "                           'batch_size': 64, \n",
    "                           'n_workers': 8, \n",
    "                           'shuffle':False})"
   ]
  },
  {
   "cell_type": "code",
   "execution_count": 50,
   "id": "81ff0a21-3938-4131-a0b3-5bb28c411565",
   "metadata": {},
   "outputs": [
    {
     "name": "stdout",
     "output_type": "stream",
     "text": [
      "Using No Augmentations\n",
      "Using No Augmentations\n",
      "Files already downloaded and verified\n",
      "Files already downloaded and verified\n"
     ]
    }
   ],
   "source": [
    "train_dl = get_dataloader({'dataset': 'CIFAR10_OOD', \n",
    "                           'split':'training_full', \n",
    "                           'path': '../datasets', \n",
    "                           'batch_size': 64, \n",
    "                           'n_workers': 8, \n",
    "                           'shuffle':False})"
   ]
  },
  {
   "cell_type": "code",
   "execution_count": 16,
   "id": "90a5a422-30c2-49d1-921b-0100843ca4e0",
   "metadata": {},
   "outputs": [
    {
     "name": "stderr",
     "output_type": "stream",
     "text": [
      "Some weights of the model checkpoint at google/vit-base-patch16-224-in21k were not used when initializing ViTForImageClassification: ['pooler.dense.bias', 'pooler.dense.weight']\n",
      "- This IS expected if you are initializing ViTForImageClassification from the checkpoint of a model trained on another task or with another architecture (e.g. initializing a BertForSequenceClassification model from a BertForPreTraining model).\n",
      "- This IS NOT expected if you are initializing ViTForImageClassification from the checkpoint of a model that you expect to be exactly identical (initializing a BertForSequenceClassification model from a BertForSequenceClassification model).\n",
      "Some weights of ViTForImageClassification were not initialized from the model checkpoint at google/vit-base-patch16-224-in21k and are newly initialized: ['classifier.bias', 'classifier.weight']\n",
      "You should probably TRAIN this model on a down-stream task to be able to use it for predictions and inference.\n"
     ]
    },
    {
     "name": "stdout",
     "output_type": "stream",
     "text": [
      "Using vit_eval aug with params {'size': 224}\n"
     ]
    }
   ],
   "source": [
    "model = get_detector(**OmegaConf.load('../configs/cifar_detectors/cifar_vit_hf_md.yml'), root='../')"
   ]
  },
  {
   "cell_type": "code",
   "execution_count": 67,
   "id": "523979a9-13bb-46d4-95d8-aac3cf4a518c",
   "metadata": {},
   "outputs": [
    {
     "data": {
      "application/vnd.jupyter.widget-view+json": {
       "model_id": "5883f69b5764405cb3243753e080b2b6",
       "version_major": 2,
       "version_minor": 0
      },
      "text/plain": [
       "Downloading readme:   0%|          | 0.00/4.98k [00:00<?, ?B/s]"
      ]
     },
     "metadata": {},
     "output_type": "display_data"
    },
    {
     "name": "stderr",
     "output_type": "stream",
     "text": [
      "Found cached dataset cifar10 (/root/.cache/huggingface/datasets/cifar10/plain_text/1.0.0/447d6ec4733dddd1ce3bb577c7166b986eaa4c538dcd9e805ba61f35674a9de4)\n"
     ]
    }
   ],
   "source": [
    "from datasets import load_dataset\n",
    "cifar10_train_ds = load_dataset('cifar10', split='train')"
   ]
  },
  {
   "cell_type": "code",
   "execution_count": 7,
   "id": "129f3cb9-b752-487d-80d5-02dd973fb1b3",
   "metadata": {},
   "outputs": [],
   "source": [
    "path = '../results/CIFAR10/pairwise/vit_hf_md/vit_hf_md/svhn_pgstylegan2_z16_mh/'\n",
    "samples = torch.load(os.path.join(path, 'sample.pkl'))\n",
    "ranks = torch.load(os.path.join(path, 'rank.pkl'))"
   ]
  },
  {
   "cell_type": "code",
   "execution_count": 19,
   "id": "c50211e9-c14b-4cad-9d9c-b8a0dcf08a37",
   "metadata": {},
   "outputs": [],
   "source": [
    "agom_sample = samples[np.argsort(ranks)[0:5]]"
   ]
  },
  {
   "cell_type": "code",
   "execution_count": 79,
   "id": "5ec0b06a-4bdb-49a7-babf-83bf715c49b0",
   "metadata": {},
   "outputs": [],
   "source": [
    "agom_rank = np.sort(ranks)[0:5]"
   ]
  },
  {
   "cell_type": "code",
   "execution_count": 27,
   "id": "95721ec8-4aac-42ce-9af7-f741ce40884d",
   "metadata": {},
   "outputs": [],
   "source": [
    "v = model.model.forward_prelogit(model.transform(agom_sample))"
   ]
  },
  {
   "cell_type": "code",
   "execution_count": 86,
   "id": "3b904079-bb47-49c5-bd95-83317ae247c8",
   "metadata": {},
   "outputs": [
    {
     "data": {
      "text/plain": [
       "1.584071159362793"
      ]
     },
     "execution_count": 86,
     "metadata": {},
     "output_type": "execute_result"
    }
   ],
   "source": [
    "((prelogit - v[[0]]) ** 2).sum(dim=1).min().item()"
   ]
  },
  {
   "cell_type": "code",
   "execution_count": 95,
   "id": "7c1fdcb4-979d-4c37-ab3a-0625184b1212",
   "metadata": {},
   "outputs": [
    {
     "data": {
      "text/plain": [
       "81.1277084350586"
      ]
     },
     "execution_count": 95,
     "metadata": {},
     "output_type": "execute_result"
    }
   ],
   "source": [
    "((prelogit - v[[0]]) ** 2).sum(dim=1).mean().item()"
   ]
  },
  {
   "cell_type": "code",
   "execution_count": 101,
   "id": "d5e3e434-155a-4102-ac30-cd7a7229c120",
   "metadata": {},
   "outputs": [
    {
     "data": {
      "text/plain": [
       "torch.Size([1, 768, 10])"
      ]
     },
     "execution_count": 101,
     "metadata": {},
     "output_type": "execute_result"
    }
   ],
   "source": [
    "model.model.all_means.shape"
   ]
  },
  {
   "cell_type": "code",
   "execution_count": 104,
   "id": "8f8e8bde-20e5-442c-87b0-91698a4f4d2b",
   "metadata": {},
   "outputs": [
    {
     "data": {
      "text/plain": [
       "tensor([1.1177, 9.4185, 9.1973, 9.4456, 9.3517, 9.2454, 9.3175, 9.3694, 9.2715,\n",
       "        9.3959], dtype=torch.float64, grad_fn=<SqrtBackward0>)"
      ]
     },
     "execution_count": 104,
     "metadata": {},
     "output_type": "execute_result"
    }
   ],
   "source": [
    "((model.model.all_means[0].permute(1,0) - v[[0]]) ** 2).sum(dim=1).sqrt()"
   ]
  },
  {
   "cell_type": "code",
   "execution_count": 25,
   "id": "2bf10acc-95cf-4d4f-bc98-248e077ea768",
   "metadata": {},
   "outputs": [],
   "source": [
    "prelogit = torch.load('../pretrained/cifar_ood_vit/hf/prelogit.pkl')"
   ]
  },
  {
   "cell_type": "code",
   "execution_count": 94,
   "id": "7c255274-2262-40a6-be54-8e498d8529d0",
   "metadata": {},
   "outputs": [
    {
     "data": {
      "image/png": "[encoded data removed]",
      "text/plain": [
       "<Figure size 800x400 with 8 Axes>"
      ]
     },
     "metadata": {},
     "output_type": "display_data"
    }
   ],
   "source": [
    "fig, axs = plt.subplots(nrows=2, ncols=4, figsize=(8,4))\n",
    "\n",
    "axs[0,0].imshow(agom_sample[0].permute(1,2,0))\n",
    "axs[0,0].set_title(f'Rank: {agom_rank[0]}')\n",
    "axs[0,0].set_ylabel('AGOM')\n",
    "axs[0,1].imshow(agom_sample[1].permute(1,2,0))\n",
    "axs[0,1].set_title(agom_rank[1])\n",
    "axs[0,2].imshow(agom_sample[2].permute(1,2,0))\n",
    "axs[0,2].set_title(agom_rank[2])\n",
    "axs[0,3].imshow(agom_sample[3].permute(1,2,0))\n",
    "axs[0,3].set_title(agom_rank[3])\n",
    "\n",
    "axs[1,0].imshow(cifar10_train_ds[26637]['img'])\n",
    "axs[1,0].set_ylabel('CIFAR-10')\n",
    "axs[1,0].set_title(f'NNdist: {((prelogit - v[[0]]) ** 2).sum(dim=1).sqrt().min().item():.2f}')\n",
    "axs[1,1].imshow(cifar10_train_ds[15712]['img'])\n",
    "axs[1,1].set_title(f'{((prelogit - v[[1]]) ** 2).sum(dim=1).sqrt().min().item():.2f}')\n",
    "axs[1,2].imshow(cifar10_train_ds[26637]['img'])\n",
    "axs[1,2].set_title(f'{((prelogit - v[[2]]) ** 2).sum(dim=1).sqrt().min().item():.2f}')\n",
    "axs[1,3].imshow(cifar10_train_ds[26637]['img'])\n",
    "axs[1,3].set_title(f'{((prelogit - v[[3]]) ** 2).sum(dim=1).sqrt().min().item():.2f}')\n",
    "for ax in axs.flatten():\n",
    "    ax.set_xticks([])\n",
    "    ax.set_yticks([])\n",
    "plt.savefig('nearest_analysis.pdf', dpi=300)"
   ]
  },
  {
   "cell_type": "code",
   "execution_count": 72,
   "id": "19ffdd8c-9c4b-4ebf-8618-71caca7a61b7",
   "metadata": {},
   "outputs": [
    {
     "data": {
      "image/png": "[encoded data removed]",
      "text/plain": [
       "<PIL.PngImagePlugin.PngImageFile image mode=RGB size=32x32>"
      ]
     },
     "execution_count": 72,
     "metadata": {},
     "output_type": "execute_result"
    }
   ],
   "source": [
    "cifar10_train_ds[26637]['img']"
   ]
  },
  {
   "cell_type": "code",
   "execution_count": 73,
   "id": "f89306e5-d42d-4bc6-918a-3352c4e68fe6",
   "metadata": {},
   "outputs": [
    {
     "data": {
      "image/png": "[encoded data removed]",
      "text/plain": [
       "<PIL.PngImagePlugin.PngImageFile image mode=RGB size=32x32>"
      ]
     },
     "execution_count": 73,
     "metadata": {},
     "output_type": "execute_result"
    }
   ],
   "source": [
    "cifar10_train_ds[15712]['img']"
   ]
  },
  {
   "cell_type": "code",
   "execution_count": 26,
   "id": "84e497f1-8fb7-4e8c-9469-9421a01d06e3",
   "metadata": {},
   "outputs": [
    {
     "data": {
      "text/plain": [
       "torch.Size([50000, 768])"
      ]
     },
     "execution_count": 26,
     "metadata": {},
     "output_type": "execute_result"
    }
   ],
   "source": [
    "prelogit.shape"
   ]
  },
  {
   "cell_type": "code",
   "execution_count": 28,
   "id": "385c99d9-6121-4114-b6ef-7a0593396a38",
   "metadata": {},
   "outputs": [
    {
     "data": {
      "text/plain": [
       "torch.Size([5, 768])"
      ]
     },
     "execution_count": 28,
     "metadata": {},
     "output_type": "execute_result"
    }
   ],
   "source": [
    "v.shape"
   ]
  },
  {
   "cell_type": "code",
   "execution_count": 56,
   "id": "5581a868-e868-4676-9401-0a713e19943d",
   "metadata": {},
   "outputs": [
    {
     "data": {
      "text/plain": [
       "tensor([ 2.8576, 88.9841,  2.7583,  ..., 93.6668, 89.6880, 89.1909],\n",
       "       grad_fn=<SumBackward1>)"
      ]
     },
     "execution_count": 56,
     "metadata": {},
     "output_type": "execute_result"
    }
   ],
   "source": [
    "((prelogit - v[[0]]) ** 2).sum(dim=1)#.min()"
   ]
  },
  {
   "cell_type": "code",
   "execution_count": 53,
   "id": "a862b4a5-fc89-463e-99cf-82e3b6d8375e",
   "metadata": {},
   "outputs": [
    {
     "data": {
      "text/plain": [
       "tensor(26637)"
      ]
     },
     "execution_count": 53,
     "metadata": {},
     "output_type": "execute_result"
    }
   ],
   "source": [
    "((prelogit - v[[0]]) ** 2).sum(dim=1).argmin()"
   ]
  },
  {
   "cell_type": "code",
   "execution_count": 57,
   "id": "79af7c3c-164f-4a08-a601-d5c34103bf41",
   "metadata": {},
   "outputs": [
    {
     "data": {
      "text/plain": [
       "tensor(15712)"
      ]
     },
     "execution_count": 57,
     "metadata": {},
     "output_type": "execute_result"
    }
   ],
   "source": [
    "((prelogit - v[[1]]) ** 2).sum(dim=1).argmin()"
   ]
  },
  {
   "cell_type": "code",
   "execution_count": 58,
   "id": "82c4a612-af80-4a60-b13c-5a964aaf59c1",
   "metadata": {},
   "outputs": [
    {
     "data": {
      "text/plain": [
       "tensor(26637)"
      ]
     },
     "execution_count": 58,
     "metadata": {},
     "output_type": "execute_result"
    }
   ],
   "source": [
    "((prelogit - v[[2]]) ** 2).sum(dim=1).argmin()"
   ]
  },
  {
   "cell_type": "code",
   "execution_count": 59,
   "id": "5ec52ea7-e5f2-4174-9f5a-f05bcd51cdd6",
   "metadata": {},
   "outputs": [
    {
     "data": {
      "text/plain": [
       "tensor(26637)"
      ]
     },
     "execution_count": 59,
     "metadata": {},
     "output_type": "execute_result"
    }
   ],
   "source": [
    "((prelogit - v[[3]]) ** 2).sum(dim=1).argmin()"
   ]
  },
  {
   "cell_type": "code",
   "execution_count": 54,
   "id": "23dc3c13-462a-4f61-a59c-5a99953b5406",
   "metadata": {},
   "outputs": [],
   "source": [
    "img, _ = train_dl.dataset[26637]"
   ]
  },
  {
   "cell_type": "code",
   "execution_count": 60,
   "id": "ba888b59-e151-437e-9281-f785c71ed22a",
   "metadata": {},
   "outputs": [],
   "source": [
    "in_v = model.model.forward_prelogit(model.transform(img.unsqueeze(0)))"
   ]
  },
  {
   "cell_type": "code",
   "execution_count": 63,
   "id": "3535df18-702b-4b92-99cd-cda4b5e528af",
   "metadata": {},
   "outputs": [
    {
     "data": {
      "text/plain": [
       "tensor([ 0.2299,  0.1929,  0.1114, -0.0656,  0.1710])"
      ]
     },
     "execution_count": 63,
     "metadata": {},
     "output_type": "execute_result"
    }
   ],
   "source": [
    "prelogit[26637][:5]"
   ]
  },
  {
   "cell_type": "code",
   "execution_count": 66,
   "id": "14be889f-fd89-4557-92aa-e2fe10552da3",
   "metadata": {},
   "outputs": [
    {
     "data": {
      "text/plain": [
       "tensor([-0.1944,  0.0791,  0.2393, -0.2510, -0.2956], grad_fn=<SliceBackward0>)"
      ]
     },
     "execution_count": 66,
     "metadata": {},
     "output_type": "execute_result"
    }
   ],
   "source": [
    "in_v[0,:5]"
   ]
  },
  {
   "cell_type": "code",
   "execution_count": null,
   "id": "3cc79e52-7ba6-4593-a02d-60db3e347693",
   "metadata": {},
   "outputs": [],
   "source": []
  },
  {
   "cell_type": "code",
   "execution_count": 27,
   "id": "f527404c-5d7e-42eb-8aa9-d053d12eb588",
   "metadata": {},
   "outputs": [],
   "source": [
    "v = model.model.forward_prelogit(model.transform(agom_sample))"
   ]
  },
  {
   "cell_type": "code",
   "execution_count": 11,
   "id": "5408357d-6e91-48e6-ab55-772ba6edd089",
   "metadata": {},
   "outputs": [
    {
     "data": {
      "text/plain": [
       "<matplotlib.image.AxesImage at 0x7f6a94312af0>"
      ]
     },
     "execution_count": 11,
     "metadata": {},
     "output_type": "execute_result"
    },
    {
     "data": {
      "image/png": "[encoded data removed]",
      "text/plain": [
       "<Figure size 640x480 with 1 Axes>"
      ]
     },
     "metadata": {},
     "output_type": "display_data"
    }
   ],
   "source": [
    "plt.imshow(samples[np.argsort(ranks)[0]].permute(1,2,0))"
   ]
  }
 ],
 "metadata": {
  "kernelspec": {
   "display_name": "Python [conda env:evg]",
   "language": "python",
   "name": "conda-env-evg-py"
  },
  "language_info": {
   "codemirror_mode": {
    "name": "ipython",
    "version": 3
   },
   "file_extension": ".py",
   "mimetype": "text/x-python",
   "name": "python",
   "nbconvert_exporter": "python",
   "pygments_lexer": "ipython3",
   "version": "3.8.13"
  }
 },
 "nbformat": 4,
 "nbformat_minor": 5
}
