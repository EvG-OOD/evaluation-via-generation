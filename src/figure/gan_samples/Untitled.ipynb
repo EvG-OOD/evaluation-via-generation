{
 "cells": [
  {
   "cell_type": "code",
   "execution_count": 1,
   "id": "5f260389-aa07-4c0b-912f-511791d5aab8",
   "metadata": {},
   "outputs": [],
   "source": [
    "from PIL import Image"
   ]
  },
  {
   "cell_type": "code",
   "execution_count": 8,
   "id": "3fb7abdb-086d-458d-b1ee-7a6b50d59f57",
   "metadata": {},
   "outputs": [],
   "source": [
    "for s in ['celeba', 'svhn']:\n",
    "    img = Image.open(f'{s}_fakes005000.png')\n",
    "    img.crop(box=(0,0,32*5,32*5)).save(f'{s}_crop.png')"
   ]
  },
  {
   "cell_type": "code",
   "execution_count": 9,
   "id": "f9c4cf9a-3dfc-47d3-94a7-8be79fb39e0c",
   "metadata": {},
   "outputs": [],
   "source": [
    "for s in ['fgvc', 'flowers',]:\n",
    "    img = Image.open(f'{s}_fakes005000.png')\n",
    "    img.crop(box=(0,0,128*5,128*5)).save(f'{s}_crop.png')"
   ]
  },
  {
   "cell_type": "code",
   "execution_count": 10,
   "id": "e19703d9-8808-4df1-97d0-a6bd4675a9dc",
   "metadata": {},
   "outputs": [],
   "source": [
    "for s in [ 'eurosat']:\n",
    "    img = Image.open(f'{s}_fakes005000.png')\n",
    "    img.crop(box=(0,0,64*5,64*5)).save(f'{s}_crop.png')"
   ]
  },
  {
   "cell_type": "code",
   "execution_count": 6,
   "id": "e980a1a2-7f67-446e-89f5-466a94a0d0a5",
   "metadata": {},
   "outputs": [],
   "source": []
  }
 ],
 "metadata": {
  "kernelspec": {
   "display_name": "Python [conda env:evg]",
   "language": "python",
   "name": "conda-env-evg-py"
  },
  "language_info": {
   "codemirror_mode": {
    "name": "ipython",
    "version": 3
   },
   "file_extension": ".py",
   "mimetype": "text/x-python",
   "name": "python",
   "nbconvert_exporter": "python",
   "pygments_lexer": "ipython3",
   "version": "3.8.13"
  }
 },
 "nbformat": 4,
 "nbformat_minor": 5
}
