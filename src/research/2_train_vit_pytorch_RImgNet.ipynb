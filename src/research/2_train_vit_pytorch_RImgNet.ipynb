{
 "cells": [
  {
   "cell_type": "markdown",
   "id": "bec27c09-7a2d-4d7c-bec6-5a45698b3dcb",
   "metadata": {},
   "source": [
    "# ViT OOD in PyTorch\n",
    "\n",
    "## finetuning on RImgNet"
   ]
  },
  {
   "cell_type": "code",
   "execution_count": 2,
   "id": "d842eb4f-cbe3-46bf-aa35-56a0acb51178",
   "metadata": {},
   "outputs": [],
   "source": [
    "device = 'cuda:0'"
   ]
  },
  {
   "cell_type": "markdown",
   "id": "9a504b25-1758-4b8a-982a-90db77d0d885",
   "metadata": {},
   "source": [
    "## dataset"
   ]
  },
  {
   "cell_type": "code",
   "execution_count": 3,
   "id": "0bfd33fb-6e08-4529-9aa3-a4a89a8abd6b",
   "metadata": {},
   "outputs": [],
   "source": [
    "import sys\n",
    "sys.path.append('../')\n",
    "from tqdm.auto import tqdm\n",
    "from loader import get_dataloader\n",
    "from augmentations import get_composed_augmentations"
   ]
  },
  {
   "cell_type": "code",
   "execution_count": 59,
   "id": "221bef23-80ce-4eb8-a5d6-70cdc93bce9b",
   "metadata": {},
   "outputs": [
    {
     "name": "stdout",
     "output_type": "stream",
     "text": [
      "Using No Augmentations\n",
      "Using No Augmentations\n"
     ]
    }
   ],
   "source": [
    "train_dl = get_dataloader({'dataset': 'RImgNet', \n",
    "                           'split':'training', \n",
    "                           'path': '../datasets', \n",
    "                           'batch_size': 64, \n",
    "                           'n_workers': 8, \n",
    "                           'shuffle':True})"
   ]
  },
  {
   "cell_type": "code",
   "execution_count": 120,
   "id": "1faca844-7e1f-4bc1-9b8d-af4f86f80f9e",
   "metadata": {},
   "outputs": [
    {
     "name": "stdout",
     "output_type": "stream",
     "text": [
      "Using No Augmentations\n",
      "Using No Augmentations\n"
     ]
    }
   ],
   "source": [
    "train_dl_noshuffle = get_dataloader({'dataset': 'RImgNet',  'split':'training', \n",
    "                           'path': '../datasets', 'batch_size': 64, \n",
    "                           'n_workers': 8, 'shuffle':False})"
   ]
  },
  {
   "cell_type": "code",
   "execution_count": 91,
   "id": "a5c084b7-9668-490b-b92b-64666aa95d9f",
   "metadata": {},
   "outputs": [
    {
     "name": "stdout",
     "output_type": "stream",
     "text": [
      "Using No Augmentations\n",
      "Using No Augmentations\n",
      "Using No Augmentations\n",
      "Using No Augmentations\n",
      "Using No Augmentations\n",
      "Using No Augmentations\n",
      "Using No Augmentations\n",
      "Using No Augmentations\n"
     ]
    }
   ],
   "source": [
    "rimgnet_dl = get_dataloader({'dataset': 'RImgNet', \n",
    "                           'split':'evaluation', \n",
    "                           'path': '../datasets', \n",
    "                           'batch_size': 64, \n",
    "                           'n_workers': 2, \n",
    "                           'shuffle':False})\n",
    "\n",
    "flowers_dl = get_dataloader({'dataset': 'Flowers', \n",
    "                           'split':'evaluation', \n",
    "                           'path': '../datasets', \n",
    "                           'batch_size': 64, \n",
    "                           'n_workers': 2, \n",
    "                           'shuffle':False})\n",
    "\n",
    "cars_dl = get_dataloader({'dataset': 'Cars', \n",
    "                           'split':'evaluation', \n",
    "                           'path': '../datasets', \n",
    "                           'batch_size': 64, \n",
    "                           'n_workers': 2, \n",
    "                           'shuffle':False})\n",
    "\n",
    "fgvc_dl = get_dataloader({'dataset': 'FGVC', \n",
    "                           'split':'evaluation', \n",
    "                           'path': '../datasets', \n",
    "                           'batch_size': 64, \n",
    "                           'n_workers': 2, \n",
    "                           'shuffle':False})"
   ]
  },
  {
   "cell_type": "code",
   "execution_count": 74,
   "id": "8eee15a9-ea44-41f3-b2bf-decef139fb1d",
   "metadata": {},
   "outputs": [],
   "source": [
    "xx, yy = next(iter(train_dl))"
   ]
  },
  {
   "cell_type": "code",
   "execution_count": 77,
   "id": "91165acf-2499-4a8e-9220-a30bcc9ab8b3",
   "metadata": {},
   "outputs": [],
   "source": [
    "zz = transform(xx)"
   ]
  },
  {
   "cell_type": "code",
   "execution_count": 81,
   "id": "7fc128bd-c772-40fa-8e89-0e08d1aaf75d",
   "metadata": {},
   "outputs": [
    {
     "name": "stdout",
     "output_type": "stream",
     "text": [
      "Using No Augmentations\n",
      "Using No Augmentations\n"
     ]
    }
   ],
   "source": [
    "val_dl = get_dataloader({'dataset': 'RImgNet', 'split':'validation', 'path': '../datasets', 'batch_size': 64, 'n_workers': 2, 'shuffle':False})"
   ]
  },
  {
   "cell_type": "code",
   "execution_count": 11,
   "id": "15aebc9c-00ab-4457-9d37-a37be7c10b44",
   "metadata": {},
   "outputs": [
    {
     "name": "stdout",
     "output_type": "stream",
     "text": [
      "Using normalize aug with params {'mean': [0.5, 0.5, 0.5], 'std': [0.5, 0.5, 0.5]}\n"
     ]
    }
   ],
   "source": [
    "transform = get_composed_augmentations({'normalize': {'mean': [0.5, 0.5, 0.5], 'std': [0.5,0.5,0.5]}})"
   ]
  },
  {
   "cell_type": "code",
   "execution_count": 12,
   "id": "571950af-37ef-47c4-915a-47f0a069cef2",
   "metadata": {},
   "outputs": [],
   "source": [
    "from transformers import ViTFeatureExtractor\n",
    "\n",
    "model_name_or_path = 'google/vit-base-patch16-224-in21k'\n",
    "feature_extractor = ViTFeatureExtractor.from_pretrained(model_name_or_path)"
   ]
  },
  {
   "cell_type": "code",
   "execution_count": 13,
   "id": "d2d5f1cc-03d1-4b42-8fbb-d5d7efcfdef7",
   "metadata": {},
   "outputs": [
    {
     "name": "stderr",
     "output_type": "stream",
     "text": [
      "Some weights of the model checkpoint at google/vit-base-patch16-224-in21k were not used when initializing ViTForImageClassification: ['pooler.dense.bias', 'pooler.dense.weight']\n",
      "- This IS expected if you are initializing ViTForImageClassification from the checkpoint of a model trained on another task or with another architecture (e.g. initializing a BertForSequenceClassification model from a BertForPreTraining model).\n",
      "- This IS NOT expected if you are initializing ViTForImageClassification from the checkpoint of a model that you expect to be exactly identical (initializing a BertForSequenceClassification model from a BertForSequenceClassification model).\n",
      "Some weights of ViTForImageClassification were not initialized from the model checkpoint at google/vit-base-patch16-224-in21k and are newly initialized: ['classifier.weight', 'classifier.bias']\n",
      "You should probably TRAIN this model on a down-stream task to be able to use it for predictions and inference.\n"
     ]
    }
   ],
   "source": [
    "from transformers import ViTForImageClassification\n",
    "\n",
    "model = ViTForImageClassification.from_pretrained('google/vit-base-patch16-224-in21k',\n",
    "                                                  num_labels=9)\n",
    "                                                  # id2label=id2label,\n",
    "                                                  # label2id=label2id)\n",
    "model.to(device);"
   ]
  },
  {
   "cell_type": "code",
   "execution_count": 15,
   "id": "b2305bc0-669c-42e2-8a07-79c7cbabf24d",
   "metadata": {},
   "outputs": [],
   "source": [
    "from torch.optim import SGD\n",
    "\n",
    "opt = SGD(model.parameters(), lr=0.00001, momentum=0.8)"
   ]
  },
  {
   "cell_type": "code",
   "execution_count": 20,
   "id": "7fce5bd4-646b-43cc-b4f6-8c037a4dbb7f",
   "metadata": {},
   "outputs": [],
   "source": [
    "import os\n",
    "\n",
    "import torch\n",
    "import numpy as np\n",
    "\n",
    "from ipywidgets import Output\n",
    "from IPython.display import clear_output\n",
    "\n",
    "import matplotlib.pyplot as plt"
   ]
  },
  {
   "cell_type": "code",
   "execution_count": null,
   "id": "6b92ce26-8608-479c-923c-13adf757a23d",
   "metadata": {},
   "outputs": [
    {
     "data": {
      "application/vnd.jupyter.widget-view+json": {
       "model_id": "a05c85faadb746deabb9c1093915a1e2",
       "version_major": 2,
       "version_minor": 0
      },
      "text/plain": [
       "Output()"
      ]
     },
     "metadata": {},
     "output_type": "display_data"
    },
    {
     "data": {
      "application/vnd.jupyter.widget-view+json": {
       "model_id": "95a77f46adc84f2897620a6d080c14ab",
       "version_major": 2,
       "version_minor": 0
      },
      "text/plain": [
       "  0%|          | 0/10 [00:00<?, ?it/s]"
      ]
     },
     "metadata": {},
     "output_type": "display_data"
    },
    {
     "data": {
      "application/vnd.jupyter.widget-view+json": {
       "model_id": "245e3d434fbd44cc983ac8698128d63e",
       "version_major": 2,
       "version_minor": 0
      },
      "text/plain": [
       "  0%|          | 0/4028 [00:00<?, ?it/s]"
      ]
     },
     "metadata": {},
     "output_type": "display_data"
    }
   ],
   "source": [
    "out = Output()\n",
    "display(out)\n",
    "n_epoch = 50\n",
    "model.train()\n",
    "l_loss = []\n",
    "for i_epoch in tqdm(range(40, n_epoch)):\n",
    "    for i_iter, (xx, yy) in enumerate(tqdm(train_dl)):\n",
    "        model.train()\n",
    "        opt.zero_grad()\n",
    "        pred_ = model(pixel_values=transform(xx).to(device), labels=yy.to(device))\n",
    "        l_loss.append(pred_.loss.item())\n",
    "        pred_.loss.backward()\n",
    "        opt.step()\n",
    "        \n",
    "        if i_iter % 100 == 0:\n",
    "            with out:\n",
    "                plt.plot(l_loss)\n",
    "                out.clear_output(wait=True)\n",
    "                plt.show()\n",
    "    \n",
    "    result_dir = f'finetune-rimgnet/epoch-{i_epoch}'\n",
    "    if not os.path.isdir(result_dir):\n",
    "        os.mkdir(result_dir)\n",
    "    torch.save(model.state_dict(), os.path.join(result_dir, 'pytorch_model.bin'))\n",
    "    \n",
    "    l_pred = []\n",
    "    model.eval()\n",
    "    for i_iter, (xx, yy) in enumerate(tqdm(val_dl)):\n",
    "        with torch.no_grad():\n",
    "            pred_ = model(pixel_values=transform(xx).to(device))\n",
    "            predictions = torch.argmax(pred_.logits.detach().cpu(), dim=1)\n",
    "            l_pred.append(predictions)\n",
    "    pred = torch.cat(l_pred)\n",
    "    acc = (pred == torch.tensor(val_dl.dataset.targets)).float().mean()\n",
    "    print(f'[epoch {i_epoch}] {acc}')\n",
    "    with open(os.path.join(result_dir, 'acc.txt'), 'w') as f:\n",
    "        f.write(str(acc.item()))\n",
    "    # break"
   ]
  },
  {
   "cell_type": "code",
   "execution_count": 82,
   "id": "14bcc066-aa94-4b19-ae14-2cbd4b6d6e4d",
   "metadata": {},
   "outputs": [
    {
     "data": {
      "application/vnd.jupyter.widget-view+json": {
       "model_id": "ef64ec43317642f7ad5c40e34e4e3e27",
       "version_major": 2,
       "version_minor": 0
      },
      "text/plain": [
       "  0%|          | 0/159 [00:00<?, ?it/s]"
      ]
     },
     "metadata": {},
     "output_type": "display_data"
    },
    {
     "name": "stdout",
     "output_type": "stream",
     "text": [
      "[epoch 9] 0.866305410861969\n"
     ]
    }
   ],
   "source": [
    "l_pred = []\n",
    "model.eval()\n",
    "for i_iter, (xx, yy) in enumerate(tqdm(val_dl)):\n",
    "    with torch.no_grad():\n",
    "        pred_ = model(pixel_values=transform(xx).to(device))\n",
    "        predictions = torch.argmax(pred_.logits.detach().cpu(), dim=1)\n",
    "        l_pred.append(predictions)\n",
    "pred = torch.cat(l_pred)\n",
    "acc = (pred == torch.tensor(val_dl.dataset.targets)).float().mean()\n",
    "print(f'[epoch {i_epoch}] {acc}')"
   ]
  },
  {
   "cell_type": "code",
   "execution_count": 38,
   "id": "0eacb54d-c296-420a-957a-611fcec21167",
   "metadata": {},
   "outputs": [
    {
     "ename": "RuntimeError",
     "evalue": "The size of tensor a (64) must match the size of tensor b (10150) at non-singleton dimension 0",
     "output_type": "error",
     "traceback": [
      "\u001b[0;31m---------------------------------------------------------------------------\u001b[0m",
      "\u001b[0;31mRuntimeError\u001b[0m                              Traceback (most recent call last)",
      "Cell \u001b[0;32mIn [38], line 7\u001b[0m\n\u001b[1;32m      5\u001b[0m     l_pred\u001b[38;5;241m.\u001b[39mappend(predictions)\n\u001b[1;32m      6\u001b[0m pred \u001b[38;5;241m=\u001b[39m torch\u001b[38;5;241m.\u001b[39mcat(l_pred[\u001b[38;5;241m-\u001b[39m\u001b[38;5;241m2\u001b[39m:])\n\u001b[0;32m----> 7\u001b[0m acc \u001b[38;5;241m=\u001b[39m (\u001b[43mpred\u001b[49m\u001b[43m \u001b[49m\u001b[38;5;241;43m==\u001b[39;49m\u001b[43m \u001b[49m\u001b[43mtorch\u001b[49m\u001b[38;5;241;43m.\u001b[39;49m\u001b[43mtensor\u001b[49m\u001b[43m(\u001b[49m\u001b[43mval_dl\u001b[49m\u001b[38;5;241;43m.\u001b[39;49m\u001b[43mdataset\u001b[49m\u001b[38;5;241;43m.\u001b[39;49m\u001b[43mtargets\u001b[49m\u001b[43m)\u001b[49m)\u001b[38;5;241m.\u001b[39mfloat()\u001b[38;5;241m.\u001b[39mmean()\n",
      "\u001b[0;31mRuntimeError\u001b[0m: The size of tensor a (64) must match the size of tensor b (10150) at non-singleton dimension 0"
     ]
    }
   ],
   "source": [
    "l_pred = []\n",
    "with torch.no_grad():\n",
    "    out = model(pixel_values=transform(xx).to(device))\n",
    "    predictions = torch.argmax(out.logits.detach().cpu(), axis=1)\n",
    "    l_pred.append(predictions)\n",
    "pred = torch.cat(l_pred[-2:])\n",
    "acc = (pred == torch.tensor(val_dl.dataset.targets)).float().mean()"
   ]
  },
  {
   "cell_type": "markdown",
   "id": "024ecc36-8809-49c2-a732-db933c8ebcf5",
   "metadata": {},
   "source": [
    "## Classification output"
   ]
  },
  {
   "cell_type": "code",
   "execution_count": 16,
   "id": "61adbfb7-3a92-4740-8a06-b1183485fb09",
   "metadata": {},
   "outputs": [
    {
     "name": "stderr",
     "output_type": "stream",
     "text": [
      "***** Running Prediction *****\n",
      "  Num examples = 10000\n",
      "  Batch size = 16\n",
      "/opt/conda/envs/evg/lib/python3.8/site-packages/torch/nn/parallel/_functions.py:68: UserWarning: Was asked to gather along dimension 0, but all input tensors were scalars; will instead unsqueeze and return a vector.\n",
      "  warnings.warn('Was asked to gather along dimension 0, but all '\n"
     ]
    },
    {
     "data": {
      "text/html": [],
      "text/plain": [
       "<IPython.core.display.HTML object>"
      ]
     },
     "metadata": {},
     "output_type": "display_data"
    }
   ],
   "source": [
    "outputs = trainer.predict(test_ds)"
   ]
  },
  {
   "cell_type": "code",
   "execution_count": 17,
   "id": "9594a66d-b8dd-4cee-8600-4145bf6cba83",
   "metadata": {},
   "outputs": [
    {
     "data": {
      "text/plain": [
       "<sklearn.metrics._plot.confusion_matrix.ConfusionMatrixDisplay at 0x7fb91be647c0>"
      ]
     },
     "execution_count": 17,
     "metadata": {},
     "output_type": "execute_result"
    },
    {
     "data": {
      "image/png": "[encoded data removed]",
      "text/plain": [
       "<Figure size 640x480 with 2 Axes>"
      ]
     },
     "metadata": {},
     "output_type": "display_data"
    }
   ],
   "source": [
    "\n",
    "from sklearn.metrics import confusion_matrix, ConfusionMatrixDisplay\n",
    "\n",
    "y_true = outputs.label_ids\n",
    "y_pred = outputs.predictions.argmax(1)\n",
    "\n",
    "labels = train_ds.features['label'].names\n",
    "cm = confusion_matrix(y_true, y_pred)\n",
    "disp = ConfusionMatrixDisplay(confusion_matrix=cm, display_labels=labels)\n",
    "disp.plot(xticks_rotation=45)"
   ]
  },
  {
   "cell_type": "markdown",
   "id": "dbb49615-98d9-40f6-9384-7cb08c1c66ef",
   "metadata": {},
   "source": [
    "# Evaluate"
   ]
  },
  {
   "cell_type": "code",
   "execution_count": 92,
   "id": "bb5b14f4-2664-4420-9872-7d5c437dc4fa",
   "metadata": {},
   "outputs": [],
   "source": [
    "from tqdm.notebook import tqdm"
   ]
  },
  {
   "cell_type": "code",
   "execution_count": 102,
   "id": "64f619a1-c2f5-42b8-9661-03ef80ee0e4e",
   "metadata": {},
   "outputs": [],
   "source": [
    "def get_logit(model, dl):\n",
    "    global device\n",
    "    l_pred = []\n",
    "    for xx, _ in tqdm(dl):\n",
    "        with torch.no_grad():\n",
    "            # pred = model(xx['pixel_values'].cuda(), output_hidden_states=False)\n",
    "            pred = model(xx.to(device), output_hidden_states=False)\n",
    "            # pred.logits\n",
    "            # pred.hidden_states\n",
    "        l_pred.append(pred.logits.detach().cpu())\n",
    "    return torch.cat(l_pred)\n",
    "\n",
    "def get_prelogit(model, dl):\n",
    "    global device\n",
    "    l_pred = []\n",
    "    for xx, _ in tqdm(dl):\n",
    "        with torch.no_grad():\n",
    "            # out = model(xx['pixel_values'].cuda(), output_hidden_states=True)\n",
    "            out = model(xx.to(device), output_hidden_states=True)\n",
    "            out = out.hidden_states[-1][:,0,:]\n",
    "            out = model.vit.layernorm(out)\n",
    "        l_pred.append(out.detach().cpu())\n",
    "    return torch.cat(l_pred)"
   ]
  },
  {
   "cell_type": "code",
   "execution_count": 103,
   "id": "7b1e039f-ce60-4e77-af4f-f43008aa325b",
   "metadata": {},
   "outputs": [
    {
     "data": {
      "application/vnd.jupyter.widget-view+json": {
       "model_id": "b7e07afb758c49a6b2688f4f40ba58ba",
       "version_major": 2,
       "version_minor": 0
      },
      "text/plain": [
       "  0%|          | 0/159 [00:00<?, ?it/s]"
      ]
     },
     "metadata": {},
     "output_type": "display_data"
    },
    {
     "data": {
      "application/vnd.jupyter.widget-view+json": {
       "model_id": "77552ed4f4234f4db9900d3c2ac8416d",
       "version_major": 2,
       "version_minor": 0
      },
      "text/plain": [
       "  0%|          | 0/97 [00:00<?, ?it/s]"
      ]
     },
     "metadata": {},
     "output_type": "display_data"
    },
    {
     "data": {
      "application/vnd.jupyter.widget-view+json": {
       "model_id": "3a09a9f80acb4a46ba53eacdde9e28ba",
       "version_major": 2,
       "version_minor": 0
      },
      "text/plain": [
       "  0%|          | 0/126 [00:00<?, ?it/s]"
      ]
     },
     "metadata": {},
     "output_type": "display_data"
    },
    {
     "data": {
      "application/vnd.jupyter.widget-view+json": {
       "model_id": "d37f7b409c014068987976a1913a122a",
       "version_major": 2,
       "version_minor": 0
      },
      "text/plain": [
       "  0%|          | 0/53 [00:00<?, ?it/s]"
      ]
     },
     "metadata": {},
     "output_type": "display_data"
    }
   ],
   "source": [
    "rimgnet_pred = get_logit(model, rimgnet_dl)\n",
    "flowers_pred = get_logit(model, flowers_dl)\n",
    "cars_pred = get_logit(model, cars_dl)\n",
    "fgvc_pred = get_logit(model, fgvc_dl)"
   ]
  },
  {
   "cell_type": "code",
   "execution_count": 104,
   "id": "29c84e05-9cc9-435c-80f7-27780cedc7fa",
   "metadata": {},
   "outputs": [],
   "source": [
    "from torch.nn.functional import softmax"
   ]
  },
  {
   "cell_type": "code",
   "execution_count": 105,
   "id": "59263b22-8a6a-4340-8cc2-342bcaabf79e",
   "metadata": {},
   "outputs": [],
   "source": [
    "rimgnet_msp = torch.max(softmax(rimgnet_pred, dim=1),dim=1).values\n",
    "flowers_msp = torch.max(softmax(flowers_pred, dim=1),dim=1).values\n",
    "cars_msp = torch.max(softmax(cars_pred, dim=1),dim=1).values\n",
    "fgvc_msp = torch.max(softmax(fgvc_pred, dim=1),dim=1).values"
   ]
  },
  {
   "cell_type": "code",
   "execution_count": 107,
   "id": "cf204053-7882-4487-a314-926b6ed3ae36",
   "metadata": {},
   "outputs": [],
   "source": [
    "import sys\n",
    "sys.path.append('../')\n",
    "from utils import roc_btw_arr"
   ]
  },
  {
   "cell_type": "code",
   "execution_count": 109,
   "id": "a9394728-45c6-4b08-927b-3618b6c73ec0",
   "metadata": {},
   "outputs": [
    {
     "data": {
      "text/plain": [
       "0.9927610480938468"
      ]
     },
     "execution_count": 109,
     "metadata": {},
     "output_type": "execute_result"
    }
   ],
   "source": [
    "roc_btw_arr(rimgnet_msp, flowers_msp)"
   ]
  },
  {
   "cell_type": "code",
   "execution_count": 110,
   "id": "d7ff3480-cdd8-4050-ada3-7adc64adcfd8",
   "metadata": {},
   "outputs": [
    {
     "data": {
      "text/plain": [
       "0.9979484207476095"
      ]
     },
     "execution_count": 110,
     "metadata": {},
     "output_type": "execute_result"
    }
   ],
   "source": [
    "roc_btw_arr(rimgnet_msp, cars_msp)"
   ]
  },
  {
   "cell_type": "code",
   "execution_count": 111,
   "id": "9cecffdb-ea77-42f6-87d5-d33e70d1ce6b",
   "metadata": {},
   "outputs": [
    {
     "data": {
      "text/plain": [
       "0.9938351372083021"
      ]
     },
     "execution_count": 111,
     "metadata": {},
     "output_type": "execute_result"
    }
   ],
   "source": [
    "roc_btw_arr(rimgnet_msp, fgvc_msp)"
   ]
  },
  {
   "cell_type": "markdown",
   "id": "1ac578be-1aa6-40ae-be52-68603d4d610a",
   "metadata": {},
   "source": [
    "### Mahalanobis distance"
   ]
  },
  {
   "cell_type": "code",
   "execution_count": 121,
   "id": "46373115-9323-4ed5-914b-dd72c150debe",
   "metadata": {},
   "outputs": [
    {
     "data": {
      "application/vnd.jupyter.widget-view+json": {
       "model_id": "27171bb54fcb461f9b249036295a8075",
       "version_major": 2,
       "version_minor": 0
      },
      "text/plain": [
       "  0%|          | 0/4028 [00:00<?, ?it/s]"
      ]
     },
     "metadata": {},
     "output_type": "display_data"
    }
   ],
   "source": [
    "prelogit = get_prelogit(model, train_dl_noshuffle)"
   ]
  },
  {
   "cell_type": "code",
   "execution_count": 144,
   "id": "7d75234d-cbf3-4d0c-8014-8555d839e1bb",
   "metadata": {},
   "outputs": [],
   "source": [
    "torch.save(prelogit, 'finetune-rimgnet/epoch-49/prelogit.pkl')"
   ]
  },
  {
   "cell_type": "code",
   "execution_count": 122,
   "id": "5ad17803-3e1a-4801-bc2f-f828474eb0ad",
   "metadata": {},
   "outputs": [
    {
     "data": {
      "text/plain": [
       "257748"
      ]
     },
     "execution_count": 122,
     "metadata": {},
     "output_type": "execute_result"
    }
   ],
   "source": [
    "len(prelogit)"
   ]
  },
  {
   "cell_type": "code",
   "execution_count": 123,
   "id": "089283fe-d0bd-4153-ac55-780dac9254ac",
   "metadata": {},
   "outputs": [
    {
     "data": {
      "text/plain": [
       "257748"
      ]
     },
     "execution_count": 123,
     "metadata": {},
     "output_type": "execute_result"
    }
   ],
   "source": [
    "len(train_label)"
   ]
  },
  {
   "cell_type": "code",
   "execution_count": 124,
   "id": "8a24bdf7-7441-4cdd-82ab-135ae5a91557",
   "metadata": {},
   "outputs": [],
   "source": [
    "train_label = torch.tensor(train_dl.dataset.targets)"
   ]
  },
  {
   "cell_type": "code",
   "execution_count": 125,
   "id": "f7e9a9ed-c3da-435d-97a9-a8b5027f7e93",
   "metadata": {},
   "outputs": [],
   "source": [
    "'''mahalanobis statistics computation'''\n",
    "l_mean = []\n",
    "l_outer = []\n",
    "for k in range(9):\n",
    "    subset_x = prelogit[train_label == k]\n",
    "    subset_mean = torch.mean(subset_x, dim=0, keepdim=True)\n",
    "    # subset_outer = torch.cov(subset_x - subset_mean, correction=0) * len(subset_x)\n",
    "    v = subset_x - subset_mean\n",
    "    subset_outer = v.T.mm(v)\n",
    "    l_mean.append(subset_mean)\n",
    "    l_outer.append(subset_outer)\n",
    "pooled_cov = torch.sum(torch.stack(l_outer), dim=0) / len(prelogit)\n",
    "all_means = torch.stack(l_mean, dim=-1)\n",
    "invcov = torch.linalg.inv(pooled_cov)"
   ]
  },
  {
   "cell_type": "code",
   "execution_count": 136,
   "id": "c06bdce4-1194-4975-bfda-fb30e8d03331",
   "metadata": {},
   "outputs": [],
   "source": [
    "'''relative mahalanobis statistics'''\n",
    "whole_mean = torch.mean(prelogit, dim=0, keepdim=True)\n",
    "v = prelogit - whole_mean\n",
    "whole_cov = v.T.mm(v) / len(prelogit)\n",
    "whole_invcov = torch.linalg.inv(whole_cov)"
   ]
  },
  {
   "cell_type": "code",
   "execution_count": 143,
   "id": "0477c063-89c0-478d-b38d-7e47361e9060",
   "metadata": {},
   "outputs": [],
   "source": [
    "'''save'''\n",
    "torch.save({'all_means': all_means,\n",
    "            'invcov': invcov,\n",
    "            'whole_mean': whole_mean,\n",
    "            'whole_invcov': whole_invcov}, 'finetune-rimgnet/epoch-49/maha-statistic.pkl')"
   ]
  },
  {
   "cell_type": "code",
   "execution_count": 128,
   "id": "f01ac0bf-a4a8-4f48-97a3-4b5ba562c79f",
   "metadata": {},
   "outputs": [
    {
     "data": {
      "application/vnd.jupyter.widget-view+json": {
       "model_id": "1fb56ee7385045cca308596af9b09429",
       "version_major": 2,
       "version_minor": 0
      },
      "text/plain": [
       "  0%|          | 0/159 [00:00<?, ?it/s]"
      ]
     },
     "metadata": {},
     "output_type": "display_data"
    },
    {
     "data": {
      "application/vnd.jupyter.widget-view+json": {
       "model_id": "2155ea9d43be426fa3b6f677fa8f4404",
       "version_major": 2,
       "version_minor": 0
      },
      "text/plain": [
       "  0%|          | 0/97 [00:00<?, ?it/s]"
      ]
     },
     "metadata": {},
     "output_type": "display_data"
    },
    {
     "data": {
      "application/vnd.jupyter.widget-view+json": {
       "model_id": "ad5eeb6bb1434d669ad15ecf41ffbdbf",
       "version_major": 2,
       "version_minor": 0
      },
      "text/plain": [
       "  0%|          | 0/53 [00:00<?, ?it/s]"
      ]
     },
     "metadata": {},
     "output_type": "display_data"
    },
    {
     "data": {
      "application/vnd.jupyter.widget-view+json": {
       "model_id": "649eb41c636b494fbebadcc50deed32a",
       "version_major": 2,
       "version_minor": 0
      },
      "text/plain": [
       "  0%|          | 0/126 [00:00<?, ?it/s]"
      ]
     },
     "metadata": {},
     "output_type": "display_data"
    }
   ],
   "source": [
    "def forward_maha(xx, mean, invcov):\n",
    "    \"\"\"\n",
    "    mean: [1, D, K]\n",
    "    invcov: [D, D]\n",
    "    \"\"\"\n",
    "    z = xx.unsqueeze(-1) - mean\n",
    "    op1 = torch.einsum('ijk,jl->ilk', z, invcov)\n",
    "    op2 = torch.einsum('ijk,ijk->ik', op1, z)  # [B, K]\n",
    "    \n",
    "    return torch.min(op2, dim=1).values\n",
    "    \n",
    "def forward_maha_dl(model, dataloader, mean, invcov):\n",
    "    global device\n",
    "    l_score = []\n",
    "    for xx,_ in tqdm(dataloader):\n",
    "        \n",
    "        out = model(xx.to(device), output_hidden_states=True)\n",
    "        out = out.hidden_states[-1][:,0,:]\n",
    "        out = model.vit.layernorm(out)\n",
    "        \n",
    "        prelogit = out.detach().cpu()\n",
    "        score = forward_maha(prelogit, mean, invcov)\n",
    "        l_score.append(score)\n",
    "    return torch.cat(l_score)\n",
    "# forward_maha(subset_x, all_means, invcov)\n",
    "\n",
    "rimgnet_maha = forward_maha_dl(model, rimgnet_dl, all_means.double(), invcov.double())\n",
    "flowers_maha = forward_maha_dl(model, flowers_dl, all_means.double(), invcov.double())\n",
    "fgvc_maha = forward_maha_dl(model, fgvc_dl, all_means.double(), invcov.double())\n",
    "cars_maha = forward_maha_dl(model, cars_dl, all_means.double(), invcov.double())"
   ]
  },
  {
   "cell_type": "code",
   "execution_count": 130,
   "id": "5745ecd8-075f-4d2f-83a2-de5b389dfe8b",
   "metadata": {},
   "outputs": [
    {
     "data": {
      "text/plain": [
       "0.9971309844926526"
      ]
     },
     "execution_count": 130,
     "metadata": {},
     "output_type": "execute_result"
    }
   ],
   "source": [
    "roc_btw_arr(flowers_maha, rimgnet_maha)"
   ]
  },
  {
   "cell_type": "code",
   "execution_count": 131,
   "id": "2d32bab0-8816-496b-9402-abc0d9a005d4",
   "metadata": {},
   "outputs": [
    {
     "data": {
      "text/plain": [
       "0.9999043451143145"
      ]
     },
     "execution_count": 131,
     "metadata": {},
     "output_type": "execute_result"
    }
   ],
   "source": [
    "roc_btw_arr(fgvc_maha, rimgnet_maha)"
   ]
  },
  {
   "cell_type": "code",
   "execution_count": 129,
   "id": "59fa91ac-474f-4a31-9a9a-f00da733df81",
   "metadata": {},
   "outputs": [
    {
     "data": {
      "text/plain": [
       "0.9998689475061002"
      ]
     },
     "execution_count": 129,
     "metadata": {},
     "output_type": "execute_result"
    }
   ],
   "source": [
    "roc_btw_arr(cars_maha, rimgnet_maha)"
   ]
  },
  {
   "cell_type": "code",
   "execution_count": null,
   "id": "88868afd-d363-48a0-a9c1-a11b5b682f28",
   "metadata": {},
   "outputs": [],
   "source": []
  },
  {
   "cell_type": "code",
   "execution_count": 199,
   "id": "bc818c27-1a6f-4b0c-8d28-f76db923ed7d",
   "metadata": {},
   "outputs": [
    {
     "data": {
      "text/plain": [
       "tensor(363.5558)"
      ]
     },
     "execution_count": 199,
     "metadata": {},
     "output_type": "execute_result"
    }
   ],
   "source": [
    "cifar100_maha.min()"
   ]
  },
  {
   "cell_type": "code",
   "execution_count": null,
   "id": "37256168-8431-45f8-a303-4db93564ecd6",
   "metadata": {},
   "outputs": [],
   "source": []
  },
  {
   "cell_type": "code",
   "execution_count": 133,
   "id": "0ac07b2e-e741-4fef-8559-31a0a5fb8afd",
   "metadata": {},
   "outputs": [],
   "source": [
    "def forward_rel_maha_dl(model, dataloader, mean, invcov, whole_mean, whole_invcov):\n",
    "    global device\n",
    "    l_score = []\n",
    "    for xx, _ in tqdm(dataloader):\n",
    "        \n",
    "        out = model(xx.to(device), output_hidden_states=True)\n",
    "        out = out.hidden_states[-1][:,0,:]\n",
    "        out = model.vit.layernorm(out)\n",
    "        \n",
    "        prelogit = out.detach().cpu()\n",
    "        maha = forward_maha(prelogit, mean, invcov)\n",
    "        rel_maha = forward_maha(prelogit, whole_mean, whole_invcov)\n",
    "        l_score.append(maha - rel_maha)\n",
    "    return torch.cat(l_score)"
   ]
  },
  {
   "cell_type": "code",
   "execution_count": 138,
   "id": "f2c8f97a-293f-4bf4-a0e0-e3d163293463",
   "metadata": {},
   "outputs": [
    {
     "data": {
      "application/vnd.jupyter.widget-view+json": {
       "model_id": "fb18fbb67bec428c95f0afbf87471941",
       "version_major": 2,
       "version_minor": 0
      },
      "text/plain": [
       "  0%|          | 0/159 [00:00<?, ?it/s]"
      ]
     },
     "metadata": {},
     "output_type": "display_data"
    },
    {
     "data": {
      "application/vnd.jupyter.widget-view+json": {
       "model_id": "44e6b110468f4ed7930a9ace207c1a7f",
       "version_major": 2,
       "version_minor": 0
      },
      "text/plain": [
       "  0%|          | 0/97 [00:00<?, ?it/s]"
      ]
     },
     "metadata": {},
     "output_type": "display_data"
    },
    {
     "data": {
      "application/vnd.jupyter.widget-view+json": {
       "model_id": "28d016778ffb48f39920691b48546928",
       "version_major": 2,
       "version_minor": 0
      },
      "text/plain": [
       "  0%|          | 0/53 [00:00<?, ?it/s]"
      ]
     },
     "metadata": {},
     "output_type": "display_data"
    },
    {
     "data": {
      "application/vnd.jupyter.widget-view+json": {
       "model_id": "1c7d3befea8e40e5b8c47932dfb96051",
       "version_major": 2,
       "version_minor": 0
      },
      "text/plain": [
       "  0%|          | 0/126 [00:00<?, ?it/s]"
      ]
     },
     "metadata": {},
     "output_type": "display_data"
    }
   ],
   "source": [
    "rimgnet_rel_maha = forward_rel_maha_dl(model, rimgnet_dl, all_means.double(), invcov.double(), whole_mean.unsqueeze(-1).double(), whole_invcov.double())\n",
    "flowers_rel_maha = forward_rel_maha_dl(model, flowers_dl, all_means.double(), invcov.double(), whole_mean.unsqueeze(-1).double(), whole_invcov.double())\n",
    "fgvc_rel_maha = forward_rel_maha_dl(model, fgvc_dl, all_means.double(), invcov.double(), whole_mean.unsqueeze(-1).double(), whole_invcov.double())\n",
    "cars_rel_maha = forward_rel_maha_dl(model, cars_dl, all_means.double(), invcov.double(), whole_mean.unsqueeze(-1).double(), whole_invcov.double())"
   ]
  },
  {
   "cell_type": "code",
   "execution_count": 139,
   "id": "a44a2267-2072-42c6-b47b-90921dd3d510",
   "metadata": {},
   "outputs": [
    {
     "data": {
      "text/plain": [
       "0.9805747259957363"
      ]
     },
     "execution_count": 139,
     "metadata": {},
     "output_type": "execute_result"
    }
   ],
   "source": [
    "roc_btw_arr(flowers_rel_maha, rimgnet_rel_maha)"
   ]
  },
  {
   "cell_type": "code",
   "execution_count": 140,
   "id": "e81a96c2-308e-449a-a809-dd1176e94f1e",
   "metadata": {},
   "outputs": [
    {
     "data": {
      "text/plain": [
       "0.9955143888773114"
      ]
     },
     "execution_count": 140,
     "metadata": {},
     "output_type": "execute_result"
    }
   ],
   "source": [
    "roc_btw_arr(fgvc_rel_maha, rimgnet_rel_maha)"
   ]
  },
  {
   "cell_type": "code",
   "execution_count": 141,
   "id": "e15ecdbe-1a1b-4de9-b893-75388edbd63b",
   "metadata": {},
   "outputs": [
    {
     "data": {
      "text/plain": [
       "0.9962279769383878"
      ]
     },
     "execution_count": 141,
     "metadata": {},
     "output_type": "execute_result"
    }
   ],
   "source": [
    "roc_btw_arr(cars_rel_maha, rimgnet_rel_maha)"
   ]
  },
  {
   "cell_type": "code",
   "execution_count": null,
   "id": "28bb3038-d3b6-4859-9622-961109dd40f1",
   "metadata": {},
   "outputs": [],
   "source": []
  }
 ],
 "metadata": {
  "kernelspec": {
   "display_name": "Python [conda env:evg]",
   "language": "python",
   "name": "conda-env-evg-py"
  },
  "language_info": {
   "codemirror_mode": {
    "name": "ipython",
    "version": 3
   },
   "file_extension": ".py",
   "mimetype": "text/x-python",
   "name": "python",
   "nbconvert_exporter": "python",
   "pygments_lexer": "ipython3",
   "version": "3.8.13"
  }
 },
 "nbformat": 4,
 "nbformat_minor": 5
}
