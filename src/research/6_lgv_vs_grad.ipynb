{
 "cells": [
  {
   "cell_type": "code",
   "execution_count": 1,
   "id": "9011d0ab-9e9a-4c9f-b3bc-6b2bf7f9e3cd",
   "metadata": {},
   "outputs": [],
   "source": [
    "import torch"
   ]
  },
  {
   "cell_type": "code",
   "execution_count": 20,
   "id": "6c9fbf3e-b292-41bf-a269-dfd052e88085",
   "metadata": {},
   "outputs": [],
   "source": [
    "a = torch.load(f'../results/CIFAR10/vit_hf_md/svhn_colorV1_mh/run/advsample_E_0.pkl')\n",
    "b = torch.load(f'../results/CIFAR10/vit_hf_md/svhn_colorV2_mh/run/advsample_E_0.pkl')"
   ]
  },
  {
   "cell_type": "code",
   "execution_count": null,
   "id": "07f2bb41-3ccf-4fe5-a8a6-0cf381a388bb",
   "metadata": {},
   "outputs": [],
   "source": []
  },
  {
   "cell_type": "code",
   "execution_count": 4,
   "id": "aecf50a1-5b8c-455c-9a2f-8de4fc4f9754",
   "metadata": {},
   "outputs": [
    {
     "name": "stdout",
     "output_type": "stream",
     "text": [
      "advsample_E_0.pkl      advsample_z_0.pkl\n",
      "advsample_score_0.pkl  auc_0.txt\n",
      "advsample_x_0.pkl      cifar_vit_hf_md_svhn_affineV1_lgv.yml\n",
      "advsample_xlast_0.pkl\n"
     ]
    }
   ],
   "source": [
    "! ls ../results/CIFAR10/vit_hf_md/svhn_affineV1_lgv/noise_0."
   ]
  },
  {
   "cell_type": "code",
   "execution_count": 2,
   "id": "df44fc2a-dd82-4222-acb2-ced2b9c8196d",
   "metadata": {},
   "outputs": [],
   "source": [
    "l_lgv = []\n",
    "for n in [0.01, 0.05, 0.1, 0.2]:\n",
    "    l_repeat = []\n",
    "    for i in range(1, 6):\n",
    "        a = torch.load(f'../results/CIFAR10/vit_hf_md/svhn_affineV1_lgv/noise_{n}_{i}/advsample_E_0.pkl')\n",
    "        l_repeat.append(a)\n",
    "    l_lgv.append(torch.stack(l_repeat))\n",
    "l_lgv = torch.stack(l_lgv)"
   ]
  },
  {
   "cell_type": "code",
   "execution_count": 3,
   "id": "ebb91d49-dc8d-4e14-ad63-64c0a853a8da",
   "metadata": {},
   "outputs": [
    {
     "data": {
      "text/plain": [
       "torch.Size([4, 5, 50])"
      ]
     },
     "execution_count": 3,
     "metadata": {},
     "output_type": "execute_result"
    }
   ],
   "source": [
    "l_lgv.shape"
   ]
  },
  {
   "cell_type": "code",
   "execution_count": 4,
   "id": "8f525353-c8e3-4c87-8fcc-62d134a71e9a",
   "metadata": {},
   "outputs": [],
   "source": [
    "l_array = []\n",
    "for n in [0.01, 0.05, 0.1, 0.2]:\n",
    "    l_repeat = []\n",
    "    for i in range(1, 6):\n",
    "        a = torch.load(f'../results/CIFAR10/vit_hf_md/svhn_affineV1_grad/stepsize_{n}_{i}/advsample_E_0.pkl')\n",
    "        l_repeat.append(a)\n",
    "    l_array.append(torch.stack(l_repeat))\n",
    "l_grad = torch.stack(l_array)"
   ]
  },
  {
   "cell_type": "code",
   "execution_count": 5,
   "id": "7fc63eb3-ebf3-42b3-adf6-9e1310f0ea55",
   "metadata": {},
   "outputs": [
    {
     "data": {
      "text/plain": [
       "torch.Size([4, 5, 50])"
      ]
     },
     "execution_count": 5,
     "metadata": {},
     "output_type": "execute_result"
    }
   ],
   "source": [
    "l_grad.shape"
   ]
  },
  {
   "cell_type": "code",
   "execution_count": 8,
   "id": "6ff66cce-fe18-4acf-8df1-bd6ad9101ffd",
   "metadata": {},
   "outputs": [
    {
     "data": {
      "text/plain": [
       "tensor([16.7666, 22.3061, 26.4385, 26.2512])"
      ]
     },
     "execution_count": 8,
     "metadata": {},
     "output_type": "execute_result"
    }
   ],
   "source": [
    "l_lgv.mean(dim=2).mean(dim=1)"
   ]
  },
  {
   "cell_type": "code",
   "execution_count": 9,
   "id": "65491a3f-b8dd-45cd-9521-a05173532cc5",
   "metadata": {},
   "outputs": [
    {
     "data": {
      "text/plain": [
       "tensor([ 9.2974, 10.8750, 16.7047, 20.9813, 15.8444, 17.3268, 21.7305, 18.1376,\n",
       "        12.3826, 19.4440,  8.5702,  7.1757, 23.7626,  2.8038,  3.4925,  5.6826,\n",
       "        18.6808, 24.3918, 62.0569,  3.5792, 16.0712, 22.0498,  9.3086, 10.5611,\n",
       "        12.5859, 27.7224,  3.9368, 31.0576,  9.9749, 23.2065, 15.8592, 10.9918,\n",
       "        12.0902, 30.6462, 17.6557,  9.3152, 28.9120, 15.0847, 22.9444, 21.9620,\n",
       "        13.3183, 13.3846, 14.7353, 21.0902, 13.8247, 29.2507, 21.1109,  9.8338,\n",
       "        19.7523,  8.4505])"
      ]
     },
     "execution_count": 9,
     "metadata": {},
     "output_type": "execute_result"
    }
   ],
   "source": [
    "l_lgv[0][0]"
   ]
  },
  {
   "cell_type": "code",
   "execution_count": 10,
   "id": "906fdfd7-4d98-46f4-b7e8-caa2581562f9",
   "metadata": {},
   "outputs": [
    {
     "data": {
      "text/plain": [
       "tensor([ 3.1479,  7.6597, 14.0156,  8.9606, 11.2446, 15.2018, 35.8056, 19.7552,\n",
       "         5.6276, 43.3483,  6.8494, 13.2807, 25.6968,  6.6578,  9.5240,  2.1263,\n",
       "        13.1669,  8.0825, 16.3229,  4.2639, 29.9508, 22.7052, 18.3714,  6.6748,\n",
       "        14.8849, 16.1574,  1.0636,  6.2582, 13.6513, 17.9341, 16.4109, 12.3167,\n",
       "        10.1475, 20.9980, 16.1143,  4.5941, 21.5632, 14.3383, 22.1781, 15.3350,\n",
       "        12.5852,  8.3277, 19.6448, 21.8918,  9.6301, 22.8784, 16.9981, 14.5162,\n",
       "        21.2041, 17.2246])"
      ]
     },
     "execution_count": 10,
     "metadata": {},
     "output_type": "execute_result"
    }
   ],
   "source": [
    "l_lgv[0][1]"
   ]
  },
  {
   "cell_type": "code",
   "execution_count": 11,
   "id": "ba2b3dac-839d-41c9-8ef2-576d00f00f28",
   "metadata": {},
   "outputs": [
    {
     "data": {
      "text/plain": [
       "tensor([ 9.9406,  2.2793, 18.6819, 12.6369, 29.1663, 18.8896, 37.2255, 18.6826,\n",
       "        15.9485, 16.3689, 16.0679, 34.3981, 18.9406,  5.6677, 24.0131, 12.1329,\n",
       "        25.6983,  9.6140, 21.0507,  3.1588, 12.8264, 23.4869, 13.3011, 31.9316,\n",
       "        10.5255, 19.0688,  1.6344,  5.5488,  9.6628, 19.1595, 17.1825, 11.7927,\n",
       "         9.5029, 75.6031, 22.9818,  9.3944, 16.0023, 10.9313, 50.1727, 13.1614,\n",
       "        12.4902, 15.6493, 22.5791,  5.0086, 16.5101, 12.2190, 18.7997, 13.6905,\n",
       "        20.5769, 18.4909])"
      ]
     },
     "execution_count": 11,
     "metadata": {},
     "output_type": "execute_result"
    }
   ],
   "source": [
    "l_lgv[0][2]"
   ]
  },
  {
   "cell_type": "code",
   "execution_count": 12,
   "id": "b63e5a6f-4acd-4b0d-8688-28f9433fc60e",
   "metadata": {},
   "outputs": [
    {
     "data": {
      "text/plain": [
       "tensor([ 9.6520, 12.8857, 14.1716, 14.5626])"
      ]
     },
     "execution_count": 12,
     "metadata": {},
     "output_type": "execute_result"
    }
   ],
   "source": [
    "l_grad.mean(dim=2).mean(dim=1)"
   ]
  },
  {
   "cell_type": "code",
   "execution_count": 13,
   "id": "23af54c1-abc0-4a36-923b-0de8fdc9b96a",
   "metadata": {},
   "outputs": [],
   "source": [
    "a = torch.load('../results/CIFAR10/vit_hf_md/svhn_affineV1_mh/run/advsample_E_0.pkl')"
   ]
  },
  {
   "cell_type": "code",
   "execution_count": 14,
   "id": "9df1bd65-dc27-4c7f-a0c7-fe13773bcea0",
   "metadata": {},
   "outputs": [
    {
     "data": {
      "text/plain": [
       "tensor([ 2.4477,  1.8623,  4.7931,  5.4101,  3.6648,  4.0678, 19.3390,  8.0662,\n",
       "         1.9232,  6.9060,  3.0738, 13.3791,  6.8937,  1.5741,  1.3019,  2.0896,\n",
       "         3.6756,  5.0755,  1.6859,  1.2628,  5.4264, 12.3498,  3.8047,  3.5831,\n",
       "         4.4936,  5.1482,  0.7530,  3.0199,  6.5449,  7.9692,  7.9926,  3.0829,\n",
       "         3.5961, 14.6270,  6.7845,  1.4739,  7.3661,  3.2692,  2.9491,  3.8768,\n",
       "         4.4114,  3.5368,  7.1798,  3.3932,  5.8435,  4.2042,  2.4526,  8.1170,\n",
       "        10.2811,  2.1267])"
      ]
     },
     "execution_count": 14,
     "metadata": {},
     "output_type": "execute_result"
    }
   ],
   "source": [
    "a[:50]"
   ]
  },
  {
   "cell_type": "code",
   "execution_count": 25,
   "id": "a3ea7efc-a6f4-42cc-8c66-15066a7cac43",
   "metadata": {},
   "outputs": [
    {
     "data": {
      "text/plain": [
       "tensor(5.1630)"
      ]
     },
     "execution_count": 25,
     "metadata": {},
     "output_type": "execute_result"
    }
   ],
   "source": [
    "a[:50].mean()"
   ]
  },
  {
   "cell_type": "code",
   "execution_count": 15,
   "id": "ca106b7b-eaaf-43ac-9c92-0811fd53e0bc",
   "metadata": {},
   "outputs": [
    {
     "data": {
      "text/plain": [
       "tensor([False,  True, False, False,  True, False,  True, False, False, False,\n",
       "         True,  True, False,  True,  True,  True, False, False, False, False,\n",
       "        False, False, False,  True, False, False, False, False, False, False,\n",
       "        False, False, False, False, False, False, False, False, False, False,\n",
       "        False, False,  True,  True, False, False, False,  True, False,  True])"
      ]
     },
     "execution_count": 15,
     "metadata": {},
     "output_type": "execute_result"
    }
   ],
   "source": [
    "l_lgv[0][0] < l_grad[0][0]"
   ]
  },
  {
   "cell_type": "code",
   "execution_count": 18,
   "id": "80b9b276-a63c-4d05-9d01-ba133d4c4fa5",
   "metadata": {},
   "outputs": [
    {
     "data": {
      "text/plain": [
       "tensor([ True,  True,  True,  True,  True,  True,  True,  True,  True,  True,\n",
       "         True, False,  True,  True,  True,  True,  True, False,  True,  True,\n",
       "         True,  True, False,  True, False,  True, False,  True,  True, False,\n",
       "         True,  True,  True,  True,  True,  True,  True,  True,  True,  True,\n",
       "         True,  True,  True,  True,  True, False,  True,  True,  True,  True])"
      ]
     },
     "execution_count": 18,
     "metadata": {},
     "output_type": "execute_result"
    }
   ],
   "source": [
    "a[:50] < l_grad[0][0]"
   ]
  },
  {
   "cell_type": "code",
   "execution_count": null,
   "id": "0b2e16de-07d3-4643-91ac-394ea2dde710",
   "metadata": {},
   "outputs": [],
   "source": []
  },
  {
   "cell_type": "code",
   "execution_count": 7,
   "id": "794df613-0d88-47fc-b454-21ee9e9ef88e",
   "metadata": {},
   "outputs": [],
   "source": [
    "a = torch.load('../results/CIFAR10/vit_hf_md/svhn_affineV1_lgv/noise_0./advsample_E_0.pkl')\n",
    "b = torch.load('../results/CIFAR10/vit_hf_md/svhn_affineV1_lgv/noise_0.01/advsample_E_0.pkl')\n",
    "c = torch.load('../results/CIFAR10/vit_hf_md/svhn_affineV1_lgv/noise_0.05/advsample_E_0.pkl')\n",
    "d = torch.load('../results/CIFAR10/vit_hf_md/svhn_affineV1_lgv/noise_0.2/advsample_E_0.pkl')"
   ]
  },
  {
   "cell_type": "code",
   "execution_count": 7,
   "id": "a60ff4fa-af84-463b-967a-b4d8129e5564",
   "metadata": {},
   "outputs": [
    {
     "data": {
      "text/plain": [
       "(tensor(28.5780), tensor(16.1053), tensor(21.2345), tensor(28.1848))"
      ]
     },
     "execution_count": 7,
     "metadata": {},
     "output_type": "execute_result"
    }
   ],
   "source": [
    "a.mean(), b.mean(), c.mean(), d.mean()"
   ]
  },
  {
   "cell_type": "code",
   "execution_count": 8,
   "id": "2927f200-f00d-4ade-93f8-19535057102c",
   "metadata": {},
   "outputs": [
    {
     "data": {
      "text/plain": [
       "tensor([20.0407, 10.7881, 24.3499, 20.9554, 20.3912, 28.6815, 61.8546, 77.6183,\n",
       "        21.6372, 73.0427, 21.9761, 14.0537, 34.6846, 14.2858,  5.5834, 52.4048,\n",
       "        24.9136, 34.0247, 50.6241, 12.5683, 26.9582, 29.4952, 40.4269, 21.1824,\n",
       "        44.3149, 19.8171,  6.9476, 23.2891, 10.3539, 24.0615, 30.2743, 34.0666,\n",
       "        17.9533, 38.3233, 28.4929, 15.2788, 21.2422, 33.4733, 46.1706, 35.1703,\n",
       "        22.3946, 18.6325, 30.1121, 17.7715, 21.8594, 15.1726, 34.0142, 39.9940,\n",
       "        33.1707, 24.0084])"
      ]
     },
     "execution_count": 8,
     "metadata": {},
     "output_type": "execute_result"
    }
   ],
   "source": [
    "a"
   ]
  },
  {
   "cell_type": "code",
   "execution_count": 9,
   "id": "bf2d1b27-4c4a-4519-867e-73beb8c2a1d7",
   "metadata": {},
   "outputs": [
    {
     "data": {
      "text/plain": [
       "tensor([15.5094,  5.5472, 13.6647, 14.0079,  8.5871, 39.2573, 23.4798, 22.9084,\n",
       "        12.9592, 69.8069, 12.9262, 14.3321, 20.8563,  5.3891,  3.3690,  5.2720,\n",
       "        30.9339,  6.2449, 23.2329,  2.4534, 11.0118, 22.8082, 12.4642,  6.6156,\n",
       "        17.4218, 15.9873,  5.7036,  5.6564, 10.5939, 16.8397, 31.8195,  3.8682,\n",
       "         6.4506, 40.4672, 20.3840, 10.9459, 17.9836,  6.6651, 26.8790,  8.3575,\n",
       "        17.2968,  7.6371, 16.5189, 18.7353,  6.3874, 15.0749, 20.1798, 20.1729,\n",
       "        24.3145,  9.2849])"
      ]
     },
     "execution_count": 9,
     "metadata": {},
     "output_type": "execute_result"
    }
   ],
   "source": [
    "b"
   ]
  },
  {
   "cell_type": "code",
   "execution_count": 10,
   "id": "d9659216-a45b-481f-8684-e0e39527e7a7",
   "metadata": {},
   "outputs": [
    {
     "data": {
      "text/plain": [
       "tensor([11.0572, 10.6287, 22.4134, 19.6898, 37.0500, 18.3445, 42.8910, 22.5138,\n",
       "         8.4958, 23.2161, 31.0976, 18.5251, 23.9761,  5.6090, 21.1672, 13.5995,\n",
       "        44.9137, 26.3102, 31.9414, 45.4580, 10.6194, 37.2961, 19.0338, 15.5293,\n",
       "        10.2466, 27.0413,  4.4721, 13.4013, 13.9854, 18.4675, 15.4561, 11.4841,\n",
       "         6.6924, 26.6653, 36.3183,  5.8389, 28.6145, 16.3681, 27.5161,  8.4964,\n",
       "        18.1210, 19.2932, 22.6983,  4.0042, 21.3693, 23.4507, 22.6991, 22.8934,\n",
       "        55.4398, 19.3124])"
      ]
     },
     "execution_count": 10,
     "metadata": {},
     "output_type": "execute_result"
    }
   ],
   "source": [
    "c"
   ]
  },
  {
   "cell_type": "code",
   "execution_count": 11,
   "id": "2c7f5159-52ac-4f38-bc36-88f9cb2c9996",
   "metadata": {},
   "outputs": [
    {
     "data": {
      "text/plain": [
       "tensor([18.7275, 20.5973, 13.3647, 37.7471, 18.4419, 23.8735, 42.8461, 70.7324,\n",
       "        22.9545, 22.6481, 38.4683, 33.6908, 33.9757, 14.6975, 11.4696, 17.0526,\n",
       "        17.1265, 24.2379, 27.6837, 10.1883, 14.8205, 48.1006, 33.3913, 17.2004,\n",
       "        25.8506, 16.7454, 10.9910, 16.7583, 26.8677, 37.4877, 42.7144, 13.6995,\n",
       "        18.9810, 63.2864, 47.1368, 15.5220, 29.0932,  9.9395, 83.3548, 37.1475,\n",
       "        33.6734, 21.1270, 84.0517, 17.1841, 15.1105, 17.9184, 24.5755, 12.9260,\n",
       "        21.3363, 31.7269])"
      ]
     },
     "execution_count": 11,
     "metadata": {},
     "output_type": "execute_result"
    }
   ],
   "source": [
    "d"
   ]
  },
  {
   "cell_type": "code",
   "execution_count": null,
   "id": "326a4bd4-e0f6-40ea-ab3e-e31f7cd94161",
   "metadata": {},
   "outputs": [],
   "source": []
  },
  {
   "cell_type": "code",
   "execution_count": null,
   "id": "4055f92b-3b77-47a4-a189-43d39a109efb",
   "metadata": {},
   "outputs": [],
   "source": []
  },
  {
   "cell_type": "code",
   "execution_count": null,
   "id": "7524ce14-f1a7-4281-b50f-150cd6bc6e57",
   "metadata": {},
   "outputs": [],
   "source": [
    "grad  mh_on  noise_0.  noise_0.01  noise_0.05  noise_0.2  test"
   ]
  },
  {
   "cell_type": "code",
   "execution_count": 25,
   "id": "9ef4dfa7-d090-430b-b413-b29998e36e8b",
   "metadata": {},
   "outputs": [],
   "source": [
    "from torchvision.datasets import Places365"
   ]
  },
  {
   "cell_type": "code",
   "execution_count": 27,
   "id": "19140c57-d99e-485a-a6a6-cd5b1eb15de1",
   "metadata": {},
   "outputs": [
    {
     "ename": "HTTPError",
     "evalue": "HTTP Error 404: Not Found",
     "output_type": "error",
     "traceback": [
      "\u001b[0;31m---------------------------------------------------------------------------\u001b[0m",
      "\u001b[0;31mHTTPError\u001b[0m                                 Traceback (most recent call last)",
      "Cell \u001b[0;32mIn [27], line 1\u001b[0m\n\u001b[0;32m----> 1\u001b[0m \u001b[43mPlaces365\u001b[49m\u001b[43m(\u001b[49m\u001b[43mroot\u001b[49m\u001b[38;5;241;43m=\u001b[39;49m\u001b[38;5;124;43m'\u001b[39;49m\u001b[38;5;124;43m../datasets/places365\u001b[39;49m\u001b[38;5;124;43m'\u001b[39;49m\u001b[43m,\u001b[49m\u001b[43m \u001b[49m\u001b[43mdownload\u001b[49m\u001b[38;5;241;43m=\u001b[39;49m\u001b[38;5;28;43;01mTrue\u001b[39;49;00m\u001b[43m)\u001b[49m\n",
      "File \u001b[0;32m/opt/conda/envs/evg/lib/python3.8/site-packages/torchvision/datasets/places365.py:79\u001b[0m, in \u001b[0;36mPlaces365.__init__\u001b[0;34m(self, root, split, small, download, transform, target_transform, loader)\u001b[0m\n\u001b[1;32m     76\u001b[0m \u001b[38;5;28mself\u001b[39m\u001b[38;5;241m.\u001b[39msmall \u001b[38;5;241m=\u001b[39m small\n\u001b[1;32m     77\u001b[0m \u001b[38;5;28mself\u001b[39m\u001b[38;5;241m.\u001b[39mloader \u001b[38;5;241m=\u001b[39m loader\n\u001b[0;32m---> 79\u001b[0m \u001b[38;5;28mself\u001b[39m\u001b[38;5;241m.\u001b[39mclasses, \u001b[38;5;28mself\u001b[39m\u001b[38;5;241m.\u001b[39mclass_to_idx \u001b[38;5;241m=\u001b[39m \u001b[38;5;28;43mself\u001b[39;49m\u001b[38;5;241;43m.\u001b[39;49m\u001b[43mload_categories\u001b[49m\u001b[43m(\u001b[49m\u001b[43mdownload\u001b[49m\u001b[43m)\u001b[49m\n\u001b[1;32m     80\u001b[0m \u001b[38;5;28mself\u001b[39m\u001b[38;5;241m.\u001b[39mimgs, \u001b[38;5;28mself\u001b[39m\u001b[38;5;241m.\u001b[39mtargets \u001b[38;5;241m=\u001b[39m \u001b[38;5;28mself\u001b[39m\u001b[38;5;241m.\u001b[39mload_file_list(download)\n\u001b[1;32m     82\u001b[0m \u001b[38;5;28;01mif\u001b[39;00m download:\n",
      "File \u001b[0;32m/opt/conda/envs/evg/lib/python3.8/site-packages/torchvision/datasets/places365.py:118\u001b[0m, in \u001b[0;36mPlaces365.load_categories\u001b[0;34m(self, download)\u001b[0m\n\u001b[1;32m    116\u001b[0m file \u001b[38;5;241m=\u001b[39m path\u001b[38;5;241m.\u001b[39mjoin(\u001b[38;5;28mself\u001b[39m\u001b[38;5;241m.\u001b[39mroot, file)\n\u001b[1;32m    117\u001b[0m \u001b[38;5;28;01mif\u001b[39;00m \u001b[38;5;129;01mnot\u001b[39;00m \u001b[38;5;28mself\u001b[39m\u001b[38;5;241m.\u001b[39m_check_integrity(file, md5, download):\n\u001b[0;32m--> 118\u001b[0m     \u001b[38;5;28;43mself\u001b[39;49m\u001b[38;5;241;43m.\u001b[39;49m\u001b[43mdownload_devkit\u001b[49m\u001b[43m(\u001b[49m\u001b[43m)\u001b[49m\n\u001b[1;32m    120\u001b[0m \u001b[38;5;28;01mwith\u001b[39;00m \u001b[38;5;28mopen\u001b[39m(file) \u001b[38;5;28;01mas\u001b[39;00m fh:\n\u001b[1;32m    121\u001b[0m     class_to_idx \u001b[38;5;241m=\u001b[39m \u001b[38;5;28mdict\u001b[39m(process(line) \u001b[38;5;28;01mfor\u001b[39;00m line \u001b[38;5;129;01min\u001b[39;00m fh)\n",
      "File \u001b[0;32m/opt/conda/envs/evg/lib/python3.8/site-packages/torchvision/datasets/places365.py:143\u001b[0m, in \u001b[0;36mPlaces365.download_devkit\u001b[0;34m(self)\u001b[0m\n\u001b[1;32m    141\u001b[0m \u001b[38;5;28;01mdef\u001b[39;00m \u001b[38;5;21mdownload_devkit\u001b[39m(\u001b[38;5;28mself\u001b[39m) \u001b[38;5;241m-\u001b[39m\u001b[38;5;241m>\u001b[39m \u001b[38;5;28;01mNone\u001b[39;00m:\n\u001b[1;32m    142\u001b[0m     file, md5 \u001b[38;5;241m=\u001b[39m \u001b[38;5;28mself\u001b[39m\u001b[38;5;241m.\u001b[39m_DEVKIT_META[\u001b[38;5;28mself\u001b[39m\u001b[38;5;241m.\u001b[39mvariant]\n\u001b[0;32m--> 143\u001b[0m     \u001b[43mdownload_and_extract_archive\u001b[49m\u001b[43m(\u001b[49m\u001b[43murljoin\u001b[49m\u001b[43m(\u001b[49m\u001b[38;5;28;43mself\u001b[39;49m\u001b[38;5;241;43m.\u001b[39;49m\u001b[43m_BASE_URL\u001b[49m\u001b[43m,\u001b[49m\u001b[43m \u001b[49m\u001b[43mfile\u001b[49m\u001b[43m)\u001b[49m\u001b[43m,\u001b[49m\u001b[43m \u001b[49m\u001b[38;5;28;43mself\u001b[39;49m\u001b[38;5;241;43m.\u001b[39;49m\u001b[43mroot\u001b[49m\u001b[43m,\u001b[49m\u001b[43m \u001b[49m\u001b[43mmd5\u001b[49m\u001b[38;5;241;43m=\u001b[39;49m\u001b[43mmd5\u001b[49m\u001b[43m)\u001b[49m\n",
      "File \u001b[0;32m/opt/conda/envs/evg/lib/python3.8/site-packages/torchvision/datasets/utils.py:446\u001b[0m, in \u001b[0;36mdownload_and_extract_archive\u001b[0;34m(url, download_root, extract_root, filename, md5, remove_finished)\u001b[0m\n\u001b[1;32m    443\u001b[0m \u001b[38;5;28;01mif\u001b[39;00m \u001b[38;5;129;01mnot\u001b[39;00m filename:\n\u001b[1;32m    444\u001b[0m     filename \u001b[38;5;241m=\u001b[39m os\u001b[38;5;241m.\u001b[39mpath\u001b[38;5;241m.\u001b[39mbasename(url)\n\u001b[0;32m--> 446\u001b[0m \u001b[43mdownload_url\u001b[49m\u001b[43m(\u001b[49m\u001b[43murl\u001b[49m\u001b[43m,\u001b[49m\u001b[43m \u001b[49m\u001b[43mdownload_root\u001b[49m\u001b[43m,\u001b[49m\u001b[43m \u001b[49m\u001b[43mfilename\u001b[49m\u001b[43m,\u001b[49m\u001b[43m \u001b[49m\u001b[43mmd5\u001b[49m\u001b[43m)\u001b[49m\n\u001b[1;32m    448\u001b[0m archive \u001b[38;5;241m=\u001b[39m os\u001b[38;5;241m.\u001b[39mpath\u001b[38;5;241m.\u001b[39mjoin(download_root, filename)\n\u001b[1;32m    449\u001b[0m \u001b[38;5;28mprint\u001b[39m(\u001b[38;5;124mf\u001b[39m\u001b[38;5;124m\"\u001b[39m\u001b[38;5;124mExtracting \u001b[39m\u001b[38;5;132;01m{\u001b[39;00marchive\u001b[38;5;132;01m}\u001b[39;00m\u001b[38;5;124m to \u001b[39m\u001b[38;5;132;01m{\u001b[39;00mextract_root\u001b[38;5;132;01m}\u001b[39;00m\u001b[38;5;124m\"\u001b[39m)\n",
      "File \u001b[0;32m/opt/conda/envs/evg/lib/python3.8/site-packages/torchvision/datasets/utils.py:146\u001b[0m, in \u001b[0;36mdownload_url\u001b[0;34m(url, root, filename, md5, max_redirect_hops)\u001b[0m\n\u001b[1;32m    143\u001b[0m     _download_file_from_remote_location(fpath, url)\n\u001b[1;32m    144\u001b[0m \u001b[38;5;28;01melse\u001b[39;00m:\n\u001b[1;32m    145\u001b[0m     \u001b[38;5;66;03m# expand redirect chain if needed\u001b[39;00m\n\u001b[0;32m--> 146\u001b[0m     url \u001b[38;5;241m=\u001b[39m \u001b[43m_get_redirect_url\u001b[49m\u001b[43m(\u001b[49m\u001b[43murl\u001b[49m\u001b[43m,\u001b[49m\u001b[43m \u001b[49m\u001b[43mmax_hops\u001b[49m\u001b[38;5;241;43m=\u001b[39;49m\u001b[43mmax_redirect_hops\u001b[49m\u001b[43m)\u001b[49m\n\u001b[1;32m    148\u001b[0m     \u001b[38;5;66;03m# check if file is located on Google Drive\u001b[39;00m\n\u001b[1;32m    149\u001b[0m     file_id \u001b[38;5;241m=\u001b[39m _get_google_drive_file_id(url)\n",
      "File \u001b[0;32m/opt/conda/envs/evg/lib/python3.8/site-packages/torchvision/datasets/utils.py:94\u001b[0m, in \u001b[0;36m_get_redirect_url\u001b[0;34m(url, max_hops)\u001b[0m\n\u001b[1;32m     91\u001b[0m headers \u001b[38;5;241m=\u001b[39m {\u001b[38;5;124m\"\u001b[39m\u001b[38;5;124mMethod\u001b[39m\u001b[38;5;124m\"\u001b[39m: \u001b[38;5;124m\"\u001b[39m\u001b[38;5;124mHEAD\u001b[39m\u001b[38;5;124m\"\u001b[39m, \u001b[38;5;124m\"\u001b[39m\u001b[38;5;124mUser-Agent\u001b[39m\u001b[38;5;124m\"\u001b[39m: USER_AGENT}\n\u001b[1;32m     93\u001b[0m \u001b[38;5;28;01mfor\u001b[39;00m _ \u001b[38;5;129;01min\u001b[39;00m \u001b[38;5;28mrange\u001b[39m(max_hops \u001b[38;5;241m+\u001b[39m \u001b[38;5;241m1\u001b[39m):\n\u001b[0;32m---> 94\u001b[0m     \u001b[38;5;28;01mwith\u001b[39;00m \u001b[43murllib\u001b[49m\u001b[38;5;241;43m.\u001b[39;49m\u001b[43mrequest\u001b[49m\u001b[38;5;241;43m.\u001b[39;49m\u001b[43murlopen\u001b[49m\u001b[43m(\u001b[49m\u001b[43murllib\u001b[49m\u001b[38;5;241;43m.\u001b[39;49m\u001b[43mrequest\u001b[49m\u001b[38;5;241;43m.\u001b[39;49m\u001b[43mRequest\u001b[49m\u001b[43m(\u001b[49m\u001b[43murl\u001b[49m\u001b[43m,\u001b[49m\u001b[43m \u001b[49m\u001b[43mheaders\u001b[49m\u001b[38;5;241;43m=\u001b[39;49m\u001b[43mheaders\u001b[49m\u001b[43m)\u001b[49m\u001b[43m)\u001b[49m \u001b[38;5;28;01mas\u001b[39;00m response:\n\u001b[1;32m     95\u001b[0m         \u001b[38;5;28;01mif\u001b[39;00m response\u001b[38;5;241m.\u001b[39murl \u001b[38;5;241m==\u001b[39m url \u001b[38;5;129;01mor\u001b[39;00m response\u001b[38;5;241m.\u001b[39murl \u001b[38;5;129;01mis\u001b[39;00m \u001b[38;5;28;01mNone\u001b[39;00m:\n\u001b[1;32m     96\u001b[0m             \u001b[38;5;28;01mreturn\u001b[39;00m url\n",
      "File \u001b[0;32m/opt/conda/envs/evg/lib/python3.8/urllib/request.py:222\u001b[0m, in \u001b[0;36murlopen\u001b[0;34m(url, data, timeout, cafile, capath, cadefault, context)\u001b[0m\n\u001b[1;32m    220\u001b[0m \u001b[38;5;28;01melse\u001b[39;00m:\n\u001b[1;32m    221\u001b[0m     opener \u001b[38;5;241m=\u001b[39m _opener\n\u001b[0;32m--> 222\u001b[0m \u001b[38;5;28;01mreturn\u001b[39;00m \u001b[43mopener\u001b[49m\u001b[38;5;241;43m.\u001b[39;49m\u001b[43mopen\u001b[49m\u001b[43m(\u001b[49m\u001b[43murl\u001b[49m\u001b[43m,\u001b[49m\u001b[43m \u001b[49m\u001b[43mdata\u001b[49m\u001b[43m,\u001b[49m\u001b[43m \u001b[49m\u001b[43mtimeout\u001b[49m\u001b[43m)\u001b[49m\n",
      "File \u001b[0;32m/opt/conda/envs/evg/lib/python3.8/urllib/request.py:531\u001b[0m, in \u001b[0;36mOpenerDirector.open\u001b[0;34m(self, fullurl, data, timeout)\u001b[0m\n\u001b[1;32m    529\u001b[0m \u001b[38;5;28;01mfor\u001b[39;00m processor \u001b[38;5;129;01min\u001b[39;00m \u001b[38;5;28mself\u001b[39m\u001b[38;5;241m.\u001b[39mprocess_response\u001b[38;5;241m.\u001b[39mget(protocol, []):\n\u001b[1;32m    530\u001b[0m     meth \u001b[38;5;241m=\u001b[39m \u001b[38;5;28mgetattr\u001b[39m(processor, meth_name)\n\u001b[0;32m--> 531\u001b[0m     response \u001b[38;5;241m=\u001b[39m \u001b[43mmeth\u001b[49m\u001b[43m(\u001b[49m\u001b[43mreq\u001b[49m\u001b[43m,\u001b[49m\u001b[43m \u001b[49m\u001b[43mresponse\u001b[49m\u001b[43m)\u001b[49m\n\u001b[1;32m    533\u001b[0m \u001b[38;5;28;01mreturn\u001b[39;00m response\n",
      "File \u001b[0;32m/opt/conda/envs/evg/lib/python3.8/urllib/request.py:640\u001b[0m, in \u001b[0;36mHTTPErrorProcessor.http_response\u001b[0;34m(self, request, response)\u001b[0m\n\u001b[1;32m    637\u001b[0m \u001b[38;5;66;03m# According to RFC 2616, \"2xx\" code indicates that the client's\u001b[39;00m\n\u001b[1;32m    638\u001b[0m \u001b[38;5;66;03m# request was successfully received, understood, and accepted.\u001b[39;00m\n\u001b[1;32m    639\u001b[0m \u001b[38;5;28;01mif\u001b[39;00m \u001b[38;5;129;01mnot\u001b[39;00m (\u001b[38;5;241m200\u001b[39m \u001b[38;5;241m<\u001b[39m\u001b[38;5;241m=\u001b[39m code \u001b[38;5;241m<\u001b[39m \u001b[38;5;241m300\u001b[39m):\n\u001b[0;32m--> 640\u001b[0m     response \u001b[38;5;241m=\u001b[39m \u001b[38;5;28;43mself\u001b[39;49m\u001b[38;5;241;43m.\u001b[39;49m\u001b[43mparent\u001b[49m\u001b[38;5;241;43m.\u001b[39;49m\u001b[43merror\u001b[49m\u001b[43m(\u001b[49m\n\u001b[1;32m    641\u001b[0m \u001b[43m        \u001b[49m\u001b[38;5;124;43m'\u001b[39;49m\u001b[38;5;124;43mhttp\u001b[39;49m\u001b[38;5;124;43m'\u001b[39;49m\u001b[43m,\u001b[49m\u001b[43m \u001b[49m\u001b[43mrequest\u001b[49m\u001b[43m,\u001b[49m\u001b[43m \u001b[49m\u001b[43mresponse\u001b[49m\u001b[43m,\u001b[49m\u001b[43m \u001b[49m\u001b[43mcode\u001b[49m\u001b[43m,\u001b[49m\u001b[43m \u001b[49m\u001b[43mmsg\u001b[49m\u001b[43m,\u001b[49m\u001b[43m \u001b[49m\u001b[43mhdrs\u001b[49m\u001b[43m)\u001b[49m\n\u001b[1;32m    643\u001b[0m \u001b[38;5;28;01mreturn\u001b[39;00m response\n",
      "File \u001b[0;32m/opt/conda/envs/evg/lib/python3.8/urllib/request.py:569\u001b[0m, in \u001b[0;36mOpenerDirector.error\u001b[0;34m(self, proto, *args)\u001b[0m\n\u001b[1;32m    567\u001b[0m \u001b[38;5;28;01mif\u001b[39;00m http_err:\n\u001b[1;32m    568\u001b[0m     args \u001b[38;5;241m=\u001b[39m (\u001b[38;5;28mdict\u001b[39m, \u001b[38;5;124m'\u001b[39m\u001b[38;5;124mdefault\u001b[39m\u001b[38;5;124m'\u001b[39m, \u001b[38;5;124m'\u001b[39m\u001b[38;5;124mhttp_error_default\u001b[39m\u001b[38;5;124m'\u001b[39m) \u001b[38;5;241m+\u001b[39m orig_args\n\u001b[0;32m--> 569\u001b[0m     \u001b[38;5;28;01mreturn\u001b[39;00m \u001b[38;5;28;43mself\u001b[39;49m\u001b[38;5;241;43m.\u001b[39;49m\u001b[43m_call_chain\u001b[49m\u001b[43m(\u001b[49m\u001b[38;5;241;43m*\u001b[39;49m\u001b[43margs\u001b[49m\u001b[43m)\u001b[49m\n",
      "File \u001b[0;32m/opt/conda/envs/evg/lib/python3.8/urllib/request.py:502\u001b[0m, in \u001b[0;36mOpenerDirector._call_chain\u001b[0;34m(self, chain, kind, meth_name, *args)\u001b[0m\n\u001b[1;32m    500\u001b[0m \u001b[38;5;28;01mfor\u001b[39;00m handler \u001b[38;5;129;01min\u001b[39;00m handlers:\n\u001b[1;32m    501\u001b[0m     func \u001b[38;5;241m=\u001b[39m \u001b[38;5;28mgetattr\u001b[39m(handler, meth_name)\n\u001b[0;32m--> 502\u001b[0m     result \u001b[38;5;241m=\u001b[39m \u001b[43mfunc\u001b[49m\u001b[43m(\u001b[49m\u001b[38;5;241;43m*\u001b[39;49m\u001b[43margs\u001b[49m\u001b[43m)\u001b[49m\n\u001b[1;32m    503\u001b[0m     \u001b[38;5;28;01mif\u001b[39;00m result \u001b[38;5;129;01mis\u001b[39;00m \u001b[38;5;129;01mnot\u001b[39;00m \u001b[38;5;28;01mNone\u001b[39;00m:\n\u001b[1;32m    504\u001b[0m         \u001b[38;5;28;01mreturn\u001b[39;00m result\n",
      "File \u001b[0;32m/opt/conda/envs/evg/lib/python3.8/urllib/request.py:649\u001b[0m, in \u001b[0;36mHTTPDefaultErrorHandler.http_error_default\u001b[0;34m(self, req, fp, code, msg, hdrs)\u001b[0m\n\u001b[1;32m    648\u001b[0m \u001b[38;5;28;01mdef\u001b[39;00m \u001b[38;5;21mhttp_error_default\u001b[39m(\u001b[38;5;28mself\u001b[39m, req, fp, code, msg, hdrs):\n\u001b[0;32m--> 649\u001b[0m     \u001b[38;5;28;01mraise\u001b[39;00m HTTPError(req\u001b[38;5;241m.\u001b[39mfull_url, code, msg, hdrs, fp)\n",
      "\u001b[0;31mHTTPError\u001b[0m: HTTP Error 404: Not Found"
     ]
    }
   ],
   "source": [
    "Places365(root='../datasets/places365')"
   ]
  }
 ],
 "metadata": {
  "kernelspec": {
   "display_name": "Python [conda env:evg]",
   "language": "python",
   "name": "conda-env-evg-py"
  },
  "language_info": {
   "codemirror_mode": {
    "name": "ipython",
    "version": 3
   },
   "file_extension": ".py",
   "mimetype": "text/x-python",
   "name": "python",
   "nbconvert_exporter": "python",
   "pygments_lexer": "ipython3",
   "version": "3.8.13"
  }
 },
 "nbformat": 4,
 "nbformat_minor": 5
}
