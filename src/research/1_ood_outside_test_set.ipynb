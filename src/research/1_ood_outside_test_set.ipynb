{
 "cells": [
  {
   "cell_type": "code",
   "execution_count": 60,
   "id": "9c1a6634-653f-4d08-9078-48486b307beb",
   "metadata": {},
   "outputs": [],
   "source": [
    "import torch\n",
    "import numpy as np\n",
    "import matplotlib.pyplot as plt\n",
    "import copy"
   ]
  },
  {
   "cell_type": "code",
   "execution_count": 61,
   "id": "093cfb1e-165b-415c-b526-8fa9dd7bb46c",
   "metadata": {},
   "outputs": [],
   "source": [
    "import sys\n",
    "sys.path.append('../')\n",
    "from models import load_pretrained\n",
    "from loader import get_dataloader\n",
    "from utils import batch_run, roc_btw_arr"
   ]
  },
  {
   "cell_type": "code",
   "execution_count": 62,
   "id": "a6539b9f-dcff-4d41-83b5-9a6632a0eb45",
   "metadata": {},
   "outputs": [],
   "source": [
    "device = 'cuda:3'"
   ]
  },
  {
   "cell_type": "code",
   "execution_count": 63,
   "id": "38d79e21-95c0-4415-ab33-b816e39590c4",
   "metadata": {},
   "outputs": [],
   "source": [
    "m, _ = load_pretrained('cifar_ood_oe_scratch/allconv/', 'oe_scratch_allconv.yml', \n",
    "                       'cifar10_allconv_oe_scratch_epoch_99.pt', root='../pretrained', network='allconv', num_classes=10)"
   ]
  },
  {
   "cell_type": "code",
   "execution_count": 42,
   "id": "cb8d909b-9de2-4968-819d-7697925aebfa",
   "metadata": {},
   "outputs": [
    {
     "name": "stderr",
     "output_type": "stream",
     "text": [
      "/opt/conda/envs/evg/lib/python3.8/site-packages/sklearn/base.py:329: UserWarning: Trying to unpickle estimator LogisticRegressionCV from version 0.24.1 when using version 1.1.2. This might lead to breaking code or invalid results. Use at your own risk. For more info please refer to:\n",
      "https://scikit-learn.org/stable/model_persistence.html#security-maintainability-limitations\n",
      "  warnings.warn(\n"
     ]
    }
   ],
   "source": [
    "# m, _ = load_pretrained('cifar_ood_md/md_resnet', 'md_resnet_cifar.yml', 'resnet_cifar10.pth', root='../pretrained', lr_tunned_with='SVHN_OOD')"
   ]
  },
  {
   "cell_type": "code",
   "execution_count": 64,
   "id": "ee34de2c-de2c-419a-94c4-de0982b43bb8",
   "metadata": {},
   "outputs": [],
   "source": [
    "augmentations = {\n",
    "    \"normalize\": {\n",
    "        \"mean\": (0.4914, 0.4822, 0.4465),\n",
    "        \"std\": (0.2471, 0.2435, 0.2615),\n",
    "    },\n",
    "}\n",
    "\n",
    "# augmentations = {\n",
    "#     \"normalize\": {\n",
    "#             \"mean\": (0.4914, 0.4822, 0.4465),\n",
    "#             \"std\": (0.2023, 0.1994, 0.2010),\n",
    "#     },\n",
    "# }"
   ]
  },
  {
   "cell_type": "code",
   "execution_count": 65,
   "id": "cc3a74b7-fe67-4a4e-8863-26ca8364a86d",
   "metadata": {},
   "outputs": [],
   "source": [
    "size = 32; channel = 3\n",
    "data_dict = {\n",
    "    \"path\": \"../datasets\",\n",
    "    \"size\": size,\n",
    "    \"channel\": channel,\n",
    "    \"batch_size\": 64,\n",
    "    \"n_workers\": 4,\n",
    "    \"split\": \"evaluation\",\n",
    "    #              'split': 'validation',\n",
    "}\n",
    "data_dict[\"dequant\"] = augmentations"
   ]
  },
  {
   "cell_type": "code",
   "execution_count": 66,
   "id": "9a921abe-60e1-46d4-bcbf-702b53723c22",
   "metadata": {},
   "outputs": [
    {
     "name": "stdout",
     "output_type": "stream",
     "text": [
      "Using No Augmentations\n",
      "Using normalize aug with params {'mean': (0.4914, 0.4822, 0.4465), 'std': (0.2471, 0.2435, 0.2615)}\n",
      "Files already downloaded and verified\n",
      "Files already downloaded and verified\n"
     ]
    }
   ],
   "source": [
    "data_dict_ = copy.copy(data_dict)\n",
    "data_dict_['dataset'] = 'CIFAR10_OOD'\n",
    "in_dl = get_dataloader(data_dict_)"
   ]
  },
  {
   "cell_type": "code",
   "execution_count": 67,
   "id": "503eec67-e351-42f6-ad3f-e9c840efb86a",
   "metadata": {},
   "outputs": [
    {
     "name": "stdout",
     "output_type": "stream",
     "text": [
      "Using No Augmentations\n",
      "Using normalize aug with params {'mean': (0.4914, 0.4822, 0.4465), 'std': (0.2471, 0.2435, 0.2615)}\n",
      "Using downloaded and verified file: ../datasets/test_32x32.mat\n"
     ]
    }
   ],
   "source": [
    "data_dict_ = copy.copy(data_dict)\n",
    "data_dict_['dataset'] = 'SVHN_OOD'\n",
    "out_dl = get_dataloader(data_dict_)"
   ]
  },
  {
   "cell_type": "code",
   "execution_count": 68,
   "id": "c641bb1b-a9d6-4916-9ee0-05c98e965f8b",
   "metadata": {},
   "outputs": [
    {
     "name": "stdout",
     "output_type": "stream",
     "text": [
      "Using No Augmentations\n",
      "Using normalize aug with params {'mean': (0.4914, 0.4822, 0.4465), 'std': (0.2471, 0.2435, 0.2615)}\n",
      "Using downloaded and verified file: ../datasets/train_32x32.mat\n"
     ]
    }
   ],
   "source": [
    "data_dict_ = copy.copy(data_dict)\n",
    "data_dict_['dataset'] = 'SVHN_OOD'\n",
    "data_dict_['split'] = 'training'\n",
    "out_train_dl = get_dataloader(data_dict_)"
   ]
  },
  {
   "cell_type": "code",
   "execution_count": 69,
   "id": "34279d6a-66d1-4c43-af48-25117a3b40db",
   "metadata": {},
   "outputs": [],
   "source": [
    "m = m.to(device)"
   ]
  },
  {
   "cell_type": "code",
   "execution_count": 70,
   "id": "7b7dd311-e13e-4ad3-9bb2-9cd06db3c23a",
   "metadata": {},
   "outputs": [],
   "source": [
    "in_score = batch_run(m, in_dl, device=device, no_grad=False)\n",
    "out_score = batch_run(m, out_dl, device=device, no_grad=False)"
   ]
  },
  {
   "cell_type": "code",
   "execution_count": 71,
   "id": "a89a7ed1-5641-4f60-a81c-8fa6628baf28",
   "metadata": {},
   "outputs": [],
   "source": [
    "out_train_score = batch_run(m, out_train_dl, device=device, no_grad=False)"
   ]
  },
  {
   "cell_type": "code",
   "execution_count": 72,
   "id": "d3c3a0f9-c023-4247-9d73-669b00897e60",
   "metadata": {},
   "outputs": [
    {
     "data": {
      "text/plain": [
       "torch.Size([65930])"
      ]
     },
     "execution_count": 72,
     "metadata": {},
     "output_type": "execute_result"
    }
   ],
   "source": [
    "out_train_score.shape"
   ]
  },
  {
   "cell_type": "code",
   "execution_count": 73,
   "id": "904f7b09-68c0-46f0-b897-2ccad382fbc5",
   "metadata": {},
   "outputs": [
    {
     "data": {
      "text/plain": [
       "torch.Size([10000])"
      ]
     },
     "execution_count": 73,
     "metadata": {},
     "output_type": "execute_result"
    }
   ],
   "source": [
    "in_score.shape"
   ]
  },
  {
   "cell_type": "code",
   "execution_count": 74,
   "id": "c7099f5c-b82f-430e-bacf-f167b56d19ff",
   "metadata": {},
   "outputs": [
    {
     "data": {
      "image/png": "[encoded data removed]",
      "text/plain": [
       "<Figure size 640x480 with 1 Axes>"
      ]
     },
     "metadata": {},
     "output_type": "display_data"
    }
   ],
   "source": [
    "plt.hist(in_score.numpy(), density=True, alpha=0.3, bins=20)\n",
    "plt.hist(out_score.numpy(), density=True, alpha=0.3, bins=20);"
   ]
  },
  {
   "cell_type": "code",
   "execution_count": 75,
   "id": "77806f7a-276c-4bfa-bf82-6c2fe67658a7",
   "metadata": {},
   "outputs": [
    {
     "data": {
      "image/png": "[encoded data removed]",
      "text/plain": [
       "<Figure size 640x480 with 1 Axes>"
      ]
     },
     "metadata": {},
     "output_type": "display_data"
    }
   ],
   "source": [
    "plt.hist(out_train_score.numpy(), density=True, alpha=0.3, bins=20)\n",
    "plt.hist(out_score.numpy(), density=True, alpha=0.3, bins=20);"
   ]
  },
  {
   "cell_type": "code",
   "execution_count": 78,
   "id": "cf82bb70-fcf9-4f9e-82b7-828c18352296",
   "metadata": {},
   "outputs": [
    {
     "data": {
      "text/plain": [
       "tensor(-0.9958)"
      ]
     },
     "execution_count": 78,
     "metadata": {},
     "output_type": "execute_result"
    }
   ],
   "source": [
    "out_train_score.min()"
   ]
  },
  {
   "cell_type": "code",
   "execution_count": 79,
   "id": "b60c429d-48c4-4534-81d1-41bee0b1e3d7",
   "metadata": {},
   "outputs": [
    {
     "data": {
      "text/plain": [
       "tensor(-0.9987)"
      ]
     },
     "execution_count": 79,
     "metadata": {},
     "output_type": "execute_result"
    }
   ],
   "source": [
    "out_score.min()"
   ]
  }
 ],
 "metadata": {
  "kernelspec": {
   "display_name": "Python [conda env:evg]",
   "language": "python",
   "name": "conda-env-evg-py"
  },
  "language_info": {
   "codemirror_mode": {
    "name": "ipython",
    "version": 3
   },
   "file_extension": ".py",
   "mimetype": "text/x-python",
   "name": "python",
   "nbconvert_exporter": "python",
   "pygments_lexer": "ipython3",
   "version": "3.8.13"
  }
 },
 "nbformat": 4,
 "nbformat_minor": 5
}
