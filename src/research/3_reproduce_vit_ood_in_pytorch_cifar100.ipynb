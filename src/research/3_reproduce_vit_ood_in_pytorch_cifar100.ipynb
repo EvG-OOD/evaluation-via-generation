{
 "cells": [
  {
   "cell_type": "markdown",
   "id": "bec27c09-7a2d-4d7c-bec6-5a45698b3dcb",
   "metadata": {},
   "source": [
    "# ViT OOD in PyTorch"
   ]
  },
  {
   "cell_type": "code",
   "execution_count": null,
   "id": "d842eb4f-cbe3-46bf-aa35-56a0acb51178",
   "metadata": {},
   "outputs": [],
   "source": [
    "device = 'cuda:0'"
   ]
  },
  {
   "cell_type": "markdown",
   "id": "9a504b25-1758-4b8a-982a-90db77d0d885",
   "metadata": {},
   "source": [
    "## dataset"
   ]
  },
  {
   "cell_type": "code",
   "execution_count": null,
   "id": "204742cf-ace8-4eb3-a62a-18a08651eb2a",
   "metadata": {},
   "outputs": [
    {
     "name": "stderr",
     "output_type": "stream",
     "text": [
      "Found cached dataset cifar100 (/root/.cache/huggingface/datasets/cifar100/cifar100/1.0.0/f365c8b725c23e8f0f8d725c3641234d9331cd2f62919d1381d1baa5b3ba3142)\n"
     ]
    },
    {
     "data": {
      "application/vnd.jupyter.widget-view+json": {
       "model_id": "00a9235442ea4f948388e168922556f3",
       "version_major": 2,
       "version_minor": 0
      },
      "text/plain": [
       "  0%|          | 0/2 [00:00<?, ?it/s]"
      ]
     },
     "metadata": {},
     "output_type": "display_data"
    },
    {
     "name": "stderr",
     "output_type": "stream",
     "text": [
      "Found cached dataset cifar100 (/root/.cache/huggingface/datasets/cifar100/cifar100/1.0.0/f365c8b725c23e8f0f8d725c3641234d9331cd2f62919d1381d1baa5b3ba3142)\n",
      "Found cached dataset cifar10 (/root/.cache/huggingface/datasets/cifar10/plain_text/1.0.0/447d6ec4733dddd1ce3bb577c7166b986eaa4c538dcd9e805ba61f35674a9de4)\n"
     ]
    }
   ],
   "source": [
    "from datasets import load_dataset\n",
    "\n",
    "train_ds, test_ds = load_dataset('cifar10', split=['train', 'test[:2000]'])\n",
    "splits = train_ds.train_test_split(test_size=0.1)\n",
    "train_ds = splits['train']\n",
    "val_ds = splits['test']\n",
    "cifar100_ds = load_dataset('cifar100', split='test[:2000]');\n",
    "\n",
    "cifar10_train_ds = load_dataset('cifar10', split='train')"
   ]
  },
  {
   "cell_type": "code",
   "execution_count": null,
   "id": "15f0e6ac-6d2b-482c-92bc-f93d61e31629",
   "metadata": {},
   "outputs": [
    {
     "data": {
      "image/png": "[encoded data removed]",
      "text/plain": [
       "<PIL.PngImagePlugin.PngImageFile image mode=RGB size=32x32>"
      ]
     },
     "execution_count": 3,
     "metadata": {},
     "output_type": "execute_result"
    }
   ],
   "source": [
    "cifar100_ds[1]['img']"
   ]
  },
  {
   "cell_type": "code",
   "execution_count": null,
   "id": "1f1cd7c1-a506-44b3-a438-accb1a10d00d",
   "metadata": {},
   "outputs": [
    {
     "data": {
      "image/png": "[encoded data removed]",
      "text/plain": [
       "<PIL.PngImagePlugin.PngImageFile image mode=RGB size=32x32>"
      ]
     },
     "execution_count": 4,
     "metadata": {},
     "output_type": "execute_result"
    }
   ],
   "source": [
    "train_ds[0]['img']"
   ]
  },
  {
   "cell_type": "code",
   "execution_count": null,
   "id": "7214fd1d-17ac-4c29-bf1a-291b5d70f679",
   "metadata": {},
   "outputs": [
    {
     "ename": "KeyError",
     "evalue": "'label'",
     "output_type": "error",
     "traceback": [
      "\u001b[0;31m---------------------------------------------------------------------------\u001b[0m",
      "\u001b[0;31mKeyError\u001b[0m                                  Traceback (most recent call last)",
      "Cell \u001b[0;32mIn [5], line 1\u001b[0m\n\u001b[0;32m----> 1\u001b[0m id2label \u001b[38;5;241m=\u001b[39m {\u001b[38;5;28mid\u001b[39m:label \u001b[38;5;28;01mfor\u001b[39;00m \u001b[38;5;28mid\u001b[39m, label \u001b[38;5;129;01min\u001b[39;00m \u001b[38;5;28menumerate\u001b[39m(\u001b[43mtrain_ds\u001b[49m\u001b[38;5;241;43m.\u001b[39;49m\u001b[43mfeatures\u001b[49m\u001b[43m[\u001b[49m\u001b[38;5;124;43m'\u001b[39;49m\u001b[38;5;124;43mlabel\u001b[39;49m\u001b[38;5;124;43m'\u001b[39;49m\u001b[43m]\u001b[49m\u001b[38;5;241m.\u001b[39mnames)}\n\u001b[1;32m      2\u001b[0m label2id \u001b[38;5;241m=\u001b[39m {label:\u001b[38;5;28mid\u001b[39m \u001b[38;5;28;01mfor\u001b[39;00m \u001b[38;5;28mid\u001b[39m,label \u001b[38;5;129;01min\u001b[39;00m id2label\u001b[38;5;241m.\u001b[39mitems()}\n\u001b[1;32m      3\u001b[0m id2label\n",
      "\u001b[0;31mKeyError\u001b[0m: 'label'"
     ]
    }
   ],
   "source": [
    "id2label = {id:label for id, label in enumerate(train_ds.features['label'].names)}\n",
    "label2id = {label:id for id,label in id2label.items()}\n",
    "id2label"
   ]
  },
  {
   "cell_type": "code",
   "execution_count": null,
   "id": "571950af-37ef-47c4-915a-47f0a069cef2",
   "metadata": {},
   "outputs": [],
   "source": [
    "from transformers import ViTFeatureExtractor\n",
    "\n",
    "model_name_or_path = 'google/vit-base-patch16-224-in21k'\n",
    "feature_extractor = ViTFeatureExtractor.from_pretrained(model_name_or_path)"
   ]
  },
  {
   "cell_type": "code",
   "execution_count": null,
   "id": "f7776b0b-95a8-47f3-b28a-b2499fe82953",
   "metadata": {},
   "outputs": [],
   "source": [
    "from torchvision.transforms import (CenterCrop, \n",
    "                                    Compose, \n",
    "                                    Normalize, \n",
    "                                    RandomHorizontalFlip,\n",
    "                                    RandomResizedCrop, \n",
    "                                    Resize, \n",
    "                                    ToTensor)\n",
    "\n",
    "normalize = Normalize(mean=feature_extractor.image_mean, std=feature_extractor.image_std)\n",
    "_train_transforms = Compose(\n",
    "        [\n",
    "            RandomResizedCrop(feature_extractor.size),\n",
    "            RandomHorizontalFlip(),\n",
    "            ToTensor(),\n",
    "            normalize,\n",
    "        ]\n",
    "    )\n",
    "\n",
    "_val_transforms = Compose(\n",
    "        [\n",
    "            Resize(feature_extractor.size),\n",
    "            CenterCrop(feature_extractor.size),\n",
    "            ToTensor(),\n",
    "            normalize,\n",
    "        ]\n",
    "    )\n",
    "\n",
    "def train_transforms(examples):\n",
    "    examples['pixel_values'] = [_train_transforms(image.convert(\"RGB\")) for image in examples['img']]\n",
    "    return examples\n",
    "\n",
    "def val_transforms(examples):\n",
    "    examples['pixel_values'] = [_val_transforms(image.convert(\"RGB\")) for image in examples['img']]\n",
    "    return examples"
   ]
  },
  {
   "cell_type": "code",
   "execution_count": null,
   "id": "b6fd836c-410d-44a5-bbf8-9b0ffccf5835",
   "metadata": {},
   "outputs": [],
   "source": [
    "# Set the transforms\n",
    "train_ds.set_transform(train_transforms)\n",
    "\n",
    "val_ds.set_transform(val_transforms)\n",
    "test_ds.set_transform(val_transforms)"
   ]
  },
  {
   "cell_type": "code",
   "execution_count": null,
   "id": "b8ac25ad-e811-42e6-a8aa-62dc9ef7f970",
   "metadata": {},
   "outputs": [],
   "source": [
    "cifar100_ds.set_transform(val_transforms)\n",
    "cifar10_train_ds.set_transform(val_transforms)"
   ]
  },
  {
   "cell_type": "code",
   "execution_count": null,
   "id": "d2d5f1cc-03d1-4b42-8fbb-d5d7efcfdef7",
   "metadata": {},
   "outputs": [],
   "source": [
    "from transformers import ViTForImageClassification\n",
    "\n",
    "model = ViTForImageClassification.from_pretrained('google/vit-base-patch16-224-in21k',\n",
    "                                                  num_labels=10,\n",
    "                                                  id2label=id2label,\n",
    "                                                  label2id=label2id)"
   ]
  },
  {
   "cell_type": "code",
   "execution_count": null,
   "id": "bda94542-7d13-4f00-ba29-a556f4fcaafe",
   "metadata": {},
   "outputs": [],
   "source": [
    "from transformers import TrainingArguments, Trainer\n",
    "\n",
    "metric_name = \"accuracy\"\n",
    "\n",
    "args = TrainingArguments(\n",
    "    f\"test-cifar-10\",\n",
    "    save_strategy=\"epoch\",\n",
    "    evaluation_strategy=\"epoch\",\n",
    "    learning_rate=2e-5,\n",
    "    per_device_train_batch_size=10,\n",
    "    per_device_eval_batch_size=4,\n",
    "    num_train_epochs=3,\n",
    "    weight_decay=0.01,\n",
    "    load_best_model_at_end=True,\n",
    "    metric_for_best_model=metric_name,\n",
    "    logging_dir='logs',\n",
    "    remove_unused_columns=False,\n",
    ")"
   ]
  },
  {
   "cell_type": "code",
   "execution_count": null,
   "id": "d76167e7-9093-4f23-839b-d98f46ca52bf",
   "metadata": {},
   "outputs": [],
   "source": [
    "from datasets import load_metric\n",
    "# import evaluate\n",
    "import numpy as np\n",
    "\n",
    "metric = load_metric(\"accuracy\")\n",
    "\n",
    "def compute_metrics(eval_pred):\n",
    "    predictions, labels = eval_pred\n",
    "    predictions = np.argmax(predictions, axis=1)\n",
    "    return metric.compute(predictions=predictions, references=labels)"
   ]
  },
  {
   "cell_type": "code",
   "execution_count": null,
   "id": "74589708-f114-499d-8432-13baf6437fb6",
   "metadata": {},
   "outputs": [],
   "source": [
    "from torch.utils.data import DataLoader\n",
    "import torch\n",
    "\n",
    "def collate_fn(examples):\n",
    "    pixel_values = torch.stack([example[\"pixel_values\"] for example in examples])\n",
    "    labels = torch.tensor([example[\"label\"] for example in examples])\n",
    "    return {\"pixel_values\": pixel_values, \"labels\": labels}\n",
    "\n",
    "def collate_fn_cifar100(examples):\n",
    "    pixel_values = torch.stack([example[\"pixel_values\"] for example in examples])\n",
    "    labels = torch.tensor([example[\"fine_label\"] for example in examples])\n",
    "    return {\"pixel_values\": pixel_values, \"labels\": labels}\n",
    "\n",
    "train_dataloader = DataLoader(test_ds, collate_fn=collate_fn, batch_size=4)\n",
    "test_dataloader = DataLoader(test_ds, collate_fn=collate_fn, batch_size=4)\n",
    "cifar100_dataloader = DataLoader(cifar100_ds, collate_fn=collate_fn_cifar100, batch_size=4)\n",
    "cifar10_train_dataloader = DataLoader(cifar10_train_ds, collate_fn=collate_fn, batch_size=4)"
   ]
  },
  {
   "cell_type": "code",
   "execution_count": null,
   "id": "d9c0c901-4f28-4246-867b-ed6be5ad0918",
   "metadata": {},
   "outputs": [],
   "source": [
    "import torch\n",
    "\n",
    "trainer = Trainer(\n",
    "    model,\n",
    "    args,\n",
    "    train_dataset=train_ds,\n",
    "    eval_dataset=val_ds,\n",
    "    data_collator=collate_fn,\n",
    "    compute_metrics=compute_metrics,\n",
    "    tokenizer=feature_extractor,\n",
    ")"
   ]
  },
  {
   "cell_type": "code",
   "execution_count": null,
   "id": "0db90437-e3dd-4e3b-a0f2-fc33f9baa77a",
   "metadata": {},
   "outputs": [],
   "source": [
    "trainer.train()"
   ]
  },
  {
   "cell_type": "markdown",
   "id": "024ecc36-8809-49c2-a732-db933c8ebcf5",
   "metadata": {},
   "source": [
    "## Classification output"
   ]
  },
  {
   "cell_type": "code",
   "execution_count": null,
   "id": "61adbfb7-3a92-4740-8a06-b1183485fb09",
   "metadata": {},
   "outputs": [],
   "source": [
    "outputs = trainer.predict(test_ds)"
   ]
  },
  {
   "cell_type": "code",
   "execution_count": null,
   "id": "9594a66d-b8dd-4cee-8600-4145bf6cba83",
   "metadata": {},
   "outputs": [],
   "source": [
    "\n",
    "from sklearn.metrics import confusion_matrix, ConfusionMatrixDisplay\n",
    "\n",
    "y_true = outputs.label_ids\n",
    "y_pred = outputs.predictions.argmax(1)\n",
    "\n",
    "labels = train_ds.features['label'].names\n",
    "cm = confusion_matrix(y_true, y_pred)\n",
    "disp = ConfusionMatrixDisplay(confusion_matrix=cm, display_labels=labels)\n",
    "disp.plot(xticks_rotation=45)"
   ]
  },
  {
   "cell_type": "markdown",
   "id": "dbb49615-98d9-40f6-9384-7cb08c1c66ef",
   "metadata": {},
   "source": [
    "# Evaluate"
   ]
  },
  {
   "cell_type": "code",
   "execution_count": null,
   "id": "bb5b14f4-2664-4420-9872-7d5c437dc4fa",
   "metadata": {},
   "outputs": [],
   "source": [
    "from tqdm.notebook import tqdm"
   ]
  },
  {
   "cell_type": "code",
   "execution_count": null,
   "id": "64f619a1-c2f5-42b8-9661-03ef80ee0e4e",
   "metadata": {},
   "outputs": [],
   "source": [
    "def get_logit(model, dl):\n",
    "    l_pred = []\n",
    "    for xx in tqdm(dl):\n",
    "        with torch.no_grad():\n",
    "            pred = model(xx['pixel_values'].cuda(), output_hidden_states=False)\n",
    "            # pred.logits\n",
    "            # pred.hidden_states\n",
    "        l_pred.append(pred.logits.detach().cpu())\n",
    "    return torch.cat(l_pred)\n",
    "\n",
    "def get_prelogit(model, dl):\n",
    "    l_pred = []\n",
    "    for xx in tqdm(dl):\n",
    "        with torch.no_grad():\n",
    "            out = model(xx['pixel_values'].cuda(), output_hidden_states=True)\n",
    "            out = out.hidden_states[-1][:,0,:]\n",
    "            out = model.vit.layernorm(out)\n",
    "        l_pred.append(out.detach().cpu())\n",
    "    return torch.cat(l_pred)"
   ]
  },
  {
   "cell_type": "code",
   "execution_count": null,
   "id": "7b1e039f-ce60-4e77-af4f-f43008aa325b",
   "metadata": {},
   "outputs": [],
   "source": [
    "cifar10_pred = get_logit(model, test_dataloader)\n",
    "cifar100_pred = get_logit(model, cifar100_dataloader)"
   ]
  },
  {
   "cell_type": "code",
   "execution_count": null,
   "id": "91e93bb6-c491-471b-8c90-1c336281292c",
   "metadata": {},
   "outputs": [],
   "source": [
    "cifar100_pred.shape, cifar10_pred.shape"
   ]
  },
  {
   "cell_type": "code",
   "execution_count": null,
   "id": "29c84e05-9cc9-435c-80f7-27780cedc7fa",
   "metadata": {},
   "outputs": [],
   "source": [
    "from torch.nn.functional import softmax"
   ]
  },
  {
   "cell_type": "code",
   "execution_count": null,
   "id": "59263b22-8a6a-4340-8cc2-342bcaabf79e",
   "metadata": {},
   "outputs": [],
   "source": [
    "cifar100_msp = torch.max(softmax(cifar100_pred, dim=1),dim=1).values\n",
    "cifar10_msp = torch.max(softmax(cifar10_pred, dim=1),dim=1).values"
   ]
  },
  {
   "cell_type": "code",
   "execution_count": null,
   "id": "237b779d-15df-4225-b2e9-8c839e17df9e",
   "metadata": {},
   "outputs": [],
   "source": [
    "cifar100_msp.shape"
   ]
  },
  {
   "cell_type": "code",
   "execution_count": null,
   "id": "cf204053-7882-4487-a314-926b6ed3ae36",
   "metadata": {},
   "outputs": [],
   "source": [
    "import sys\n",
    "sys.path.append('../')\n",
    "from utils import roc_btw_arr"
   ]
  },
  {
   "cell_type": "code",
   "execution_count": null,
   "id": "a9394728-45c6-4b08-927b-3618b6c73ec0",
   "metadata": {},
   "outputs": [],
   "source": [
    "roc_btw_arr(cifar10_msp, cifar100_msp)"
   ]
  },
  {
   "cell_type": "markdown",
   "id": "1ac578be-1aa6-40ae-be52-68603d4d610a",
   "metadata": {},
   "source": [
    "### Mahalanobis distance"
   ]
  },
  {
   "cell_type": "code",
   "execution_count": null,
   "id": "46373115-9323-4ed5-914b-dd72c150debe",
   "metadata": {},
   "outputs": [],
   "source": [
    "prelogit = get_prelogit(model, cifar10_train_dataloader)"
   ]
  },
  {
   "cell_type": "code",
   "execution_count": null,
   "id": "249acb45-4100-4671-afe7-ce72f94d5354",
   "metadata": {},
   "outputs": [],
   "source": [
    "prelogit"
   ]
  },
  {
   "cell_type": "code",
   "execution_count": null,
   "id": "ea767ed5-cc72-46a6-a7f0-d0afb9666a42",
   "metadata": {},
   "outputs": [],
   "source": [
    "cifar10_train_label = torch.tensor([cifar10_train_ds[i]['label'] for i in range(len(cifar10_train_ds))])"
   ]
  },
  {
   "cell_type": "code",
   "execution_count": null,
   "id": "c41e1fa9-151e-40b4-b08b-369fdbf9df59",
   "metadata": {},
   "outputs": [],
   "source": [
    "cifar10_train_label.shape"
   ]
  },
  {
   "cell_type": "code",
   "execution_count": null,
   "id": "f7e9a9ed-c3da-435d-97a9-a8b5027f7e93",
   "metadata": {},
   "outputs": [],
   "source": [
    "'''mahalanobis statistics computation'''\n",
    "l_mean = []\n",
    "l_outer = []\n",
    "for k in range(10):\n",
    "    subset_x = prelogit[cifar10_train_label == k]\n",
    "    subset_mean = torch.mean(subset_x, dim=0, keepdim=True)\n",
    "    # subset_outer = torch.cov(subset_x - subset_mean, correction=0) * len(subset_x)\n",
    "    v = subset_x - subset_mean\n",
    "    subset_outer = v.T.mm(v)\n",
    "    l_mean.append(subset_mean)\n",
    "    l_outer.append(subset_outer)\n",
    "pooled_cov = torch.sum(torch.stack(l_outer), dim=0) / len(prelogit)\n",
    "all_means = torch.stack(l_mean, dim=-1)\n",
    "invcov = torch.linalg.inv(pooled_cov)"
   ]
  },
  {
   "cell_type": "code",
   "execution_count": null,
   "id": "c06bdce4-1194-4975-bfda-fb30e8d03331",
   "metadata": {},
   "outputs": [],
   "source": [
    "'''relative mahalanobis statistics'''\n",
    "whole_mean = torch.mean(prelogit, dim=0, keepdim=True)\n",
    "v = prelogit - whole_mean\n",
    "whole_cov = v.T.mm(v) / len(prelogit)\n",
    "whole_invcov = torch.linalg.inv(whole_cov)"
   ]
  },
  {
   "cell_type": "code",
   "execution_count": null,
   "id": "047cbd43-6157-47ac-9dbd-4b27ffbe4e20",
   "metadata": {},
   "outputs": [],
   "source": [
    "pooled_cov"
   ]
  },
  {
   "cell_type": "code",
   "execution_count": null,
   "id": "af2400cb-0873-45ee-a23d-cd3840da5b7c",
   "metadata": {},
   "outputs": [],
   "source": [
    "pooled_cov[0,:10]"
   ]
  },
  {
   "cell_type": "code",
   "execution_count": null,
   "id": "ffaacba4-f882-42f0-9a49-2616576c08f4",
   "metadata": {},
   "outputs": [],
   "source": [
    "whole_cov[0,:10]"
   ]
  },
  {
   "cell_type": "code",
   "execution_count": null,
   "id": "f01ac0bf-a4a8-4f48-97a3-4b5ba562c79f",
   "metadata": {},
   "outputs": [],
   "source": [
    "def forward_maha(xx, mean, invcov):\n",
    "    \"\"\"\n",
    "    mean: [1, D, K]\n",
    "    invcov: [D, D]\n",
    "    \"\"\"\n",
    "    z = xx.unsqueeze(-1) - mean\n",
    "    op1 = torch.einsum('ijk,jl->ilk', z, invcov)\n",
    "    op2 = torch.einsum('ijk,ijk->ik', op1, z)  # [B, K]\n",
    "    \n",
    "    return torch.min(op2, dim=1).values\n",
    "    \n",
    "def forward_maha_dl(model, dataloader, mean, invcov):\n",
    "    l_score = []\n",
    "    for xx in tqdm(dataloader):\n",
    "        \n",
    "        out = model(xx['pixel_values'].cuda(), output_hidden_states=True)\n",
    "        out = out.hidden_states[-1][:,0,:]\n",
    "        out = model.vit.layernorm(out)\n",
    "        \n",
    "        prelogit = out.detach().cpu()\n",
    "        score = forward_maha(prelogit, mean, invcov)\n",
    "        l_score.append(score)\n",
    "    return torch.cat(l_score)\n",
    "# forward_maha(subset_x, all_means, invcov)\n",
    "\n",
    "cifar10_maha = forward_maha_dl(model, test_dataloader, all_means, invcov)\n",
    "cifar100_maha = forward_maha_dl(model, cifar100_dataloader, all_means, invcov)"
   ]
  },
  {
   "cell_type": "code",
   "execution_count": null,
   "id": "5745ecd8-075f-4d2f-83a2-de5b389dfe8b",
   "metadata": {},
   "outputs": [],
   "source": [
    "roc_btw_arr(cifar100_maha, cifar10_maha)"
   ]
  },
  {
   "cell_type": "code",
   "execution_count": null,
   "id": "37256168-8431-45f8-a303-4db93564ecd6",
   "metadata": {},
   "outputs": [],
   "source": []
  },
  {
   "cell_type": "code",
   "execution_count": null,
   "id": "0ac07b2e-e741-4fef-8559-31a0a5fb8afd",
   "metadata": {},
   "outputs": [],
   "source": [
    "def forward_rel_maha_dl(model, dataloader, mean, invcov, whole_mean, whole_invcov):\n",
    "    l_score = []\n",
    "    for xx in tqdm(dataloader):\n",
    "        \n",
    "        out = model(xx['pixel_values'].cuda(), output_hidden_states=True)\n",
    "        out = out.hidden_states[-1][:,0,:]\n",
    "        out = model.vit.layernorm(out)\n",
    "        \n",
    "        prelogit = out.detach().cpu()\n",
    "        maha = forward_maha(prelogit, mean, invcov)\n",
    "        rel_maha = forward_maha(prelogit, whole_mean, whole_invcov)\n",
    "        l_score.append(maha - rel_maha)\n",
    "    return torch.cat(l_score)"
   ]
  },
  {
   "cell_type": "code",
   "execution_count": null,
   "id": "f2c8f97a-293f-4bf4-a0e0-e3d163293463",
   "metadata": {},
   "outputs": [],
   "source": [
    "cifar10_rel_maha = forward_rel_maha_dl(model, test_dataloader, all_means, invcov, whole_mean.unsqueeze(-1), whole_invcov)\n",
    "cifar100_rel_maha = forward_rel_maha_dl(model, cifar100_dataloader, all_means, invcov, whole_mean.unsqueeze(-1), whole_invcov)"
   ]
  },
  {
   "cell_type": "code",
   "execution_count": null,
   "id": "4f450386-691d-4886-8666-a6842b03c27e",
   "metadata": {},
   "outputs": [
    {
     "data": {
      "application/vnd.jupyter.widget-view+json": {
       "model_id": "db5c557b64d340de978bc129e3869ace",
       "version_major": 2,
       "version_minor": 0
      },
      "text/plain": [
       "  0%|          | 0/500 [00:00<?, ?it/s]"
      ]
     },
     "metadata": {},
     "output_type": "display_data"
    }
   ],
   "source": [
    "dataloader = cifar100_dataloader; mean = all_means\n",
    "l_score = []\n",
    "for xx in tqdm(dataloader):\n",
    "\n",
    "    out = model(xx['pixel_values'].cuda(), output_hidden_states=True)\n",
    "    out = out.hidden_states[-1][:,0,:]\n",
    "    out = model.vit.layernorm(out)\n",
    "\n",
    "    prelogit = out.detach().cpu()\n",
    "    maha = forward_maha(prelogit, mean, invcov)\n",
    "    rel_maha = forward_maha(prelogit, whole_mean.unsqueeze(-1), whole_invcov)\n",
    "    l_score.append(maha - rel_maha)\n",
    "    break"
   ]
  },
  {
   "cell_type": "code",
   "execution_count": null,
   "id": "f013f2a3-2e3c-4dd9-8c45-57214e348030",
   "metadata": {},
   "outputs": [
    {
     "data": {
      "application/vnd.jupyter.widget-view+json": {
       "model_id": "4fe5960b3baa46ed9f053df97019926a",
       "version_major": 2,
       "version_minor": 0
      },
      "text/plain": [
       "  0%|          | 0/500 [00:00<?, ?it/s]"
      ]
     },
     "metadata": {},
     "output_type": "display_data"
    }
   ],
   "source": [
    "dataloader = test_dataloader; mean = all_means\n",
    "l_score = []\n",
    "for xx in tqdm(dataloader):\n",
    "\n",
    "    out = model(xx['pixel_values'].cuda(), output_hidden_states=True)\n",
    "    out = out.hidden_states[-1][:,0,:]\n",
    "    out = model.vit.layernorm(out)\n",
    "\n",
    "    prelogit = out.detach().cpu()\n",
    "    maha = forward_maha(prelogit, mean, invcov)\n",
    "    rel_maha = forward_maha(prelogit, whole_mean.unsqueeze(-1), whole_invcov)\n",
    "    l_score.append(maha - rel_maha)\n",
    "    break"
   ]
  },
  {
   "cell_type": "code",
   "execution_count": null,
   "id": "d2630d96-f46c-4792-8367-79a101935058",
   "metadata": {},
   "outputs": [
    {
     "data": {
      "text/plain": [
       "tensor([ 513.5379,  419.4996,  958.2922, 1164.3411])"
      ]
     },
     "execution_count": 110,
     "metadata": {},
     "output_type": "execute_result"
    }
   ],
   "source": [
    "maha"
   ]
  },
  {
   "cell_type": "code",
   "execution_count": null,
   "id": "61bae8bd-41e3-49f4-8e0a-2847f9423fc8",
   "metadata": {},
   "outputs": [
    {
     "data": {
      "text/plain": [
       "tensor([ 506.6990,  423.5738,  963.2341, 1211.3817])"
      ]
     },
     "execution_count": 111,
     "metadata": {},
     "output_type": "execute_result"
    }
   ],
   "source": [
    "rel_maha"
   ]
  },
  {
   "cell_type": "code",
   "execution_count": null,
   "id": "18456c9a-89af-4a02-b266-027f67199bbb",
   "metadata": {},
   "outputs": [],
   "source": [
    "a = next(iter(cifar100_dataloader))['pixel_values']"
   ]
  },
  {
   "cell_type": "code",
   "execution_count": null,
   "id": "313b4c74-a1f1-4af3-aa41-44be6d9588c6",
   "metadata": {},
   "outputs": [
    {
     "data": {
      "text/plain": [
       "torch.Size([4, 3, 224, 224])"
      ]
     },
     "execution_count": 98,
     "metadata": {},
     "output_type": "execute_result"
    }
   ],
   "source": [
    "a.shape"
   ]
  },
  {
   "cell_type": "code",
   "execution_count": null,
   "id": "5d83138e-4f3c-46ec-bbb3-561b75067db9",
   "metadata": {},
   "outputs": [],
   "source": [
    "x = prelogit[:4]"
   ]
  },
  {
   "cell_type": "code",
   "execution_count": null,
   "id": "c982a003-3f3c-4528-bf61-5dcf9fea7ac6",
   "metadata": {},
   "outputs": [
    {
     "data": {
      "text/plain": [
       "tensor([ 408.0565, 1345.5720, 1123.5537,  992.5492])"
      ]
     },
     "execution_count": 100,
     "metadata": {},
     "output_type": "execute_result"
    }
   ],
   "source": [
    "forward_maha(x, whole_mean.unsqueeze(-1), whole_invcov)"
   ]
  },
  {
   "cell_type": "code",
   "execution_count": null,
   "id": "be480d64-69c1-484f-a6ea-720616781ed2",
   "metadata": {},
   "outputs": [
    {
     "data": {
      "text/plain": [
       "tensor([ 381.7560, 1362.5967, 1141.3389,  988.6481])"
      ]
     },
     "execution_count": 101,
     "metadata": {},
     "output_type": "execute_result"
    }
   ],
   "source": [
    "forward_maha(x, all_means, invcov)"
   ]
  },
  {
   "cell_type": "code",
   "execution_count": null,
   "id": "82aca46a-07b2-4f92-8ace-606bce59b0d0",
   "metadata": {},
   "outputs": [
    {
     "data": {
      "text/plain": [
       "tensor([16501669., 16561424., 17615810., 17188552.])"
      ]
     },
     "execution_count": 90,
     "metadata": {},
     "output_type": "execute_result"
    }
   ],
   "source": [
    "invcov[0][0:4]"
   ]
  },
  {
   "cell_type": "code",
   "execution_count": null,
   "id": "589bd6f7-b347-4b07-a405-6ec2f40536f6",
   "metadata": {},
   "outputs": [
    {
     "data": {
      "text/plain": [
       "tensor([-190196.2812, -191974.5312, -204199.4375, -199183.9219])"
      ]
     },
     "execution_count": 91,
     "metadata": {},
     "output_type": "execute_result"
    }
   ],
   "source": [
    "whole_invcov[0][0:4]"
   ]
  },
  {
   "cell_type": "code",
   "execution_count": null,
   "id": "c0441a59-dfbe-4f0d-b1fe-da97b48b07ac",
   "metadata": {},
   "outputs": [
    {
     "data": {
      "text/plain": [
       "tensor(-0.3713)"
      ]
     },
     "execution_count": 85,
     "metadata": {},
     "output_type": "execute_result"
    }
   ],
   "source": [
    "all_means[0][:5].sum()"
   ]
  },
  {
   "cell_type": "code",
   "execution_count": null,
   "id": "3807b712-16af-4d54-8a31-afce9a7d1070",
   "metadata": {},
   "outputs": [
    {
     "data": {
      "text/plain": [
       "tensor(-0.0371)"
      ]
     },
     "execution_count": 86,
     "metadata": {},
     "output_type": "execute_result"
    }
   ],
   "source": [
    "whole_mean[0][:5].sum()"
   ]
  },
  {
   "cell_type": "code",
   "execution_count": null,
   "id": "a44a2267-2072-42c6-b47b-90921dd3d510",
   "metadata": {},
   "outputs": [],
   "source": [
    "roc_btw_arr(cifar100_rel_maha, cifar10_rel_maha)"
   ]
  },
  {
   "cell_type": "code",
   "execution_count": null,
   "id": "134a6110-f9a3-4c63-b0b0-e2e2afa2de08",
   "metadata": {},
   "outputs": [],
   "source": [
    "import matplotlib.pyplot as plt"
   ]
  },
  {
   "cell_type": "code",
   "execution_count": null,
   "id": "d96c0490-4c98-42ac-8eb1-c3c002460e59",
   "metadata": {},
   "outputs": [
    {
     "data": {
      "image/png": "[encoded data removed]",
      "text/plain": [
       "<Figure size 640x480 with 1 Axes>"
      ]
     },
     "metadata": {},
     "output_type": "display_data"
    }
   ],
   "source": [
    "plt.hist(cifar10_rel_maha.numpy());\n",
    "plt.hist(cifar100_rel_maha.numpy());"
   ]
  },
  {
   "cell_type": "code",
   "execution_count": null,
   "id": "65222b61-32d0-4329-8509-9591ce5fed4d",
   "metadata": {},
   "outputs": [
    {
     "data": {
      "text/plain": [
       "0.49329033"
      ]
     },
     "execution_count": 42,
     "metadata": {},
     "output_type": "execute_result"
    }
   ],
   "source": [
    "roc_btw_arr(cifar100_rel_maha, cifar10_rel_maha)"
   ]
  }
 ],
 "metadata": {
  "kernelspec": {
   "display_name": "Python [conda env:evg]",
   "language": "python",
   "name": "conda-env-evg-py"
  },
  "language_info": {
   "codemirror_mode": {
    "name": "ipython",
    "version": 3
   },
   "file_extension": ".py",
   "mimetype": "text/x-python",
   "name": "python",
   "nbconvert_exporter": "python",
   "pygments_lexer": "ipython3",
   "version": "3.8.13"
  }
 },
 "nbformat": 4,
 "nbformat_minor": 5
}
