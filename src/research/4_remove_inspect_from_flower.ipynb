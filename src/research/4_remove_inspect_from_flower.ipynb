{
 "cells": [
  {
   "cell_type": "code",
   "execution_count": 1,
   "id": "3a5565db-83f3-4d42-ab95-bb5d6bb4256d",
   "metadata": {},
   "outputs": [],
   "source": [
    "import sys\n",
    "sys.path.append('../')\n",
    "from tqdm.auto import tqdm\n",
    "from loader import get_dataloader\n",
    "from augmentations import get_composed_augmentations\n",
    "import torch\n",
    "\n",
    "from tqdm.notebook import tqdm\n",
    "\n",
    "from torch.nn.functional import softmax\n",
    "\n",
    "import sys\n",
    "sys.path.append('../')\n",
    "from utils import roc_btw_arr"
   ]
  },
  {
   "cell_type": "code",
   "execution_count": 9,
   "id": "d5c953a1-90dc-4bdb-8531-10da36c3a7ab",
   "metadata": {},
   "outputs": [],
   "source": [
    "import numpy as np"
   ]
  },
  {
   "cell_type": "code",
   "execution_count": 2,
   "id": "5134b69a-16c8-42a9-a5bb-56181d37ee32",
   "metadata": {},
   "outputs": [
    {
     "name": "stdout",
     "output_type": "stream",
     "text": [
      "Using No Augmentations\n",
      "Using No Augmentations\n"
     ]
    }
   ],
   "source": [
    "flowers_dl = get_dataloader({'dataset': 'Flowers', \n",
    "                           'split':'evaluation', \n",
    "                           'path': '../datasets', \n",
    "                           'batch_size': 64, \n",
    "                           'n_workers': 2, \n",
    "                           'shuffle':False})"
   ]
  },
  {
   "cell_type": "code",
   "execution_count": 14,
   "id": "77127bd3-eac0-4f35-bc7a-ed51d38c8ade",
   "metadata": {},
   "outputs": [],
   "source": [
    "import matplotlib.pyplot as plt"
   ]
  },
  {
   "cell_type": "code",
   "execution_count": 7,
   "id": "a3206258-f1eb-400b-ab48-c4c80d21bb3c",
   "metadata": {},
   "outputs": [],
   "source": [
    "ds = flowers_dl.dataset"
   ]
  },
  {
   "cell_type": "code",
   "execution_count": 33,
   "id": "11303029-d5f0-4df8-92cc-1a14f779ebb8",
   "metadata": {},
   "outputs": [
    {
     "data": {
      "text/plain": [
       "array([6734, 6735, 6737, ..., 8044, 8045, 8047], dtype=uint16)"
      ]
     },
     "execution_count": 33,
     "metadata": {},
     "output_type": "execute_result"
    }
   ],
   "source": [
    "ds.indices"
   ]
  },
  {
   "cell_type": "code",
   "execution_count": 34,
   "id": "21e54300-7702-41c5-888b-78bdf8b6c5b9",
   "metadata": {},
   "outputs": [
    {
     "data": {
      "text/plain": [
       "6149"
      ]
     },
     "execution_count": 34,
     "metadata": {},
     "output_type": "execute_result"
    }
   ],
   "source": [
    "len(ds.indices)"
   ]
  },
  {
   "cell_type": "code",
   "execution_count": 4,
   "id": "2a8b0036-bc25-4185-8699-d5f27f156a06",
   "metadata": {},
   "outputs": [],
   "source": [
    "a = torch.load('../results/RImgNet/vit_hf_md/OOD_rank_Flowers.pkl')"
   ]
  },
  {
   "cell_type": "code",
   "execution_count": 5,
   "id": "4e6656ef-41ca-402f-9870-3df92ae9b1ef",
   "metadata": {},
   "outputs": [
    {
     "data": {
      "text/plain": [
       "array([10122, 10109, 10090, ..., 10056, 10037, 10104])"
      ]
     },
     "execution_count": 5,
     "metadata": {},
     "output_type": "execute_result"
    }
   ],
   "source": [
    "a"
   ]
  },
  {
   "cell_type": "code",
   "execution_count": 10,
   "id": "3c8c77b5-ab64-460e-8ea2-75be1d90cffe",
   "metadata": {},
   "outputs": [],
   "source": [
    "sorted_idx = np.argsort(a)"
   ]
  },
  {
   "cell_type": "code",
   "execution_count": 11,
   "id": "43c46745-800f-4fe9-b452-0e5cdefa9b3e",
   "metadata": {},
   "outputs": [
    {
     "data": {
      "text/plain": [
       "array([2105,  548, 5521, ..., 1902,  925,  825])"
      ]
     },
     "execution_count": 11,
     "metadata": {},
     "output_type": "execute_result"
    }
   ],
   "source": [
    "sorted_idx"
   ]
  },
  {
   "cell_type": "code",
   "execution_count": 39,
   "id": "893afe0f-88c1-4be5-9c1a-f1401a4f7755",
   "metadata": {},
   "outputs": [],
   "source": [
    "vis_img = torch.stack([ds[i][0] for i in sorted_idx[:64]\n",
    "                      if i not in {sorted_idx[j] for j in [0,1,2,3,4,6,7,10]}])"
   ]
  },
  {
   "cell_type": "code",
   "execution_count": 102,
   "id": "1bf2860a-adbb-4a31-afc6-12ef34a4424d",
   "metadata": {},
   "outputs": [],
   "source": [
    "l_insects = [2105, 548, 5521, 6062, 3856, 798, 2125, 2192, 544, 912, 2122, 6057, 2166, 321, 2175, 2278, 2761, 2232, 2110, 5870,\n",
    "            917, 5816, 2191, 2174, 2705, 5709, 4136, 610, 2167, 5515, 808, 3606, 2196, 3124, 1080, 487, 602, 462, 4118]"
   ]
  },
  {
   "cell_type": "code",
   "execution_count": 116,
   "id": "288e5481-a907-4011-b863-86747192aaf5",
   "metadata": {},
   "outputs": [],
   "source": [
    "l_insect_indices = ds.indices[l_insects]"
   ]
  },
  {
   "cell_type": "code",
   "execution_count": 121,
   "id": "c454bf99-9e0f-489d-8388-ece8c9a3fd58",
   "metadata": {},
   "outputs": [],
   "source": [
    "torch.save(l_insect_indices, 'remove_flower_index.pkl')"
   ]
  },
  {
   "cell_type": "code",
   "execution_count": 114,
   "id": "46d124e2-cc6b-4739-92cd-c7da0639ab33",
   "metadata": {},
   "outputs": [],
   "source": [
    "import shutil"
   ]
  },
  {
   "cell_type": "code",
   "execution_count": 115,
   "id": "56e23cc4-2670-42ea-91e4-a6139b15ace4",
   "metadata": {},
   "outputs": [],
   "source": [
    "! mkdir -p ../datasets/flowers_clean/jpg"
   ]
  },
  {
   "cell_type": "code",
   "execution_count": 118,
   "id": "18043b97-91d8-47fb-8a1a-4f7a5ca596b2",
   "metadata": {},
   "outputs": [
    {
     "data": {
      "text/plain": [
       "6149"
      ]
     },
     "execution_count": 118,
     "metadata": {},
     "output_type": "execute_result"
    }
   ],
   "source": [
    "len(ds.indices)"
   ]
  },
  {
   "cell_type": "code",
   "execution_count": 119,
   "id": "c46354e9-43e4-4fb0-8bdc-941a8d642cd6",
   "metadata": {},
   "outputs": [
    {
     "data": {
      "text/plain": [
       "39"
      ]
     },
     "execution_count": 119,
     "metadata": {},
     "output_type": "execute_result"
    }
   ],
   "source": [
    "len(l_insects)"
   ]
  },
  {
   "cell_type": "code",
   "execution_count": 120,
   "id": "47397a21-f3d1-4872-8cf9-c49cdf41dc63",
   "metadata": {},
   "outputs": [
    {
     "data": {
      "text/plain": [
       "6110"
      ]
     },
     "execution_count": 120,
     "metadata": {},
     "output_type": "execute_result"
    }
   ],
   "source": [
    "6149 - 39"
   ]
  },
  {
   "cell_type": "code",
   "execution_count": 117,
   "id": "9fc3f931-d53b-4072-9056-c48a2f6d3193",
   "metadata": {},
   "outputs": [],
   "source": [
    "for idx in ds.indices:\n",
    "    if idx not in l_insect_indices:\n",
    "        shutil.copy(f'../datasets/flowers/jpg/image_{idx:05d}.jpg', f'../datasets/flowers_clean/jpg/image_{idx:05d}.jpg')"
   ]
  },
  {
   "cell_type": "code",
   "execution_count": null,
   "id": "40a83617-d442-4989-b52e-dc962583bfe9",
   "metadata": {},
   "outputs": [],
   "source": [
    "[0,1,2,3,4,6,7,10]"
   ]
  },
  {
   "cell_type": "code",
   "execution_count": 28,
   "id": "a26072c7-afd1-4906-9ab5-9035eb80005e",
   "metadata": {},
   "outputs": [],
   "source": [
    "from torchvision.utils import make_grid"
   ]
  },
  {
   "cell_type": "code",
   "execution_count": null,
   "id": "11be2865-ad5e-46c6-9528-e8f42b968fa9",
   "metadata": {},
   "outputs": [],
   "source": []
  },
  {
   "cell_type": "code",
   "execution_count": null,
   "id": "ba4e646b-df89-4cda-b7f8-f5472a58d87e",
   "metadata": {},
   "outputs": [],
   "source": []
  },
  {
   "cell_type": "code",
   "execution_count": 122,
   "id": "daefdaac-d131-412f-abd7-5757b87f9696",
   "metadata": {},
   "outputs": [
    {
     "name": "stdout",
     "output_type": "stream",
     "text": [
      "Using No Augmentations\n",
      "Using No Augmentations\n"
     ]
    }
   ],
   "source": [
    "fgvc_dl = get_dataloader({'dataset': 'FGVC', \n",
    "                           'split':'evaluation', \n",
    "                           'path': '../datasets', \n",
    "                           'batch_size': 64, \n",
    "                           'n_workers': 2, \n",
    "                           'shuffle':False})"
   ]
  },
  {
   "cell_type": "code",
   "execution_count": 123,
   "id": "cac01666-06e4-460e-8b19-120bc9513e67",
   "metadata": {},
   "outputs": [],
   "source": [
    "ds = fgvc_dl.dataset"
   ]
  },
  {
   "cell_type": "code",
   "execution_count": 126,
   "id": "0a37235c-2278-4f43-9371-d50fce70f88f",
   "metadata": {},
   "outputs": [],
   "source": [
    "! mkdir ../datasets/FGVC_test_gan"
   ]
  },
  {
   "cell_type": "code",
   "execution_count": 127,
   "id": "d97bc026-8fe1-483f-a77c-4621e946f302",
   "metadata": {},
   "outputs": [],
   "source": [
    "import os"
   ]
  },
  {
   "cell_type": "code",
   "execution_count": 128,
   "id": "c3150d8e-4119-4cb3-8e87-0c4b80c43c7a",
   "metadata": {},
   "outputs": [
    {
     "ename": "NameError",
     "evalue": "name 'file' is not defined",
     "output_type": "error",
     "traceback": [
      "\u001b[0;31m---------------------------------------------------------------------------\u001b[0m",
      "\u001b[0;31mNameError\u001b[0m                                 Traceback (most recent call last)",
      "Cell \u001b[0;32mIn [128], line 1\u001b[0m\n\u001b[0;32m----> 1\u001b[0m os\u001b[38;5;241m.\u001b[39mpath\u001b[38;5;241m.\u001b[39mbasename(\u001b[43mfile\u001b[49m)\n",
      "\u001b[0;31mNameError\u001b[0m: name 'file' is not defined"
     ]
    }
   ],
   "source": [
    "os.path.basename(file)"
   ]
  },
  {
   "cell_type": "code",
   "execution_count": 131,
   "id": "6946f86e-ac77-4378-8c70-a4ec2aeefc62",
   "metadata": {},
   "outputs": [],
   "source": [
    "for file, _ in ds.samples:\n",
    "    shutil.copy(file, '../datasets/FGVC_test_gan/')"
   ]
  }
 ],
 "metadata": {
  "kernelspec": {
   "display_name": "Python [conda env:evg]",
   "language": "python",
   "name": "conda-env-evg-py"
  },
  "language_info": {
   "codemirror_mode": {
    "name": "ipython",
    "version": 3
   },
   "file_extension": ".py",
   "mimetype": "text/x-python",
   "name": "python",
   "nbconvert_exporter": "python",
   "pygments_lexer": "ipython3",
   "version": "3.8.13"
  }
 },
 "nbformat": 4,
 "nbformat_minor": 5
}
