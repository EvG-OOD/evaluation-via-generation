{
 "cells": [
  {
   "cell_type": "markdown",
   "id": "961dbf02-af5e-466c-92c4-f8b720084bc6",
   "metadata": {},
   "source": [
    "# Remove images with insect in Flowers dataset (test split)"
   ]
  },
  {
   "cell_type": "code",
   "execution_count": 156,
   "id": "d244891d-8441-4f2f-ab78-3c61dea6ae50",
   "metadata": {},
   "outputs": [],
   "source": [
    "ids = '''\n",
    "15 \n",
    "20\n",
    "40\n",
    "47\n",
    "76\n",
    "78\n",
    "125\n",
    "134\n",
    "179\n",
    "191\n",
    "218\n",
    "231\n",
    "244\n",
    "257\n",
    "258\n",
    "300\n",
    "306\n",
    "331\n",
    "337\n",
    "765\n",
    "1177\n",
    "1246\n",
    "1274\n",
    "1337\n",
    "1380\n",
    "1803\n",
    "1845\n",
    "1862\n",
    "1882\n",
    "1883\n",
    "1887\n",
    "1888\n",
    "1898\n",
    "1910\n",
    "1920\n",
    "1928\n",
    "1938\n",
    "1940\n",
    "1957\n",
    "2078\n",
    "2097\n",
    "2108\n",
    "2124\n",
    "2131\n",
    "2155\n",
    "2180\n",
    "2213\n",
    "2226\n",
    "2254\n",
    "2265\n",
    "2366\n",
    "2370\n",
    "2371\n",
    "2381\n",
    "2483\n",
    "2493\n",
    "2537\n",
    "2546\n",
    "2622\n",
    "2656\n",
    "2682\n",
    "2686\n",
    "2690\n",
    "2710\n",
    "2711\n",
    "2712\n",
    "2754\n",
    "2774\n",
    "2775\n",
    "2799\n",
    "2875\n",
    "2974\n",
    "2984\n",
    "2992\n",
    "2993\n",
    "3001\n",
    "3031\n",
    "3042\n",
    "3045\n",
    "3070\n",
    "3260\n",
    "3716\n",
    "3828\n",
    "3831\n",
    "3880\n",
    "3882\n",
    "3906\n",
    "3996\n",
    "4008\n",
    "4018\n",
    "4034\n",
    "4039\n",
    "4072\n",
    "4091\n",
    "4147\n",
    "4249\n",
    "4520\n",
    "4522\n",
    "4549\n",
    "4550\n",
    "4564\n",
    "4637\n",
    "4642\n",
    "4673\n",
    "4688\n",
    "4692\n",
    "4926\n",
    "4932\n",
    "4940\n",
    "4942\n",
    "4982\n",
    "5080\n",
    "5172\n",
    "5195\n",
    "5196\n",
    "5205\n",
    "5280\n",
    "5315\n",
    "5350\n",
    "5409\n",
    "5418\n",
    "5420\n",
    "5426\n",
    "5448\n",
    "5453\n",
    "5765\n",
    "5803\n",
    "5806\n",
    "5810\n",
    "5818\n",
    "5831\n",
    "5976\n",
    "6008\n",
    "6071\n",
    "6086\n",
    "6094\n",
    "6198\n",
    "6220\n",
    "6236\n",
    "6306\n",
    "6316\n",
    "6406\n",
    "6416\n",
    "6418\n",
    "6499\n",
    "6527\n",
    "6536\n",
    "6539\n",
    "6540\n",
    "6606\n",
    "6622\n",
    "6657\n",
    "6968\n",
    "6986\n",
    "6991\n",
    "7090\n",
    "7091\n",
    "7092\n",
    "7105\n",
    "7106\n",
    "7108\n",
    "7116\n",
    "7120\n",
    "7121\n",
    "7150\n",
    "7340\n",
    "7374\n",
    "7388\n",
    "7594\n",
    "7605\n",
    "7761\n",
    "7774\n",
    "7893\n",
    "7937\n",
    "7947\n",
    "7961\n",
    "7965\n",
    "8002\n",
    "8025\n",
    "8153\n",
    "4653\n",
    "6659\n",
    "3044\n",
    "7903\n",
    "1248\n",
    "5378\n",
    "4681\n",
    "6331\n",
    "6655\n",
    "6583\n",
    "4677\n",
    "7896\n",
    "6301\n",
    "8091\n",
    "6314\n",
    "3927\n",
    "2821\n",
    "6568\n",
    "4661\n",
    "7647\n",
    "6596\n",
    "7577\n",
    "6330\n",
    "6312\n",
    "2756\n",
    "7450\n",
    "41\n",
    "3865\n",
    "6302\n",
    "3037\n",
    "5391\n",
    "271\n",
    "6337\n",
    "8171\n",
    "3470\n",
    "6056\n",
    "3853\n",
    "5751\n",
    "19\n",
    "'''"
   ]
  },
  {
   "cell_type": "code",
   "execution_count": 157,
   "id": "fd5bfb05-e306-49f7-8de4-50894979bc7e",
   "metadata": {},
   "outputs": [],
   "source": [
    "insect_ids = sorted(map(int, ids.strip().split()))"
   ]
  },
  {
   "cell_type": "code",
   "execution_count": 145,
   "id": "3e77bb18-8313-4a6e-8562-16a67247f2be",
   "metadata": {},
   "outputs": [],
   "source": [
    "import sys\n",
    "sys.path.append('../')\n",
    "from tqdm.auto import tqdm\n",
    "from loader import get_dataloader\n",
    "from augmentations import get_composed_augmentations\n",
    "import torch\n",
    "from tqdm.notebook import tqdm\n",
    "from torch.nn.functional import softmax\n",
    "from utils import roc_btw_arr\n",
    "import numpy as np"
   ]
  },
  {
   "cell_type": "code",
   "execution_count": 154,
   "id": "5134b69a-16c8-42a9-a5bb-56181d37ee32",
   "metadata": {},
   "outputs": [
    {
     "name": "stdout",
     "output_type": "stream",
     "text": [
      "Using No Augmentations\n",
      "Using No Augmentations\n"
     ]
    }
   ],
   "source": [
    "flowers_dl = get_dataloader({'dataset': 'Flowers', \n",
    "                           'split':'evaluation', \n",
    "                           'path': '../datasets', \n",
    "                           'batch_size': 64, \n",
    "                           'n_workers': 2, \n",
    "                           'shuffle':False})"
   ]
  },
  {
   "cell_type": "code",
   "execution_count": 158,
   "id": "45b5810e-a38b-4bd1-8750-37121f234a69",
   "metadata": {},
   "outputs": [],
   "source": [
    "set_test = set(flowers_dl.dataset.indices)\n",
    "set_insect = set(insect_ids)\n",
    "set_pure = set_test.difference(set_insect)"
   ]
  },
  {
   "cell_type": "code",
   "execution_count": 159,
   "id": "e87a60ef-a16a-4eb8-852d-6bc39213deb9",
   "metadata": {},
   "outputs": [
    {
     "data": {
      "text/plain": [
       "(6149, 219, 5930)"
      ]
     },
     "execution_count": 159,
     "metadata": {},
     "output_type": "execute_result"
    }
   ],
   "source": [
    "len(set_test), len(set_insect), len(set_pure)"
   ]
  },
  {
   "cell_type": "code",
   "execution_count": 164,
   "id": "a52b0134-8231-4d56-a2b4-f9e448bc34a4",
   "metadata": {},
   "outputs": [
    {
     "data": {
      "text/plain": [
       "array([  14,  264, 3674, ..., 6488, 7964, 3160], dtype=uint16)"
      ]
     },
     "execution_count": 164,
     "metadata": {},
     "output_type": "execute_result"
    }
   ],
   "source": [
    "pure_ids = np.array(list(set_pure))\n",
    "np.random.shuffle(pure_ids)\n",
    "pure_ids"
   ]
  },
  {
   "cell_type": "code",
   "execution_count": 165,
   "id": "7b56de37-10eb-4fc9-a833-7c2674165ea9",
   "metadata": {},
   "outputs": [],
   "source": [
    "import scipy"
   ]
  },
  {
   "cell_type": "code",
   "execution_count": 170,
   "id": "e2ab81ae-7ca8-4130-8436-b4d69274eb80",
   "metadata": {},
   "outputs": [],
   "source": [
    "np.save('test_wo_insects.npy', pure_ids)"
   ]
  },
  {
   "cell_type": "code",
   "execution_count": 168,
   "id": "32b12c96-cc0b-4700-8ae3-ef80b433f218",
   "metadata": {},
   "outputs": [],
   "source": [
    "import shutil"
   ]
  },
  {
   "cell_type": "code",
   "execution_count": 173,
   "id": "c44a39c9-611a-43e1-bfa7-4529bf0d7652",
   "metadata": {},
   "outputs": [],
   "source": [
    "for each_ids in pure_ids:\n",
    "    shutil.copyfile(f'../datasets/flowers/jpg/image_{each_ids:05d}.jpg', f'../datasets/flowers_wo_insects/img_{each_ids:05d}.jpg',)"
   ]
  },
  {
   "cell_type": "code",
   "execution_count": null,
   "id": "dc805a70-f265-42c0-ba96-74ee868504ee",
   "metadata": {},
   "outputs": [],
   "source": []
  },
  {
   "cell_type": "code",
   "execution_count": 150,
   "id": "a4ef8029-deb8-4846-a9ce-1800133f4d63",
   "metadata": {},
   "outputs": [
    {
     "data": {
      "text/plain": [
       "array([6734, 6735, 6737, ..., 8044, 8045, 8047], dtype=uint16)"
      ]
     },
     "execution_count": 150,
     "metadata": {},
     "output_type": "execute_result"
    }
   ],
   "source": [
    "flowers_dl.dataset.indices"
   ]
  },
  {
   "cell_type": "code",
   "execution_count": 14,
   "id": "77127bd3-eac0-4f35-bc7a-ed51d38c8ade",
   "metadata": {},
   "outputs": [],
   "source": [
    "import matplotlib.pyplot as plt"
   ]
  },
  {
   "cell_type": "code",
   "execution_count": 7,
   "id": "a3206258-f1eb-400b-ab48-c4c80d21bb3c",
   "metadata": {},
   "outputs": [],
   "source": [
    "ds = flowers_dl.dataset"
   ]
  },
  {
   "cell_type": "code",
   "execution_count": 33,
   "id": "11303029-d5f0-4df8-92cc-1a14f779ebb8",
   "metadata": {},
   "outputs": [
    {
     "data": {
      "text/plain": [
       "array([6734, 6735, 6737, ..., 8044, 8045, 8047], dtype=uint16)"
      ]
     },
     "execution_count": 33,
     "metadata": {},
     "output_type": "execute_result"
    }
   ],
   "source": [
    "ds.indices"
   ]
  },
  {
   "cell_type": "code",
   "execution_count": 34,
   "id": "21e54300-7702-41c5-888b-78bdf8b6c5b9",
   "metadata": {},
   "outputs": [
    {
     "data": {
      "text/plain": [
       "6149"
      ]
     },
     "execution_count": 34,
     "metadata": {},
     "output_type": "execute_result"
    }
   ],
   "source": [
    "len(ds.indices)"
   ]
  },
  {
   "cell_type": "code",
   "execution_count": 4,
   "id": "2a8b0036-bc25-4185-8699-d5f27f156a06",
   "metadata": {},
   "outputs": [],
   "source": [
    "a = torch.load('../results/RImgNet/vit_hf_md/OOD_rank_Flowers.pkl')"
   ]
  },
  {
   "cell_type": "code",
   "execution_count": 5,
   "id": "4e6656ef-41ca-402f-9870-3df92ae9b1ef",
   "metadata": {},
   "outputs": [
    {
     "data": {
      "text/plain": [
       "array([10122, 10109, 10090, ..., 10056, 10037, 10104])"
      ]
     },
     "execution_count": 5,
     "metadata": {},
     "output_type": "execute_result"
    }
   ],
   "source": [
    "a"
   ]
  },
  {
   "cell_type": "code",
   "execution_count": 10,
   "id": "3c8c77b5-ab64-460e-8ea2-75be1d90cffe",
   "metadata": {},
   "outputs": [],
   "source": [
    "sorted_idx = np.argsort(a)"
   ]
  },
  {
   "cell_type": "code",
   "execution_count": 11,
   "id": "43c46745-800f-4fe9-b452-0e5cdefa9b3e",
   "metadata": {},
   "outputs": [
    {
     "data": {
      "text/plain": [
       "array([2105,  548, 5521, ..., 1902,  925,  825])"
      ]
     },
     "execution_count": 11,
     "metadata": {},
     "output_type": "execute_result"
    }
   ],
   "source": [
    "sorted_idx"
   ]
  },
  {
   "cell_type": "code",
   "execution_count": 39,
   "id": "893afe0f-88c1-4be5-9c1a-f1401a4f7755",
   "metadata": {},
   "outputs": [],
   "source": [
    "vis_img = torch.stack([ds[i][0] for i in sorted_idx[:64]\n",
    "                      if i not in {sorted_idx[j] for j in [0,1,2,3,4,6,7,10]}])"
   ]
  },
  {
   "cell_type": "code",
   "execution_count": 102,
   "id": "1bf2860a-adbb-4a31-afc6-12ef34a4424d",
   "metadata": {},
   "outputs": [],
   "source": [
    "l_insects = [2105, 548, 5521, 6062, 3856, 798, 2125, 2192, 544, 912, 2122, 6057, 2166, 321, 2175, 2278, 2761, 2232, 2110, 5870,\n",
    "            917, 5816, 2191, 2174, 2705, 5709, 4136, 610, 2167, 5515, 808, 3606, 2196, 3124, 1080, 487, 602, 462, 4118]"
   ]
  },
  {
   "cell_type": "code",
   "execution_count": 116,
   "id": "288e5481-a907-4011-b863-86747192aaf5",
   "metadata": {},
   "outputs": [],
   "source": [
    "l_insect_indices = ds.indices[l_insects]"
   ]
  },
  {
   "cell_type": "code",
   "execution_count": 121,
   "id": "c454bf99-9e0f-489d-8388-ece8c9a3fd58",
   "metadata": {},
   "outputs": [],
   "source": [
    "torch.save(l_insect_indices, 'remove_flower_index.pkl')"
   ]
  },
  {
   "cell_type": "code",
   "execution_count": 114,
   "id": "46d124e2-cc6b-4739-92cd-c7da0639ab33",
   "metadata": {},
   "outputs": [],
   "source": [
    "import shutil"
   ]
  },
  {
   "cell_type": "code",
   "execution_count": 115,
   "id": "56e23cc4-2670-42ea-91e4-a6139b15ace4",
   "metadata": {},
   "outputs": [],
   "source": [
    "! mkdir -p ../datasets/flowers_clean/jpg"
   ]
  },
  {
   "cell_type": "code",
   "execution_count": 118,
   "id": "18043b97-91d8-47fb-8a1a-4f7a5ca596b2",
   "metadata": {},
   "outputs": [
    {
     "data": {
      "text/plain": [
       "6149"
      ]
     },
     "execution_count": 118,
     "metadata": {},
     "output_type": "execute_result"
    }
   ],
   "source": [
    "len(ds.indices)"
   ]
  },
  {
   "cell_type": "code",
   "execution_count": 119,
   "id": "c46354e9-43e4-4fb0-8bdc-941a8d642cd6",
   "metadata": {},
   "outputs": [
    {
     "data": {
      "text/plain": [
       "39"
      ]
     },
     "execution_count": 119,
     "metadata": {},
     "output_type": "execute_result"
    }
   ],
   "source": [
    "len(l_insects)"
   ]
  },
  {
   "cell_type": "code",
   "execution_count": 120,
   "id": "47397a21-f3d1-4872-8cf9-c49cdf41dc63",
   "metadata": {},
   "outputs": [
    {
     "data": {
      "text/plain": [
       "6110"
      ]
     },
     "execution_count": 120,
     "metadata": {},
     "output_type": "execute_result"
    }
   ],
   "source": [
    "6149 - 39"
   ]
  },
  {
   "cell_type": "code",
   "execution_count": 117,
   "id": "9fc3f931-d53b-4072-9056-c48a2f6d3193",
   "metadata": {},
   "outputs": [],
   "source": [
    "for idx in ds.indices:\n",
    "    if idx not in l_insect_indices:\n",
    "        shutil.copy(f'../datasets/flowers/jpg/image_{idx:05d}.jpg', f'../datasets/flowers_clean/jpg/image_{idx:05d}.jpg')"
   ]
  },
  {
   "cell_type": "code",
   "execution_count": null,
   "id": "40a83617-d442-4989-b52e-dc962583bfe9",
   "metadata": {},
   "outputs": [],
   "source": [
    "[0,1,2,3,4,6,7,10]"
   ]
  },
  {
   "cell_type": "code",
   "execution_count": 28,
   "id": "a26072c7-afd1-4906-9ab5-9035eb80005e",
   "metadata": {},
   "outputs": [],
   "source": [
    "from torchvision.utils import make_grid"
   ]
  },
  {
   "cell_type": "code",
   "execution_count": null,
   "id": "11be2865-ad5e-46c6-9528-e8f42b968fa9",
   "metadata": {},
   "outputs": [],
   "source": []
  },
  {
   "cell_type": "code",
   "execution_count": null,
   "id": "ba4e646b-df89-4cda-b7f8-f5472a58d87e",
   "metadata": {},
   "outputs": [],
   "source": []
  },
  {
   "cell_type": "code",
   "execution_count": 122,
   "id": "daefdaac-d131-412f-abd7-5757b87f9696",
   "metadata": {},
   "outputs": [
    {
     "name": "stdout",
     "output_type": "stream",
     "text": [
      "Using No Augmentations\n",
      "Using No Augmentations\n"
     ]
    }
   ],
   "source": [
    "fgvc_dl = get_dataloader({'dataset': 'FGVC', \n",
    "                           'split':'evaluation', \n",
    "                           'path': '../datasets', \n",
    "                           'batch_size': 64, \n",
    "                           'n_workers': 2, \n",
    "                           'shuffle':False})"
   ]
  },
  {
   "cell_type": "code",
   "execution_count": 123,
   "id": "cac01666-06e4-460e-8b19-120bc9513e67",
   "metadata": {},
   "outputs": [],
   "source": [
    "ds = fgvc_dl.dataset"
   ]
  },
  {
   "cell_type": "code",
   "execution_count": 126,
   "id": "0a37235c-2278-4f43-9371-d50fce70f88f",
   "metadata": {},
   "outputs": [],
   "source": [
    "! mkdir ../datasets/FGVC_test_gan"
   ]
  },
  {
   "cell_type": "code",
   "execution_count": 127,
   "id": "d97bc026-8fe1-483f-a77c-4621e946f302",
   "metadata": {},
   "outputs": [],
   "source": [
    "import os"
   ]
  },
  {
   "cell_type": "code",
   "execution_count": 128,
   "id": "c3150d8e-4119-4cb3-8e87-0c4b80c43c7a",
   "metadata": {},
   "outputs": [
    {
     "ename": "NameError",
     "evalue": "name 'file' is not defined",
     "output_type": "error",
     "traceback": [
      "\u001b[0;31m---------------------------------------------------------------------------\u001b[0m",
      "\u001b[0;31mNameError\u001b[0m                                 Traceback (most recent call last)",
      "Cell \u001b[0;32mIn [128], line 1\u001b[0m\n\u001b[0;32m----> 1\u001b[0m os\u001b[38;5;241m.\u001b[39mpath\u001b[38;5;241m.\u001b[39mbasename(\u001b[43mfile\u001b[49m)\n",
      "\u001b[0;31mNameError\u001b[0m: name 'file' is not defined"
     ]
    }
   ],
   "source": [
    "os.path.basename(file)"
   ]
  },
  {
   "cell_type": "code",
   "execution_count": 131,
   "id": "6946f86e-ac77-4378-8c70-a4ec2aeefc62",
   "metadata": {},
   "outputs": [],
   "source": [
    "for file, _ in ds.samples:\n",
    "    shutil.copy(file, '../datasets/FGVC_test_gan/')"
   ]
  },
  {
   "cell_type": "code",
   "execution_count": 132,
   "id": "a71f806f-8f8b-429d-a145-1f9eb981d624",
   "metadata": {},
   "outputs": [],
   "source": [
    "a = torch.load('remove_flower_index.pkl')"
   ]
  },
  {
   "cell_type": "code",
   "execution_count": 133,
   "id": "e46544fe-93cf-4370-9de9-9075943c4eec",
   "metadata": {},
   "outputs": [
    {
     "data": {
      "text/plain": [
       "array([4653, 6659, 3044, 7903, 1248, 5378, 4681, 6331, 6655, 6583, 4677,\n",
       "       7896, 6301, 8091, 6314, 3927, 2821, 6568, 4661, 7647, 6596, 7577,\n",
       "       6330, 6312, 2756, 7450,   41, 3865, 6302, 3037, 5391,  271, 6337,\n",
       "       8171, 3470, 6056, 3853, 5751,   19], dtype=uint16)"
      ]
     },
     "execution_count": 133,
     "metadata": {},
     "output_type": "execute_result"
    }
   ],
   "source": [
    "a\n"
   ]
  },
  {
   "cell_type": "code",
   "execution_count": 137,
   "id": "8f5f25ab-4565-40b4-9a81-93ea720e1a0e",
   "metadata": {},
   "outputs": [
    {
     "name": "stdout",
     "output_type": "stream",
     "text": [
      "4653\n",
      "6659\n",
      "3044\n",
      "7903\n",
      "1248\n",
      "5378\n",
      "4681\n",
      "6331\n",
      "6655\n",
      "6583\n",
      "4677\n",
      "7896\n",
      "6301\n",
      "8091\n",
      "6314\n",
      "3927\n",
      "2821\n",
      "6568\n",
      "4661\n",
      "7647\n",
      "6596\n",
      "7577\n",
      "6330\n",
      "6312\n",
      "2756\n",
      "7450\n",
      "41\n",
      "3865\n",
      "6302\n",
      "3037\n",
      "5391\n",
      "271\n",
      "6337\n",
      "8171\n",
      "3470\n",
      "6056\n",
      "3853\n",
      "5751\n",
      "19\n"
     ]
    }
   ],
   "source": [
    "for aa in a:\n",
    "    print(aa)"
   ]
  },
  {
   "cell_type": "code",
   "execution_count": 136,
   "id": "ad5cc4b2-3f66-4b06-86b6-68cbb086d2f4",
   "metadata": {},
   "outputs": [
    {
     "data": {
      "text/plain": [
       "['15',\n",
       " '20',\n",
       " '40',\n",
       " '47',\n",
       " '76',\n",
       " '78',\n",
       " '125',\n",
       " '134',\n",
       " '179',\n",
       " '191',\n",
       " '218',\n",
       " '231',\n",
       " '244',\n",
       " '257',\n",
       " '258',\n",
       " '300',\n",
       " '306',\n",
       " '331',\n",
       " '337',\n",
       " '765',\n",
       " '1177',\n",
       " '1246',\n",
       " '1274',\n",
       " '1337',\n",
       " '1380',\n",
       " '1803',\n",
       " '1845',\n",
       " '1862',\n",
       " '1882',\n",
       " '1883',\n",
       " '1887',\n",
       " '1888',\n",
       " '1898',\n",
       " '1910',\n",
       " '1920',\n",
       " '1928',\n",
       " '1938',\n",
       " '1940',\n",
       " '1957',\n",
       " '2078',\n",
       " '2097',\n",
       " '2108',\n",
       " '2124',\n",
       " '2131',\n",
       " '2155',\n",
       " '2180',\n",
       " '2213',\n",
       " '2226',\n",
       " '2254',\n",
       " '2265',\n",
       " '2366',\n",
       " '2370',\n",
       " '2371',\n",
       " '2381',\n",
       " '2483',\n",
       " '2493',\n",
       " '2537',\n",
       " '2546',\n",
       " '2622',\n",
       " '2656',\n",
       " '2682',\n",
       " '2686',\n",
       " '2690',\n",
       " '2710',\n",
       " '2711',\n",
       " '2712',\n",
       " '2754',\n",
       " '2774',\n",
       " '2775',\n",
       " '2799',\n",
       " '2875',\n",
       " '2974',\n",
       " '2984',\n",
       " '2992',\n",
       " '2993',\n",
       " '3001',\n",
       " '3031',\n",
       " '3042',\n",
       " '3045',\n",
       " '3070',\n",
       " '3260',\n",
       " '3716',\n",
       " '3828',\n",
       " '3831',\n",
       " '3880',\n",
       " '3882',\n",
       " '3906',\n",
       " '3996',\n",
       " '4008',\n",
       " '4018',\n",
       " '4034',\n",
       " '4039',\n",
       " '4072',\n",
       " '4091',\n",
       " '4147',\n",
       " '4249',\n",
       " '4520',\n",
       " '4522',\n",
       " '4549',\n",
       " '4550',\n",
       " '4564',\n",
       " '4637',\n",
       " '4642',\n",
       " '4673',\n",
       " '4688',\n",
       " '4692',\n",
       " '4926',\n",
       " '4932',\n",
       " '4940',\n",
       " '4942',\n",
       " '4982',\n",
       " '5080',\n",
       " '5172',\n",
       " '5195',\n",
       " '5196',\n",
       " '5205',\n",
       " '5280',\n",
       " '5315',\n",
       " '5350',\n",
       " '5409',\n",
       " '5418',\n",
       " '5420',\n",
       " '5426',\n",
       " '5448',\n",
       " '5453',\n",
       " '5765',\n",
       " '5803',\n",
       " '5806',\n",
       " '5810',\n",
       " '5818',\n",
       " '5831',\n",
       " '5976',\n",
       " '6008',\n",
       " '6071',\n",
       " '6086',\n",
       " '6094',\n",
       " '6198',\n",
       " '6220',\n",
       " '6236',\n",
       " '6306',\n",
       " '6316',\n",
       " '6406',\n",
       " '6416',\n",
       " '6418',\n",
       " '6499',\n",
       " '6527',\n",
       " '6536',\n",
       " '6539',\n",
       " '6540',\n",
       " '6606',\n",
       " '6622',\n",
       " '6657',\n",
       " '6968',\n",
       " '6986',\n",
       " '6991',\n",
       " '7090',\n",
       " '7091',\n",
       " '7092',\n",
       " '7105',\n",
       " '7106',\n",
       " '7108',\n",
       " '7116',\n",
       " '7120',\n",
       " '7121',\n",
       " '7150',\n",
       " '7340',\n",
       " '7374',\n",
       " '7388',\n",
       " '7594',\n",
       " '7605',\n",
       " '7761',\n",
       " '7774',\n",
       " '7893',\n",
       " '7937',\n",
       " '7947',\n",
       " '7961',\n",
       " '7965',\n",
       " '8002',\n",
       " '8025',\n",
       " '8153']"
      ]
     },
     "execution_count": 136,
     "metadata": {},
     "output_type": "execute_result"
    }
   ],
   "source": [
    "[b.strip().split()]"
   ]
  },
  {
   "cell_type": "code",
   "execution_count": 134,
   "id": "3b258b8f-a7a8-4a35-a128-149ab29a3ae0",
   "metadata": {},
   "outputs": [],
   "source": [
    "b = '''\n",
    "15 \n",
    "20\n",
    "40\n",
    "47\n",
    "76\n",
    "78\n",
    "125\n",
    "134\n",
    "179\n",
    "191\n",
    "218\n",
    "231\n",
    "244\n",
    "257\n",
    "258\n",
    "300\n",
    "306\n",
    "331\n",
    "337\n",
    "765\n",
    "1177\n",
    "1246\n",
    "1274\n",
    "1337\n",
    "1380\n",
    "1803\n",
    "1845\n",
    "1862\n",
    "1882\n",
    "1883\n",
    "1887\n",
    "1888\n",
    "1898\n",
    "1910\n",
    "1920\n",
    "1928\n",
    "1938\n",
    "1940\n",
    "1957\n",
    "2078\n",
    "2097\n",
    "2108\n",
    "2124\n",
    "2131\n",
    "2155\n",
    "2180\n",
    "2213\n",
    "2226\n",
    "2254\n",
    "2265\n",
    "2366\n",
    "2370\n",
    "2371\n",
    "2381\n",
    "2483\n",
    "2493\n",
    "2537\n",
    "2546\n",
    "2622\n",
    "2656\n",
    "2682\n",
    "2686\n",
    "2690\n",
    "2710\n",
    "2711\n",
    "2712\n",
    "2754\n",
    "2774\n",
    "2775\n",
    "2799\n",
    "2875\n",
    "2974\n",
    "2984\n",
    "2992\n",
    "2993\n",
    "3001\n",
    "3031\n",
    "3042\n",
    "3045\n",
    "3070\n",
    "3260\n",
    "3716\n",
    "3828\n",
    "3831\n",
    "3880\n",
    "3882\n",
    "3906\n",
    "3996\n",
    "4008\n",
    "4018\n",
    "4034\n",
    "4039\n",
    "4072\n",
    "4091\n",
    "4147\n",
    "4249\n",
    "4520\n",
    "4522\n",
    "4549\n",
    "4550\n",
    "4564\n",
    "4637\n",
    "4642\n",
    "4673\n",
    "4688\n",
    "4692\n",
    "4926\n",
    "4932\n",
    "4940\n",
    "4942\n",
    "4982\n",
    "5080\n",
    "5172\n",
    "5195\n",
    "5196\n",
    "5205\n",
    "5280\n",
    "5315\n",
    "5350\n",
    "5409\n",
    "5418\n",
    "5420\n",
    "5426\n",
    "5448\n",
    "5453\n",
    "5765\n",
    "5803\n",
    "5806\n",
    "5810\n",
    "5818\n",
    "5831\n",
    "5976\n",
    "6008\n",
    "6071\n",
    "6086\n",
    "6094\n",
    "6198\n",
    "6220\n",
    "6236\n",
    "6306\n",
    "6316\n",
    "6406\n",
    "6416\n",
    "6418\n",
    "6499\n",
    "6527\n",
    "6536\n",
    "6539\n",
    "6540\n",
    "6606\n",
    "6622\n",
    "6657\n",
    "6968\n",
    "6986\n",
    "6991\n",
    "7090\n",
    "7091\n",
    "7092\n",
    "7105\n",
    "7106\n",
    "7108\n",
    "7116\n",
    "7120\n",
    "7121\n",
    "7150\n",
    "7340\n",
    "7374\n",
    "7388\n",
    "7594\n",
    "7605\n",
    "7761\n",
    "7774\n",
    "7893\n",
    "7937\n",
    "7947\n",
    "7961\n",
    "7965\n",
    "8002\n",
    "8025\n",
    "8153\n",
    "'''"
   ]
  }
 ],
 "metadata": {
  "kernelspec": {
   "display_name": "Python [conda env:evg]",
   "language": "python",
   "name": "conda-env-evg-py"
  },
  "language_info": {
   "codemirror_mode": {
    "name": "ipython",
    "version": 3
   },
   "file_extension": ".py",
   "mimetype": "text/x-python",
   "name": "python",
   "nbconvert_exporter": "python",
   "pygments_lexer": "ipython3",
   "version": "3.8.13"
  }
 },
 "nbformat": 4,
 "nbformat_minor": 5
}
