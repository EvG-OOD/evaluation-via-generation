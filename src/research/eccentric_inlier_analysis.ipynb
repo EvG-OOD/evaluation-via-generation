{
 "cells": [
  {
   "cell_type": "code",
   "execution_count": 27,
   "id": "3feb9631-e4de-4e71-968d-14b6b2a53413",
   "metadata": {},
   "outputs": [],
   "source": [
    "from tqdm.auto import tqdm\n",
    "import matplotlib.pyplot as plt\n",
    "import numpy as np\n",
    "import torch\n",
    "import os"
   ]
  },
  {
   "cell_type": "code",
   "execution_count": 2,
   "id": "b14ac77b-3d68-466c-8656-e0afc4308704",
   "metadata": {},
   "outputs": [],
   "source": [
    "device = 'cuda:1'"
   ]
  },
  {
   "cell_type": "code",
   "execution_count": 3,
   "id": "4ca7ef3b-059a-4270-a5fd-963b9c8d6008",
   "metadata": {},
   "outputs": [],
   "source": [
    "def forward_maha(xx, mean, invcov):\n",
    "    \"\"\"\n",
    "    mean: [1, D, K]\n",
    "    invcov: [D, D]\n",
    "    \"\"\"\n",
    "    z = xx.unsqueeze(-1) - mean\n",
    "    op1 = torch.einsum('ijk,jl->ilk', z, invcov)\n",
    "    op2 = torch.einsum('ijk,ijk->ik', op1, z)  # [B, K]\n",
    "    \n",
    "    return torch.min(op2, dim=1).values\n",
    "    \n",
    "def forward_maha_dl(model, dataloader, mean, invcov):\n",
    "    global device\n",
    "    l_score = []\n",
    "    for xx in tqdm(dataloader):\n",
    "        \n",
    "        out = model(xx['pixel_values'].to(device), output_hidden_states=True)\n",
    "        out = out.hidden_states[-1][:,0,:]\n",
    "        out = model.vit.layernorm(out)\n",
    "        \n",
    "        prelogit = out.detach().cpu()\n",
    "        score = forward_maha(prelogit, mean, invcov)\n",
    "        l_score.append(score)\n",
    "    return torch.cat(l_score)\n",
    "\n",
    "def get_prelogit(model, dl):\n",
    "    global device\n",
    "    l_pred = []\n",
    "    for xx in tqdm(dl):\n",
    "        with torch.no_grad():\n",
    "            out = model(xx['pixel_values'].to(device), output_hidden_states=True)\n",
    "            out = out.hidden_states[-1][:,0,:]\n",
    "            out = model.vit.layernorm(out)\n",
    "        l_pred.append(out.detach().cpu())\n",
    "    return torch.cat(l_pred)"
   ]
  },
  {
   "cell_type": "code",
   "execution_count": 2,
   "id": "02ff556b-8eed-46e3-88d0-b539b163f05c",
   "metadata": {},
   "outputs": [],
   "source": [
    "# ! ls finetune-cifar-10"
   ]
  },
  {
   "cell_type": "code",
   "execution_count": 24,
   "id": "eadb0905-6481-4733-bea9-fb52174d9a7e",
   "metadata": {},
   "outputs": [],
   "source": [
    "l_ckpt_dir = ['checkpoint-352', 'checkpoint-704', 'checkpoint-1056', \n",
    "'checkpoint-1408', 'checkpoint-1760', 'checkpoint-2112', 'checkpoint-2464',  \n",
    "  'checkpoint-2816', 'checkpoint-3168', 'checkpoint-3520']"
   ]
  },
  {
   "cell_type": "code",
   "execution_count": 4,
   "id": "cf204053-7882-4487-a314-926b6ed3ae36",
   "metadata": {},
   "outputs": [],
   "source": [
    "import sys\n",
    "sys.path.append('../')\n",
    "from utils import roc_btw_arr"
   ]
  },
  {
   "cell_type": "code",
   "execution_count": 11,
   "id": "7ebd2978-7dd7-4285-8627-f3175f311569",
   "metadata": {},
   "outputs": [
    {
     "name": "stderr",
     "output_type": "stream",
     "text": [
      "WARNING:datasets.builder:Found cached dataset cifar10 (/root/.cache/huggingface/datasets/cifar10/plain_text/1.0.0/447d6ec4733dddd1ce3bb577c7166b986eaa4c538dcd9e805ba61f35674a9de4)\n"
     ]
    },
    {
     "data": {
      "application/vnd.jupyter.widget-view+json": {
       "model_id": "db4d3b55b97247538e90d4218032dcb7",
       "version_major": 2,
       "version_minor": 0
      },
      "text/plain": [
       "  0%|          | 0/2 [00:00<?, ?it/s]"
      ]
     },
     "metadata": {},
     "output_type": "display_data"
    },
    {
     "name": "stderr",
     "output_type": "stream",
     "text": [
      "WARNING:datasets.builder:Found cached dataset cifar100 (/root/.cache/huggingface/datasets/cifar100/cifar100/1.0.0/f365c8b725c23e8f0f8d725c3641234d9331cd2f62919d1381d1baa5b3ba3142)\n",
      "WARNING:datasets.builder:Found cached dataset cifar10 (/root/.cache/huggingface/datasets/cifar10/plain_text/1.0.0/447d6ec4733dddd1ce3bb577c7166b986eaa4c538dcd9e805ba61f35674a9de4)\n",
      "WARNING:datasets.builder:Found cached dataset svhn (/root/.cache/huggingface/datasets/svhn/cropped_digits/1.0.0/8e83fcbe6f6078438cd826c7acd29e3de8ee7db44657b535f6d3453235529a31)\n"
     ]
    }
   ],
   "source": [
    "from datasets import load_dataset\n",
    "\n",
    "train_ds, test_ds = load_dataset('cifar10', split=['train', 'test'])\n",
    "splits = train_ds.train_test_split(test_size=0.1)\n",
    "train_ds = splits['train']\n",
    "val_ds = splits['test']\n",
    "cifar100_ds = load_dataset('cifar100', split='test');\n",
    "\n",
    "cifar10_train_ds = load_dataset('cifar10', split='train')\n",
    "\n",
    "svhn_ds = load_dataset('svhn', 'cropped_digits', split='test')\n",
    "\n",
    "cifar10_train_label = torch.tensor([cifar10_train_ds[i]['label'] for i in range(len(cifar10_train_ds))])"
   ]
  },
  {
   "cell_type": "code",
   "execution_count": 12,
   "id": "c1cd200f-83fe-42be-a58a-276a2fbc559a",
   "metadata": {},
   "outputs": [
    {
     "data": {
      "text/plain": [
       "{0: 'airplane',\n",
       " 1: 'automobile',\n",
       " 2: 'bird',\n",
       " 3: 'cat',\n",
       " 4: 'deer',\n",
       " 5: 'dog',\n",
       " 6: 'frog',\n",
       " 7: 'horse',\n",
       " 8: 'ship',\n",
       " 9: 'truck'}"
      ]
     },
     "execution_count": 12,
     "metadata": {},
     "output_type": "execute_result"
    }
   ],
   "source": [
    "id2label = {id:label for id, label in enumerate(train_ds.features['label'].names)}\n",
    "label2id = {label:id for id,label in id2label.items()}\n",
    "id2label"
   ]
  },
  {
   "cell_type": "code",
   "execution_count": 13,
   "id": "03188b3e-42bb-4e95-b14b-e5b9a87df05c",
   "metadata": {},
   "outputs": [],
   "source": [
    "from transformers import ViTFeatureExtractor\n",
    "\n",
    "model_name_or_path = 'google/vit-base-patch16-224-in21k'\n",
    "feature_extractor = ViTFeatureExtractor.from_pretrained(model_name_or_path)"
   ]
  },
  {
   "cell_type": "code",
   "execution_count": 14,
   "id": "1ec7d528-fce8-4066-aa08-0ee05d655327",
   "metadata": {},
   "outputs": [],
   "source": [
    "from torchvision.transforms import (CenterCrop, \n",
    "                                    Compose, \n",
    "                                    Normalize, \n",
    "                                    RandomHorizontalFlip,\n",
    "                                    RandomResizedCrop, \n",
    "                                    Resize, \n",
    "                                    ToTensor)\n",
    "\n",
    "normalize = Normalize(mean=feature_extractor.image_mean, std=feature_extractor.image_std)\n",
    "_train_transforms = Compose(\n",
    "        [\n",
    "            RandomResizedCrop(feature_extractor.size),\n",
    "            RandomHorizontalFlip(),\n",
    "            ToTensor(),\n",
    "            normalize,\n",
    "        ]\n",
    "    )\n",
    "\n",
    "_val_transforms = Compose(\n",
    "        [\n",
    "            Resize(feature_extractor.size),\n",
    "            CenterCrop(feature_extractor.size),\n",
    "            ToTensor(),\n",
    "            normalize,\n",
    "        ]\n",
    "    )\n",
    "\n",
    "def train_transforms(examples):\n",
    "    examples['pixel_values'] = [_train_transforms(image.convert(\"RGB\")) for image in examples['img']]\n",
    "    return examples\n",
    "\n",
    "def val_transforms(examples):\n",
    "    examples['pixel_values'] = [_val_transforms(image.convert(\"RGB\")) for image in examples['img']]\n",
    "    return examples\n",
    "\n",
    "def val_transforms_svhn(examples):\n",
    "    examples['pixel_values'] = [_val_transforms(image.convert(\"RGB\")) for image in examples['image']]\n",
    "    return examples"
   ]
  },
  {
   "cell_type": "code",
   "execution_count": 15,
   "id": "d7d9bde7-a39c-4983-a9e9-e8064b7493b9",
   "metadata": {},
   "outputs": [],
   "source": [
    "# Set the transforms\n",
    "train_ds.set_transform(train_transforms)\n",
    "\n",
    "val_ds.set_transform(val_transforms)\n",
    "test_ds.set_transform(val_transforms)\n",
    "\n",
    "cifar100_ds.set_transform(val_transforms)\n",
    "cifar10_train_ds.set_transform(val_transforms)\n",
    "\n",
    "svhn_ds.set_transform(val_transforms_svhn)"
   ]
  },
  {
   "cell_type": "code",
   "execution_count": 16,
   "id": "0ba1d2ea-f4cd-43b3-9585-cafd772bd968",
   "metadata": {},
   "outputs": [],
   "source": [
    "from torch.utils.data import DataLoader\n",
    "import torch\n",
    "\n",
    "def collate_fn(examples):\n",
    "    pixel_values = torch.stack([example[\"pixel_values\"] for example in examples])\n",
    "    labels = torch.tensor([example[\"label\"] for example in examples])\n",
    "    return {\"pixel_values\": pixel_values, \"labels\": labels}\n",
    "\n",
    "def collate_fn_cifar100(examples):\n",
    "    pixel_values = torch.stack([example[\"pixel_values\"] for example in examples])\n",
    "    labels = torch.tensor([example[\"fine_label\"] for example in examples])\n",
    "    return {\"pixel_values\": pixel_values, \"labels\": labels}\n",
    "\n",
    "train_dataloader = DataLoader(test_ds, collate_fn=collate_fn, batch_size=4)\n",
    "test_dataloader = DataLoader(test_ds, collate_fn=collate_fn, batch_size=4)\n",
    "cifar100_dataloader = DataLoader(cifar100_ds, collate_fn=collate_fn_cifar100, batch_size=4, num_workers=2)\n",
    "cifar10_train_dataloader = DataLoader(cifar10_train_ds, collate_fn=collate_fn, batch_size=64, num_workers=2)\n",
    "\n",
    "svhn_dataloader = DataLoader(svhn_ds, collate_fn=collate_fn, batch_size=64, num_workers=2)"
   ]
  },
  {
   "cell_type": "code",
   "execution_count": 17,
   "id": "b19bf03b-d599-4734-b993-8c95770b112b",
   "metadata": {},
   "outputs": [
    {
     "name": "stderr",
     "output_type": "stream",
     "text": [
      "Some weights of the model checkpoint at google/vit-base-patch16-224-in21k were not used when initializing ViTForImageClassification: ['pooler.dense.bias', 'pooler.dense.weight']\n",
      "- This IS expected if you are initializing ViTForImageClassification from the checkpoint of a model trained on another task or with another architecture (e.g. initializing a BertForSequenceClassification model from a BertForPreTraining model).\n",
      "- This IS NOT expected if you are initializing ViTForImageClassification from the checkpoint of a model that you expect to be exactly identical (initializing a BertForSequenceClassification model from a BertForSequenceClassification model).\n",
      "Some weights of ViTForImageClassification were not initialized from the model checkpoint at google/vit-base-patch16-224-in21k and are newly initialized: ['classifier.bias', 'classifier.weight']\n",
      "You should probably TRAIN this model on a down-stream task to be able to use it for predictions and inference.\n"
     ]
    }
   ],
   "source": [
    "from transformers import ViTForImageClassification\n",
    "\n",
    "model = ViTForImageClassification.from_pretrained('google/vit-base-patch16-224-in21k',\n",
    "                                                  num_labels=10,\n",
    "                                                  id2label=id2label,\n",
    "                                                  label2id=label2id)"
   ]
  },
  {
   "cell_type": "code",
   "execution_count": null,
   "id": "a0c3f20f-0c17-4f38-8d3a-619749b61d35",
   "metadata": {},
   "outputs": [
    {
     "name": "stdout",
     "output_type": "stream",
     "text": [
      "checkpoint-1056\n",
      "checkpoint-1408\n",
      "checkpoint-1760\n",
      "checkpoint-2112\n",
      "checkpoint-2464\n",
      "checkpoint-2816\n",
      "checkpoint-3168\n",
      "checkpoint-352\n",
      "checkpoint-3520\n",
      "checkpoint-704\n"
     ]
    }
   ],
   "source": [
    "for i in sorted(l_ckpt_dir):\n",
    "    print(i)"
   ]
  },
  {
   "cell_type": "code",
   "execution_count": 18,
   "id": "06f8a89d-e1ce-476f-8b72-47b37fb7b70f",
   "metadata": {},
   "outputs": [],
   "source": [
    "from transformers import TrainingArguments, Trainer\n",
    "\n",
    "metric_name = \"accuracy\"\n",
    "run_name = f\"finetune-cifar-10-epoch15\"\n",
    "num_train_epoch = 15\n",
    "\n",
    "args = TrainingArguments(\n",
    "    run_name,\n",
    "    save_strategy=\"epoch\",\n",
    "    evaluation_strategy=\"epoch\",\n",
    "    learning_rate=2e-5,\n",
    "    per_device_train_batch_size=32,\n",
    "    per_device_eval_batch_size=32,\n",
    "    num_train_epochs=num_train_epoch,\n",
    "    weight_decay=0.01,\n",
    "    load_best_model_at_end=True,\n",
    "    metric_for_best_model=metric_name,\n",
    "    logging_dir='logs',\n",
    "    remove_unused_columns=False,\n",
    ")"
   ]
  },
  {
   "cell_type": "code",
   "execution_count": 19,
   "id": "63aa79b4-21c0-405e-90fd-76f12aca7917",
   "metadata": {},
   "outputs": [],
   "source": [
    "from datasets import load_metric\n",
    "# import evaluate\n",
    "import numpy as np\n",
    "\n",
    "metric = load_metric(\"accuracy\")\n",
    "\n",
    "def compute_metrics(eval_pred):\n",
    "    predictions, labels = eval_pred\n",
    "    predictions = np.argmax(predictions, axis=1)\n",
    "    return metric.compute(predictions=predictions, references=labels)"
   ]
  },
  {
   "cell_type": "code",
   "execution_count": 20,
   "id": "f2b434f7-c2d6-4e97-8b67-3b1fc850fed2",
   "metadata": {},
   "outputs": [],
   "source": [
    "import torch\n",
    "\n",
    "trainer = Trainer(\n",
    "    model,\n",
    "    args,\n",
    "    train_dataset=train_ds,\n",
    "    eval_dataset=val_ds,\n",
    "    data_collator=collate_fn,\n",
    "    compute_metrics=compute_metrics,\n",
    "    tokenizer=feature_extractor,\n",
    ")"
   ]
  },
  {
   "cell_type": "code",
   "execution_count": 21,
   "id": "3569fdda-5a62-4123-8db6-30f94f8db6f9",
   "metadata": {},
   "outputs": [],
   "source": [
    "# outputs = trainer.predict(test_ds)"
   ]
  },
  {
   "cell_type": "code",
   "execution_count": 22,
   "id": "335812db-2589-4966-b150-15e712801cd6",
   "metadata": {},
   "outputs": [],
   "source": [
    "# outputs.metrics['test_accuracy']"
   ]
  },
  {
   "cell_type": "code",
   "execution_count": 25,
   "id": "53b1e4db-5773-4f87-9eb2-9a8ae21fbc89",
   "metadata": {},
   "outputs": [
    {
     "data": {
      "text/plain": [
       "['checkpoint-352',\n",
       " 'checkpoint-704',\n",
       " 'checkpoint-1056',\n",
       " 'checkpoint-1408',\n",
       " 'checkpoint-1760',\n",
       " 'checkpoint-2112',\n",
       " 'checkpoint-2464',\n",
       " 'checkpoint-2816',\n",
       " 'checkpoint-3168',\n",
       " 'checkpoint-3520']"
      ]
     },
     "execution_count": 25,
     "metadata": {},
     "output_type": "execute_result"
    }
   ],
   "source": [
    "l_ckpt_dir"
   ]
  },
  {
   "cell_type": "code",
   "execution_count": 28,
   "id": "fa9d7f7f-5a90-4162-a008-1a53282dd9c4",
   "metadata": {
    "scrolled": true,
    "tags": []
   },
   "outputs": [
    {
     "name": "stdout",
     "output_type": "stream",
     "text": [
      "checkpoint-3520\n",
      "loading finetune-cifar-10/checkpoint-3520/prelogit.pkl...\n"
     ]
    },
    {
     "data": {
      "application/vnd.jupyter.widget-view+json": {
       "model_id": "0f94d90647d9416d9e0362a5d45004d8",
       "version_major": 2,
       "version_minor": 0
      },
      "text/plain": [
       "  0%|          | 0/2500 [00:00<?, ?it/s]"
      ]
     },
     "metadata": {},
     "output_type": "display_data"
    },
    {
     "data": {
      "application/vnd.jupyter.widget-view+json": {
       "model_id": "c0beca45389d4963a7c8af7d7c6831e9",
       "version_major": 2,
       "version_minor": 0
      },
      "text/plain": [
       "  0%|          | 0/2500 [00:00<?, ?it/s]"
      ]
     },
     "metadata": {},
     "output_type": "display_data"
    },
    {
     "name": "stdout",
     "output_type": "stream",
     "text": [
      "CIFAR10 vs CIFAR100 MD AUROC 0.981038515\n",
      "CIFAR 100 min ranks [ 2 13 19 44 94]\n"
     ]
    },
    {
     "data": {
      "application/vnd.jupyter.widget-view+json": {
       "model_id": "d4b52f08b71a40b4a6111352ace4f7ab",
       "version_major": 2,
       "version_minor": 0
      },
      "text/plain": [
       "  0%|          | 0/407 [00:00<?, ?it/s]"
      ]
     },
     "metadata": {},
     "output_type": "display_data"
    },
    {
     "name": "stdout",
     "output_type": "stream",
     "text": [
      "CIFAR10 vs SVHN MD AUROC 0.9994976144744928\n",
      "SVHN min ranks [7167 7378 7598 7952 8164]\n",
      "\n"
     ]
    }
   ],
   "source": [
    "# ckpt_path = 'test-cifar-10/checkpoint-3375/pytorch_model.bin'\n",
    "# for ckpt_idx in l_ckpt_dir:\n",
    "for ckpt_idx in ['checkpoint-3520']:    \n",
    "    print(ckpt_idx)\n",
    "    ckpt_dir = f'finetune-cifar-10/{ckpt_idx}'\n",
    "    ckpt_path = f'{ckpt_dir}/pytorch_model.bin'\n",
    "    model.load_state_dict(torch.load(ckpt_path))\n",
    "    model.eval();\n",
    "    model.to(device);\n",
    "    \n",
    "    # outputs = trainer.predict(test_ds)\n",
    "    # print(outputs)\n",
    "\n",
    "    prelogit_file = f'{ckpt_dir}/prelogit.pkl'\n",
    "    if os.path.isfile(prelogit_file):\n",
    "        prelogit = torch.load(prelogit_file)\n",
    "        print(f'loading {prelogit_file}...')\n",
    "    else: \n",
    "        prelogit = get_prelogit(model, cifar10_train_dataloader)\n",
    "        torch.save(prelogit, prelogit_file)\n",
    "\n",
    "    '''mahalanobis statistics computation'''\n",
    "    l_mean = []\n",
    "    l_outer = []\n",
    "    for k in range(10):\n",
    "        subset_x = prelogit[cifar10_train_label == k]\n",
    "        subset_mean = torch.mean(subset_x, dim=0, keepdim=True)\n",
    "        # subset_outer = torch.cov(subset_x - subset_mean, correction=0) * len(subset_x)\n",
    "        v = subset_x - subset_mean\n",
    "        subset_outer = v.T.mm(v)\n",
    "        l_mean.append(subset_mean)\n",
    "        l_outer.append(subset_outer)\n",
    "    pooled_cov = torch.sum(torch.stack(l_outer), dim=0) / len(prelogit)\n",
    "    all_means = torch.stack(l_mean, dim=-1)\n",
    "    invcov = torch.linalg.inv(pooled_cov)\n",
    "\n",
    "    '''relative mahalanobis statistics'''\n",
    "    whole_mean = torch.mean(prelogit, dim=0, keepdim=True)\n",
    "    v = prelogit - whole_mean\n",
    "    whole_cov = v.T.mm(v) / len(prelogit)\n",
    "    whole_invcov = torch.linalg.inv(whole_cov)\n",
    "\n",
    "    '''save'''\n",
    "    torch.save({'all_means': all_means,\n",
    "                'invcov': invcov,\n",
    "                'whole_mean': whole_mean,\n",
    "                'whole_invcov': whole_invcov}, f'{ckpt_dir}/maha-statistic.pkl')\n",
    "\n",
    "    cifar10_maha = forward_maha_dl(model, test_dataloader, all_means, invcov)\n",
    "    cifar100_maha = forward_maha_dl(model, cifar100_dataloader, all_means, invcov)\n",
    "    print('CIFAR10 vs CIFAR100 MD AUROC', roc_btw_arr(cifar100_maha, cifar10_maha))\n",
    "\n",
    "    rank = np.searchsorted(np.sort(cifar10_maha), cifar100_maha)\n",
    "    print('CIFAR 100 min ranks', np.sort(rank)[:5])\n",
    "\n",
    "    svhn_maha = forward_maha_dl(model, svhn_dataloader, all_means, invcov)\n",
    "    print('CIFAR10 vs SVHN MD AUROC', roc_btw_arr(svhn_maha, cifar10_maha))\n",
    "\n",
    "    rank = np.searchsorted(np.sort(cifar10_maha), svhn_maha)\n",
    "    print('SVHN min ranks', np.sort(rank)[:5])\n",
    "    #rank.min()\n",
    "    print()"
   ]
  },
  {
   "cell_type": "markdown",
   "id": "14b8b97d-4840-452e-b8ff-2701f44217c4",
   "metadata": {},
   "source": [
    "## Example analysis"
   ]
  },
  {
   "cell_type": "code",
   "execution_count": 73,
   "id": "4b12d46f-239e-45c1-8ca3-c8fde458ad4f",
   "metadata": {},
   "outputs": [
    {
     "name": "stdout",
     "output_type": "stream",
     "text": [
      "loading finetune-cifar-10/checkpoint-3168/prelogit.pkl...\n"
     ]
    }
   ],
   "source": [
    "ckpt_idx = 'checkpoint-3168'\n",
    "ckpt_dir = f'finetune-cifar-10/{ckpt_idx}'\n",
    "ckpt_path = f'{ckpt_dir}/pytorch_model.bin'\n",
    "model.load_state_dict(torch.load(ckpt_path))\n",
    "model.eval();\n",
    "model.to(device);\n",
    "\n",
    "# outputs = trainer.predict(test_ds)\n",
    "# print(outputs)\n",
    "\n",
    "prelogit_file = f'{ckpt_dir}/prelogit.pkl'\n",
    "if os.path.isfile(prelogit_file):\n",
    "    prelogit = torch.load(prelogit_file)\n",
    "    print(f'loading {prelogit_file}...')\n",
    "else: \n",
    "    prelogit = get_prelogit(model, cifar10_train_dataloader)\n",
    "    torch.save(prelogit, prelogit_file)"
   ]
  },
  {
   "cell_type": "code",
   "execution_count": 74,
   "id": "59053514-0415-4abe-8743-3517e0b070c5",
   "metadata": {},
   "outputs": [],
   "source": [
    "d_maha = torch.load(f'{ckpt_dir}/maha-statistic.pkl')\n",
    "all_means = d_maha['all_means']\n",
    "invcov = d_maha['invcov']"
   ]
  },
  {
   "cell_type": "code",
   "execution_count": 75,
   "id": "e3b88600-7226-4d32-8308-80c9e8ded775",
   "metadata": {},
   "outputs": [
    {
     "data": {
      "application/vnd.jupyter.widget-view+json": {
       "model_id": "f1d91771e2af486f8f53293cc600852d",
       "version_major": 2,
       "version_minor": 0
      },
      "text/plain": [
       "  0%|          | 0/2500 [00:00<?, ?it/s]"
      ]
     },
     "metadata": {},
     "output_type": "display_data"
    },
    {
     "data": {
      "application/vnd.jupyter.widget-view+json": {
       "model_id": "3b9daf7a758d42fa8afaf92c91e2bf60",
       "version_major": 2,
       "version_minor": 0
      },
      "text/plain": [
       "  0%|          | 0/407 [00:00<?, ?it/s]"
      ]
     },
     "metadata": {},
     "output_type": "display_data"
    },
    {
     "name": "stdout",
     "output_type": "stream",
     "text": [
      "CIFAR10 vs SVHN MD AUROC 0.9995287876459743\n",
      "SVHN min ranks [7588 7703 7745 8074 8252]\n"
     ]
    }
   ],
   "source": [
    "cifar10_maha = forward_maha_dl(model, test_dataloader, all_means, invcov)\n",
    "# cifar100_maha = forward_maha_dl(model, cifar100_dataloader, all_means, invcov)\n",
    "# print('CIFAR10 vs CIFAR100 MD AUROC', roc_btw_arr(cifar100_maha, cifar10_maha))\n",
    "\n",
    "# rank = np.searchsorted(np.sort(cifar10_maha), cifar100_maha)\n",
    "# print('CIFAR 100 min ranks', np.sort(rank)[:5])\n",
    "\n",
    "svhn_maha = forward_maha_dl(model, svhn_dataloader, all_means, invcov)\n",
    "print('CIFAR10 vs SVHN MD AUROC', roc_btw_arr(svhn_maha, cifar10_maha))\n",
    "\n",
    "rank = np.searchsorted(np.sort(cifar10_maha), svhn_maha)\n",
    "print('SVHN min ranks', np.sort(rank)[:5])"
   ]
  },
  {
   "cell_type": "markdown",
   "id": "5d65b41f-bf70-4c26-a900-5e53248c45a4",
   "metadata": {},
   "source": [
    "* 가장 가까운"
   ]
  },
  {
   "cell_type": "code",
   "execution_count": 101,
   "id": "75494287-c1c2-496f-8459-37693e94a0d9",
   "metadata": {},
   "outputs": [
    {
     "data": {
      "application/vnd.jupyter.widget-view+json": {
       "model_id": "09e62f3399c44415908e091aa5e11c50",
       "version_major": 2,
       "version_minor": 0
      },
      "text/plain": [
       "  0%|          | 0/2500 [00:00<?, ?it/s]"
      ]
     },
     "metadata": {},
     "output_type": "display_data"
    }
   ],
   "source": [
    "cifar10_test_prelogit = get_prelogit(model, test_dataloader)"
   ]
  },
  {
   "cell_type": "code",
   "execution_count": 102,
   "id": "ca5c659f-b171-4a79-8971-35dfdc24ac7f",
   "metadata": {},
   "outputs": [
    {
     "data": {
      "text/plain": [
       "torch.Size([10000, 768])"
      ]
     },
     "execution_count": 102,
     "metadata": {},
     "output_type": "execute_result"
    }
   ],
   "source": [
    "cifar10_test_prelogit.shape"
   ]
  },
  {
   "cell_type": "code",
   "execution_count": 110,
   "id": "4f847c88-278e-475d-98c2-cf1f32253f31",
   "metadata": {},
   "outputs": [
    {
     "data": {
      "application/vnd.jupyter.widget-view+json": {
       "model_id": "e0be94f0443c482588e68dbebf9270c5",
       "version_major": 2,
       "version_minor": 0
      },
      "text/plain": [
       "  0%|          | 0/10000 [00:00<?, ?it/s]"
      ]
     },
     "metadata": {},
     "output_type": "display_data"
    }
   ],
   "source": [
    "# pdist = ((prelogit.unsqueeze(1) - cifar10_test_prelogit.unsqueeze(0)) ** 2).sum(dim=2)\n",
    "l_in_test_nndist = []\n",
    "for i in tqdm(range(len(cifar10_test_prelogit))):\n",
    "    xxx = cifar10_test_prelogit[[i]]\n",
    "    l_in_test_nndist.append( ((prelogit - xxx) ** 2).sum(dim=1).min(dim=0).values )\n",
    "    "
   ]
  },
  {
   "cell_type": "code",
   "execution_count": 113,
   "id": "74f5e382-3d1c-4e2f-94a3-20adf033c4f6",
   "metadata": {},
   "outputs": [],
   "source": [
    "in_test_nndist = torch.tensor(l_in_test_nndist)"
   ]
  },
  {
   "cell_type": "code",
   "execution_count": 119,
   "id": "d5854fa8-08ca-4c87-a358-baa379884a23",
   "metadata": {},
   "outputs": [],
   "source": [
    "in_test_nndist = in_test_nndist[:,0]"
   ]
  },
  {
   "cell_type": "code",
   "execution_count": 120,
   "id": "29e4bad1-9100-4c34-9bf2-979766092b63",
   "metadata": {},
   "outputs": [
    {
     "data": {
      "text/plain": [
       "(array([9.472e+03, 4.100e+02, 7.600e+01, 2.600e+01, 1.200e+01, 3.000e+00,\n",
       "        0.000e+00, 0.000e+00, 0.000e+00, 1.000e+00]),\n",
       " array([3.3332694e-02, 4.4814267e+00, 8.9295206e+00, 1.3377615e+01,\n",
       "        1.7825710e+01, 2.2273804e+01, 2.6721897e+01, 3.1169992e+01,\n",
       "        3.5618088e+01, 4.0066181e+01, 4.4514275e+01], dtype=float32),\n",
       " <BarContainer object of 10 artists>)"
      ]
     },
     "execution_count": 120,
     "metadata": {},
     "output_type": "execute_result"
    },
    {
     "data": {
      "image/png": "[encoded data removed]",
      "text/plain": [
       "<Figure size 640x480 with 1 Axes>"
      ]
     },
     "metadata": {},
     "output_type": "display_data"
    }
   ],
   "source": [
    "plt.hist(in_test_nndist.numpy(), bins=)"
   ]
  },
  {
   "cell_type": "code",
   "execution_count": 122,
   "id": "5bba8db8-5658-4eb6-bec8-8232961946f1",
   "metadata": {},
   "outputs": [
    {
     "data": {
      "text/plain": [
       "tensor(5.5471)"
      ]
     },
     "execution_count": 122,
     "metadata": {},
     "output_type": "execute_result"
    }
   ],
   "source": [
    "((prelogit - out.cpu()) ** 2).sum(dim=1).min(dim=0).values\n",
    "    "
   ]
  },
  {
   "cell_type": "code",
   "execution_count": 140,
   "id": "ee004e24-af62-49b2-9e7d-91cee31186e8",
   "metadata": {},
   "outputs": [
    {
     "data": {
      "text/plain": [
       "tensor(2.0486)"
      ]
     },
     "execution_count": 140,
     "metadata": {},
     "output_type": "execute_result"
    }
   ],
   "source": [
    "((prelogit - out.cpu()) ** 2).sum(dim=1).min(dim=0).values\n",
    "    "
   ]
  },
  {
   "cell_type": "code",
   "execution_count": 141,
   "id": "90aadd9f-76d2-4921-902d-a2cb2bd06754",
   "metadata": {},
   "outputs": [
    {
     "data": {
      "text/plain": [
       "7346"
      ]
     },
     "execution_count": 141,
     "metadata": {},
     "output_type": "execute_result"
    }
   ],
   "source": [
    "np.searchsorted(np.sort(in_test_nndist.numpy()), 2.0486)"
   ]
  },
  {
   "cell_type": "code",
   "execution_count": 134,
   "id": "aad9918c-1c8c-41ab-9506-6e1a6349dfdd",
   "metadata": {},
   "outputs": [
    {
     "data": {
      "text/plain": [
       "tensor(39067)"
      ]
     },
     "execution_count": 134,
     "metadata": {},
     "output_type": "execute_result"
    }
   ],
   "source": [
    "((prelogit - out.cpu()) ** 2).sum(dim=1).argmin()"
   ]
  },
  {
   "cell_type": "code",
   "execution_count": null,
   "id": "8fc8b605-8e64-4b96-bf15-a81053ffca7e",
   "metadata": {},
   "outputs": [],
   "source": []
  },
  {
   "cell_type": "code",
   "execution_count": null,
   "id": "8443e2b7-7cb3-4692-98a7-5d690327f8db",
   "metadata": {},
   "outputs": [],
   "source": []
  },
  {
   "cell_type": "code",
   "execution_count": 76,
   "id": "aa6aa6ec-2b5c-401c-9c9c-f85c1772efcf",
   "metadata": {},
   "outputs": [
    {
     "data": {
      "text/plain": [
       "array([14006, 13353, 24896,  4395, 24497])"
      ]
     },
     "execution_count": 76,
     "metadata": {},
     "output_type": "execute_result"
    }
   ],
   "source": [
    "np.argsort(rank)[:5]"
   ]
  },
  {
   "cell_type": "code",
   "execution_count": 77,
   "id": "e2a8626d-24b8-442d-939f-b8e64cb9b2c2",
   "metadata": {},
   "outputs": [
    {
     "data": {
      "image/png": "[encoded data removed]",
      "text/plain": [
       "<PIL.PngImagePlugin.PngImageFile image mode=RGB size=32x32>"
      ]
     },
     "execution_count": 77,
     "metadata": {},
     "output_type": "execute_result"
    }
   ],
   "source": [
    "svhn_ds[14006]['image']"
   ]
  },
  {
   "cell_type": "code",
   "execution_count": 138,
   "id": "13ed68f7-0eaf-4723-88ed-429376f3b2ca",
   "metadata": {},
   "outputs": [],
   "source": [
    "datum = svhn_ds[24896]['pixel_values'].unsqueeze(0).to(device)"
   ]
  },
  {
   "cell_type": "code",
   "execution_count": 87,
   "id": "8a2fec71-a716-4c6b-8e51-236d3f4eb0ee",
   "metadata": {},
   "outputs": [],
   "source": [
    "subset_x = prelogit[cifar10_train_label==3]"
   ]
  },
  {
   "cell_type": "code",
   "execution_count": 88,
   "id": "4dd923eb-10a7-4165-8122-ec47d3f75500",
   "metadata": {},
   "outputs": [],
   "source": [
    "aa = ((subset_x.unsqueeze(-1) - all_means) ** 2).mean(dim=1)"
   ]
  },
  {
   "cell_type": "code",
   "execution_count": 89,
   "id": "6be353e8-c1c6-4f93-8d0c-680ee64825e1",
   "metadata": {},
   "outputs": [
    {
     "data": {
      "text/plain": [
       "tensor([0.1173, 0.1147, 0.1117, 0.0047, 0.1130, 0.0963, 0.1124, 0.1145, 0.1159,\n",
       "        0.1145])"
      ]
     },
     "execution_count": 89,
     "metadata": {},
     "output_type": "execute_result"
    }
   ],
   "source": [
    "aa.mean(dim=0)"
   ]
  },
  {
   "cell_type": "code",
   "execution_count": 90,
   "id": "f0d0b74c-57a5-4f94-b35c-d6ae812d274c",
   "metadata": {},
   "outputs": [
    {
     "data": {
      "text/plain": [
       "torch.return_types.min(\n",
       "values=tensor([0.0430, 0.0817, 0.0300, 0.0012, 0.0227, 0.0026, 0.0346, 0.0411, 0.0233,\n",
       "        0.0837]),\n",
       "indices=tensor([ 783, 3537,  799, 1497, 3462, 3619,  715, 4031, 1445, 2664]))"
      ]
     },
     "execution_count": 90,
     "metadata": {},
     "output_type": "execute_result"
    }
   ],
   "source": [
    "aa.min(dim=0)"
   ]
  },
  {
   "cell_type": "code",
   "execution_count": 139,
   "id": "bf382212-b9b8-4e3e-a967-373684e5328f",
   "metadata": {},
   "outputs": [
    {
     "name": "stdout",
     "output_type": "stream",
     "text": [
      "tensor(0.0025)\n",
      "tensor(0.1119)\n",
      "tensor(0.1135)\n",
      "tensor(0.1167)\n",
      "tensor(0.1160)\n",
      "tensor(0.1127)\n",
      "tensor(0.1123)\n",
      "tensor(0.1152)\n",
      "tensor(0.1068)\n",
      "tensor(0.1092)\n"
     ]
    }
   ],
   "source": [
    "'''distance to centroids'''\n",
    "with torch.no_grad():\n",
    "    out = model(datum, output_hidden_states=True)\n",
    "    out = out.hidden_states[-1][:,0,:]\n",
    "    out = model.vit.layernorm(out)\n",
    "\n",
    "for i in range(10):\n",
    "    print(((all_means[:,:,i] - out.cpu()) ** 2).mean())"
   ]
  },
  {
   "cell_type": "code",
   "execution_count": 104,
   "id": "1250d09b-9ca6-4f07-85c5-d1eeda757ab9",
   "metadata": {},
   "outputs": [
    {
     "data": {
      "text/plain": [
       "array([24896, 13353, 24497,  7549, 16564])"
      ]
     },
     "execution_count": 104,
     "metadata": {},
     "output_type": "execute_result"
    }
   ],
   "source": [
    "np.argsort(rank)[:5]"
   ]
  },
  {
   "cell_type": "code",
   "execution_count": 78,
   "id": "5f0ca6d5-b26e-47ad-808f-22c844cd1cf5",
   "metadata": {},
   "outputs": [
    {
     "data": {
      "image/png": "[encoded data removed]",
      "text/plain": [
       "<PIL.PngImagePlugin.PngImageFile image mode=RGB size=32x32>"
      ]
     },
     "execution_count": 78,
     "metadata": {},
     "output_type": "execute_result"
    }
   ],
   "source": [
    "svhn_ds[24896]['image']"
   ]
  },
  {
   "cell_type": "code",
   "execution_count": 78,
   "id": "7c40194c-f1f0-4dea-99b8-c09f547e1f6f",
   "metadata": {},
   "outputs": [
    {
     "data": {
      "image/png": "[encoded data removed]",
      "text/plain": [
       "<PIL.PngImagePlugin.PngImageFile image mode=RGB size=32x32>"
      ]
     },
     "execution_count": 78,
     "metadata": {},
     "output_type": "execute_result"
    }
   ],
   "source": [
    "svhn_ds[13353]['image']"
   ]
  },
  {
   "cell_type": "code",
   "execution_count": 79,
   "id": "74ab0e96-e5d3-4729-99ca-65109e070673",
   "metadata": {},
   "outputs": [
    {
     "data": {
      "text/plain": [
       "tensor(876.5606)"
      ]
     },
     "execution_count": 79,
     "metadata": {},
     "output_type": "execute_result"
    }
   ],
   "source": [
    "svhn_maha[24896]"
   ]
  },
  {
   "cell_type": "code",
   "execution_count": 107,
   "id": "6c9c10ec-64c5-4c35-8d70-02266e8a91e2",
   "metadata": {},
   "outputs": [
    {
     "data": {
      "text/plain": [
       "tensor(883.3958)"
      ]
     },
     "execution_count": 107,
     "metadata": {},
     "output_type": "execute_result"
    }
   ],
   "source": [
    "svhn_maha[13353]"
   ]
  },
  {
   "cell_type": "code",
   "execution_count": 108,
   "id": "68bc5557-8537-4ff8-8c0b-dcf5160a7ab8",
   "metadata": {},
   "outputs": [
    {
     "data": {
      "text/plain": [
       "tensor(983.8606)"
      ]
     },
     "execution_count": 108,
     "metadata": {},
     "output_type": "execute_result"
    }
   ],
   "source": [
    "svhn_maha[24497]"
   ]
  },
  {
   "cell_type": "code",
   "execution_count": 157,
   "id": "e98c5615-8dc5-40ce-ae78-088ff57f7cf0",
   "metadata": {},
   "outputs": [],
   "source": [
    "datum = svhn_ds[13353]['pixel_values'].unsqueeze(0).to(device)"
   ]
  },
  {
   "cell_type": "code",
   "execution_count": 192,
   "id": "03e2de40-ee60-48f8-9d66-fd3352ff7ff6",
   "metadata": {},
   "outputs": [],
   "source": [
    "from torchvision.transforms.functional import hflip, affine, invert"
   ]
  },
  {
   "cell_type": "code",
   "execution_count": 199,
   "id": "90fefdc3-9ae4-4d10-80ae-d3a1ce366f11",
   "metadata": {},
   "outputs": [],
   "source": [
    "datum2 = affine(svhn_ds[13353]['pixel_values'], 90,(0,0),1,0).unsqueeze(0).to(device)\n",
    "# datum2 = invert(svhn_ds[13353]['pixel_values']).unsqueeze(0).to(device)"
   ]
  },
  {
   "cell_type": "code",
   "execution_count": 202,
   "id": "f852a868-4956-4a7c-b1f7-6dfa8023fb93",
   "metadata": {},
   "outputs": [
    {
     "data": {
      "text/plain": [
       "<matplotlib.image.AxesImage at 0x7fdd11b0c0a0>"
      ]
     },
     "execution_count": 202,
     "metadata": {},
     "output_type": "execute_result"
    },
    {
     "data": {
      "image/png": "[encoded data removed]",
      "text/plain": [
       "<Figure size 640x480 with 1 Axes>"
      ]
     },
     "metadata": {},
     "output_type": "display_data"
    }
   ],
   "source": [
    "plt.imshow((datum[0].permute(1,2,0).cpu() * 0.5 +0.5 ))"
   ]
  },
  {
   "cell_type": "code",
   "execution_count": 195,
   "id": "acfee40a-80e2-4874-989e-f4b321d81131",
   "metadata": {},
   "outputs": [],
   "source": [
    "with torch.no_grad():\n",
    "    out = model(datum2, output_hidden_states=True)\n",
    "    out = out.hidden_states[-1][:,0,:]\n",
    "    out = model.vit.layernorm(out)"
   ]
  },
  {
   "cell_type": "code",
   "execution_count": 196,
   "id": "f8773b55-f597-465f-990a-d8adf2b45250",
   "metadata": {},
   "outputs": [
    {
     "name": "stdout",
     "output_type": "stream",
     "text": [
      "tensor(0.0197)\n",
      "tensor(0.1221)\n",
      "tensor(0.0996)\n",
      "tensor(0.1103)\n",
      "tensor(0.1097)\n",
      "tensor(0.1113)\n",
      "tensor(0.1105)\n",
      "tensor(0.1142)\n",
      "tensor(0.1090)\n",
      "tensor(0.1137)\n"
     ]
    }
   ],
   "source": [
    "for i in range(10):\n",
    "    print(((all_means[:,:,i] - out.cpu()) ** 2).mean())"
   ]
  },
  {
   "cell_type": "code",
   "execution_count": 99,
   "id": "03dc8634-4393-493b-b9bc-d00f3a75ca35",
   "metadata": {},
   "outputs": [],
   "source": [
    "nn_dist = ((out.cpu() - prelogit) ** 2).mean(dim=1)"
   ]
  },
  {
   "cell_type": "code",
   "execution_count": 100,
   "id": "96822612-4088-4a3f-8f64-44b15d0bface",
   "metadata": {},
   "outputs": [
    {
     "data": {
      "text/plain": [
       "tensor(0.0072)"
      ]
     },
     "execution_count": 100,
     "metadata": {},
     "output_type": "execute_result"
    }
   ],
   "source": [
    "nn_dist.min()"
   ]
  },
  {
   "cell_type": "code",
   "execution_count": 93,
   "id": "23e2801e-fd94-4a55-b49f-d05d3316161c",
   "metadata": {},
   "outputs": [
    {
     "data": {
      "text/plain": [
       "tensor([16544, 10714, 35158, 28348, 15649, 40395, 42412, 36226, 25279,  9384])"
      ]
     },
     "execution_count": 93,
     "metadata": {},
     "output_type": "execute_result"
    }
   ],
   "source": [
    "torch.argsort(nn_dist)[:10]"
   ]
  },
  {
   "cell_type": "code",
   "execution_count": 94,
   "id": "b59d9412-f913-4fb0-a570-bcf6e5a0a68f",
   "metadata": {},
   "outputs": [
    {
     "data": {
      "text/plain": [
       "tensor([27802,  2476, 23044, 30719, 27313, 19868,  5030, 10674, 42994, 11926])"
      ]
     },
     "execution_count": 94,
     "metadata": {},
     "output_type": "execute_result"
    }
   ],
   "source": [
    "torch.argsort(nn_dist)[-10:]"
   ]
  },
  {
   "cell_type": "code",
   "execution_count": 135,
   "id": "98594ec4-dcc7-4ce3-bb03-50c14626b34b",
   "metadata": {},
   "outputs": [
    {
     "data": {
      "image/png": "[encoded data removed]",
      "text/plain": [
       "<PIL.PngImagePlugin.PngImageFile image mode=RGB size=32x32>"
      ]
     },
     "execution_count": 135,
     "metadata": {},
     "output_type": "execute_result"
    }
   ],
   "source": [
    "cifar10_train_ds[39067]['img']"
   ]
  },
  {
   "cell_type": "code",
   "execution_count": 96,
   "id": "0a8c9539-ae29-4e8b-91b2-3b949e0e08e2",
   "metadata": {},
   "outputs": [
    {
     "data": {
      "image/png": "[encoded data removed]",
      "text/plain": [
       "<PIL.PngImagePlugin.PngImageFile image mode=RGB size=32x32>"
      ]
     },
     "execution_count": 96,
     "metadata": {},
     "output_type": "execute_result"
    }
   ],
   "source": [
    "cifar10_train_ds[10714]['img']"
   ]
  },
  {
   "cell_type": "code",
   "execution_count": 97,
   "id": "16c1dbdf-16b8-47bc-9ca9-e1e8412e215d",
   "metadata": {},
   "outputs": [
    {
     "data": {
      "image/png": "[encoded data removed]",
      "text/plain": [
       "<PIL.PngImagePlugin.PngImageFile image mode=RGB size=32x32>"
      ]
     },
     "execution_count": 97,
     "metadata": {},
     "output_type": "execute_result"
    }
   ],
   "source": [
    "cifar10_train_ds[35158]['img']"
   ]
  },
  {
   "cell_type": "code",
   "execution_count": null,
   "id": "2bff0b36-1979-4b40-ba83-d14193939cf1",
   "metadata": {},
   "outputs": [],
   "source": []
  },
  {
   "cell_type": "markdown",
   "id": "138849f0-4bd5-4176-89aa-8776bd8a81d1",
   "metadata": {},
   "source": [
    "## Eccentric inlier analysis"
   ]
  },
  {
   "cell_type": "code",
   "execution_count": 13,
   "id": "88df882d-46fe-49da-8365-54608eea999d",
   "metadata": {},
   "outputs": [],
   "source": [
    "model.to('cuda:0');"
   ]
  },
  {
   "cell_type": "code",
   "execution_count": 136,
   "id": "194bacda-3dec-4367-bbd5-6cf76f1b67c7",
   "metadata": {},
   "outputs": [
    {
     "data": {
      "application/vnd.jupyter.widget-view+json": {
       "model_id": "bdcd54b0a1d44e49baafc30a8fa53a6e",
       "version_major": 2,
       "version_minor": 0
      },
      "text/plain": [
       "  0%|          | 0/782 [00:00<?, ?it/s]"
      ]
     },
     "metadata": {},
     "output_type": "display_data"
    }
   ],
   "source": [
    "cifar10_train_maha = forward_maha_dl(model, cifar10_train_dataloader, all_means, invcov)"
   ]
  },
  {
   "cell_type": "code",
   "execution_count": 137,
   "id": "135db996-c6e7-4e30-bc87-8518725fa188",
   "metadata": {},
   "outputs": [
    {
     "data": {
      "text/plain": [
       "tensor(448.2420)"
      ]
     },
     "execution_count": 137,
     "metadata": {},
     "output_type": "execute_result"
    }
   ],
   "source": [
    "cifar10_train_maha[39067]"
   ]
  },
  {
   "cell_type": "code",
   "execution_count": 16,
   "id": "d7327dfb-9565-4e2e-ae8c-45107792fdd6",
   "metadata": {},
   "outputs": [
    {
     "data": {
      "text/plain": [
       "tensor(16800.9668)"
      ]
     },
     "execution_count": 16,
     "metadata": {},
     "output_type": "execute_result"
    }
   ],
   "source": [
    "cifar10_train_maha.max()"
   ]
  },
  {
   "cell_type": "code",
   "execution_count": 17,
   "id": "678cb784-8bbb-4777-8442-d6f5e1fa2c94",
   "metadata": {},
   "outputs": [
    {
     "data": {
      "text/plain": [
       "tensor(764.3541)"
      ]
     },
     "execution_count": 17,
     "metadata": {},
     "output_type": "execute_result"
    }
   ],
   "source": [
    "cifar10_train_maha.mean()"
   ]
  },
  {
   "cell_type": "code",
   "execution_count": 18,
   "id": "dd68247c-d6bc-40f5-bfc6-fbd6a4527910",
   "metadata": {},
   "outputs": [
    {
     "data": {
      "text/plain": [
       "tensor(609.8704)"
      ]
     },
     "execution_count": 18,
     "metadata": {},
     "output_type": "execute_result"
    }
   ],
   "source": [
    "cifar10_train_maha.median()"
   ]
  },
  {
   "cell_type": "code",
   "execution_count": 19,
   "id": "bd3b92a1-40c4-46c5-be71-e72c771d7fa9",
   "metadata": {},
   "outputs": [
    {
     "name": "stdout",
     "output_type": "stream",
     "text": [
      "tensor([28310, 47220,  6661, 24594, 31044])\n",
      "tensor([33813, 48839, 32008, 29809, 41074])\n"
     ]
    }
   ],
   "source": [
    "sorted_idx = torch.argsort(cifar10_train_maha, descending=True)\n",
    "print(sorted_idx[:5])\n",
    "print(sorted_idx[-5:])"
   ]
  },
  {
   "cell_type": "code",
   "execution_count": 133,
   "id": "56822d6b-e79b-4b13-b022-946530541e99",
   "metadata": {},
   "outputs": [
    {
     "name": "stdout",
     "output_type": "stream",
     "text": [
      "3 cat\n"
     ]
    },
    {
     "data": {
      "image/png": "[encoded data removed]",
      "text/plain": [
       "<PIL.PngImagePlugin.PngImageFile image mode=RGB size=32x32>"
      ]
     },
     "execution_count": 133,
     "metadata": {},
     "output_type": "execute_result"
    }
   ],
   "source": [
    "idx = 47220\n",
    "print(cifar10_train_ds[idx]['label'], id2label[cifar10_train_ds[idx]['label']])\n",
    "cifar10_train_ds[idx]['img']"
   ]
  },
  {
   "cell_type": "code",
   "execution_count": 135,
   "id": "dabe2deb-82fa-4e52-8e4b-c5203414a176",
   "metadata": {},
   "outputs": [
    {
     "name": "stdout",
     "output_type": "stream",
     "text": [
      "9 truck\n"
     ]
    },
    {
     "data": {
      "image/png": "[encoded data removed]",
      "text/plain": [
       "<PIL.PngImagePlugin.PngImageFile image mode=RGB size=32x32>"
      ]
     },
     "execution_count": 135,
     "metadata": {},
     "output_type": "execute_result"
    }
   ],
   "source": [
    "idx = 28310\n",
    "print(cifar10_train_ds[idx]['label'], id2label[cifar10_train_ds[idx]['label']])\n",
    "cifar10_train_ds[idx]['img']"
   ]
  },
  {
   "cell_type": "code",
   "execution_count": 132,
   "id": "aee441c2-678a-4d49-ada4-f81eefbdea20",
   "metadata": {},
   "outputs": [
    {
     "name": "stdout",
     "output_type": "stream",
     "text": [
      "1 automobile\n"
     ]
    },
    {
     "data": {
      "image/png": "[encoded data removed]",
      "text/plain": [
       "<PIL.PngImagePlugin.PngImageFile image mode=RGB size=32x32>"
      ]
     },
     "execution_count": 132,
     "metadata": {},
     "output_type": "execute_result"
    }
   ],
   "source": [
    "idx = 11538\n",
    "print(cifar10_train_ds[idx]['label'], id2label[cifar10_train_ds[idx]['label']])\n",
    "cifar10_train_ds[idx]['img']"
   ]
  },
  {
   "cell_type": "code",
   "execution_count": 134,
   "id": "f2c1a0f6-10e4-402d-81eb-e98844dda87e",
   "metadata": {},
   "outputs": [
    {
     "name": "stdout",
     "output_type": "stream",
     "text": [
      "9 truck\n"
     ]
    },
    {
     "data": {
      "image/png": "[encoded data removed]",
      "text/plain": [
       "<PIL.PngImagePlugin.PngImageFile image mode=RGB size=32x32>"
      ]
     },
     "execution_count": 134,
     "metadata": {},
     "output_type": "execute_result"
    }
   ],
   "source": [
    "idx = 34809\n",
    "print(cifar10_train_ds[idx]['label'], id2label[cifar10_train_ds[idx]['label']])\n",
    "cifar10_train_ds[idx]['img']"
   ]
  },
  {
   "cell_type": "code",
   "execution_count": 136,
   "id": "6fa794e3-8184-4954-a151-2942ea5e09ed",
   "metadata": {},
   "outputs": [
    {
     "name": "stdout",
     "output_type": "stream",
     "text": [
      "1 automobile\n"
     ]
    },
    {
     "data": {
      "image/png": "[encoded data removed]",
      "text/plain": [
       "<PIL.PngImagePlugin.PngImageFile image mode=RGB size=32x32>"
      ]
     },
     "execution_count": 136,
     "metadata": {},
     "output_type": "execute_result"
    }
   ],
   "source": [
    "idx = 5129\n",
    "print(cifar10_train_ds[idx]['label'], id2label[cifar10_train_ds[idx]['label']])\n",
    "cifar10_train_ds[idx]['img']"
   ]
  },
  {
   "cell_type": "code",
   "execution_count": 138,
   "id": "d834fcdc-beab-4ab1-af9a-f0421ab21b95",
   "metadata": {},
   "outputs": [
    {
     "name": "stdout",
     "output_type": "stream",
     "text": [
      "5 dog\n"
     ]
    },
    {
     "data": {
      "image/png": "[encoded data removed]",
      "text/plain": [
       "<PIL.PngImagePlugin.PngImageFile image mode=RGB size=32x32>"
      ]
     },
     "execution_count": 138,
     "metadata": {},
     "output_type": "execute_result"
    }
   ],
   "source": [
    "idx = 9103\n",
    "print(cifar10_train_ds[idx]['label'], id2label[cifar10_train_ds[idx]['label']])\n",
    "cifar10_train_ds[idx]['img']"
   ]
  },
  {
   "cell_type": "code",
   "execution_count": 23,
   "id": "3dcc1fe7-1df6-413a-a9e3-61f3114a548e",
   "metadata": {},
   "outputs": [
    {
     "data": {
      "text/plain": [
       "[<matplotlib.lines.Line2D at 0x7f54b0f3bd60>]"
      ]
     },
     "execution_count": 23,
     "metadata": {},
     "output_type": "execute_result"
    },
    {
     "data": {
      "image/png": "[encoded data removed]",
      "text/plain": [
       "<Figure size 640x480 with 1 Axes>"
      ]
     },
     "metadata": {},
     "output_type": "display_data"
    }
   ],
   "source": [
    "count, bins, c = plt.hist(cifar10_train_maha.numpy())\n",
    "plt.plot(bins[1:], np.cumsum(count))"
   ]
  },
  {
   "cell_type": "markdown",
   "id": "71200727-a993-4010-a19b-f3fdf23d230c",
   "metadata": {},
   "source": [
    "### robust estimation"
   ]
  },
  {
   "cell_type": "code",
   "execution_count": 40,
   "id": "7260ffb6-b7e1-46be-8140-bd4e078c6dd3",
   "metadata": {},
   "outputs": [],
   "source": [
    "cifar10_train_label = torch.tensor([cifar10_train_ds[i]['label'] for i in range(len(cifar10_train_ds))])"
   ]
  },
  {
   "cell_type": "code",
   "execution_count": 48,
   "id": "49bf64ed-0c48-45a6-ae75-fe517f4b600a",
   "metadata": {},
   "outputs": [],
   "source": [
    "selected_idx = sorted_idx[1000:]"
   ]
  },
  {
   "cell_type": "code",
   "execution_count": 49,
   "id": "9b53c357-47a4-479d-a04d-e472291cb591",
   "metadata": {},
   "outputs": [],
   "source": [
    "selected_prelogit = prelogit[selected_idx]"
   ]
  },
  {
   "cell_type": "code",
   "execution_count": 50,
   "id": "2fc3e4e2-76eb-4cc7-9139-870c9f279394",
   "metadata": {},
   "outputs": [],
   "source": [
    "selected_label = cifar10_train_label[selected_idx]"
   ]
  },
  {
   "cell_type": "code",
   "execution_count": 51,
   "id": "361fff1a-a74f-4dcb-b893-e8ca3ef401fb",
   "metadata": {},
   "outputs": [],
   "source": [
    "'''mahalanobis statistics computation'''\n",
    "l_mean = []\n",
    "l_outer = []\n",
    "for k in range(10):\n",
    "    subset_x = selected_prelogit[selected_label == k]\n",
    "    subset_mean = torch.mean(subset_x, dim=0, keepdim=True)\n",
    "    # subset_outer = torch.cov(subset_x - subset_mean, correction=0) * len(subset_x)\n",
    "    v = subset_x - subset_mean\n",
    "    subset_outer = v.T.mm(v)\n",
    "    l_mean.append(subset_mean)\n",
    "    l_outer.append(subset_outer)\n",
    "pooled_cov = torch.sum(torch.stack(l_outer), dim=0) / len(selected_prelogit)\n",
    "selected_all_means = torch.stack(l_mean, dim=-1)\n",
    "selected_invcov = torch.linalg.inv(pooled_cov)"
   ]
  },
  {
   "cell_type": "code",
   "execution_count": 52,
   "id": "923e9d4c-3202-4370-9d0d-858843ef9e3c",
   "metadata": {},
   "outputs": [
    {
     "data": {
      "application/vnd.jupyter.widget-view+json": {
       "model_id": "27ce1cf5261b46699e2a05dc967c7fdc",
       "version_major": 2,
       "version_minor": 0
      },
      "text/plain": [
       "  0%|          | 0/2500 [00:00<?, ?it/s]"
      ]
     },
     "metadata": {},
     "output_type": "display_data"
    },
    {
     "data": {
      "application/vnd.jupyter.widget-view+json": {
       "model_id": "117b689119cc4e0fba01ac743ea0376b",
       "version_major": 2,
       "version_minor": 0
      },
      "text/plain": [
       "  0%|          | 0/2500 [00:00<?, ?it/s]"
      ]
     },
     "metadata": {},
     "output_type": "display_data"
    },
    {
     "data": {
      "text/plain": [
       "0.9840303650000002"
      ]
     },
     "execution_count": 52,
     "metadata": {},
     "output_type": "execute_result"
    }
   ],
   "source": [
    "cifar10_maha_typ = forward_maha_dl(model, test_dataloader, selected_all_means, selected_invcov)\n",
    "cifar100_maha_typ = forward_maha_dl(model, cifar100_dataloader, selected_all_means, selected_invcov)\n",
    "\n",
    "roc_btw_arr(cifar100_maha_typ, cifar10_maha_typ)"
   ]
  },
  {
   "cell_type": "code",
   "execution_count": 44,
   "id": "5bdc8068-9d9d-401f-95e3-005e2dcfb8c5",
   "metadata": {},
   "outputs": [
    {
     "data": {
      "application/vnd.jupyter.widget-view+json": {
       "model_id": "9d066d8313d4412db951443a6a8654a5",
       "version_major": 2,
       "version_minor": 0
      },
      "text/plain": [
       "  0%|          | 0/2500 [00:00<?, ?it/s]"
      ]
     },
     "metadata": {},
     "output_type": "display_data"
    },
    {
     "data": {
      "application/vnd.jupyter.widget-view+json": {
       "model_id": "74159c1afa414cc5bec56b6dc7b09e40",
       "version_major": 2,
       "version_minor": 0
      },
      "text/plain": [
       "  0%|          | 0/2500 [00:00<?, ?it/s]"
      ]
     },
     "metadata": {},
     "output_type": "display_data"
    },
    {
     "data": {
      "text/plain": [
       "0.98407668"
      ]
     },
     "execution_count": 44,
     "metadata": {},
     "output_type": "execute_result"
    }
   ],
   "source": [
    "cifar10_maha_typ = forward_maha_dl(model, test_dataloader, selected_all_means, selected_invcov)\n",
    "cifar100_maha_typ = forward_maha_dl(model, cifar100_dataloader, selected_all_means, selected_invcov)\n",
    "\n",
    "roc_btw_arr(cifar100_maha_typ, cifar10_maha_typ)"
   ]
  },
  {
   "cell_type": "code",
   "execution_count": 53,
   "id": "ce8ecf65-7d94-4094-b66c-18ad732ee58c",
   "metadata": {},
   "outputs": [
    {
     "data": {
      "text/plain": [
       "733"
      ]
     },
     "execution_count": 53,
     "metadata": {},
     "output_type": "execute_result"
    }
   ],
   "source": [
    "rank = np.searchsorted(np.sort(cifar10_maha_typ), cifar100_maha_typ)\n",
    "rank.min()"
   ]
  },
  {
   "cell_type": "code",
   "execution_count": 45,
   "id": "50e37fa3-87b7-4237-a801-6e225814ea25",
   "metadata": {},
   "outputs": [
    {
     "data": {
      "text/plain": [
       "55"
      ]
     },
     "execution_count": 45,
     "metadata": {},
     "output_type": "execute_result"
    }
   ],
   "source": [
    "rank = np.searchsorted(np.sort(cifar10_maha_typ), cifar100_maha_typ)\n",
    "rank.min()"
   ]
  },
  {
   "cell_type": "code",
   "execution_count": 71,
   "id": "90261909-3b44-483d-94f2-fe131c739cfa",
   "metadata": {},
   "outputs": [
    {
     "data": {
      "application/vnd.jupyter.widget-view+json": {
       "model_id": "e28ece37e3d042b0b11d7c8c13f54468",
       "version_major": 2,
       "version_minor": 0
      },
      "text/plain": [
       "  0%|          | 0/407 [00:00<?, ?it/s]"
      ]
     },
     "metadata": {},
     "output_type": "display_data"
    },
    {
     "data": {
      "text/plain": [
       "0.9994338929010449"
      ]
     },
     "execution_count": 71,
     "metadata": {},
     "output_type": "execute_result"
    }
   ],
   "source": [
    "svhn_maha_typ = forward_maha_dl(model, svhn_dataloader, selected_all_means, selected_invcov)\n",
    "\n",
    "roc_btw_arr(svhn_maha_typ, cifar10_maha_typ)"
   ]
  },
  {
   "cell_type": "code",
   "execution_count": 74,
   "id": "b5d36e1a-4f15-45cc-87d1-949c20a1f4bd",
   "metadata": {},
   "outputs": [
    {
     "data": {
      "text/plain": [
       "7243"
      ]
     },
     "execution_count": 74,
     "metadata": {},
     "output_type": "execute_result"
    }
   ],
   "source": [
    "rank = np.searchsorted(np.sort(cifar10_maha_typ), svhn_maha_typ)\n",
    "rank.min()"
   ]
  },
  {
   "cell_type": "code",
   "execution_count": 101,
   "id": "93356b18-dd49-45c0-aec9-4195a219422b",
   "metadata": {},
   "outputs": [
    {
     "data": {
      "text/plain": [
       "tensor([ 2.4356e-01,  1.4894e-01,  1.2839e-01, -6.1052e-02,  1.5404e-01,\n",
       "        -3.7852e-01, -2.4515e-01,  7.9410e-02, -7.3658e-03, -1.8629e-01,\n",
       "         2.2969e-01,  1.6255e-01, -2.9145e-01,  1.0398e-01, -3.9614e-02,\n",
       "        -1.0957e-01, -7.7385e-02,  4.5932e-02, -5.6290e-04, -3.0793e-01,\n",
       "         2.8626e-01, -4.7800e-02, -5.2784e-02,  3.0432e-01,  2.0490e-01,\n",
       "        -1.8242e-01, -2.9659e-01,  1.0862e-01,  2.7107e-01, -3.3772e-01,\n",
       "        -2.9363e-01,  6.8021e-02, -1.0338e-02, -2.1261e-01,  8.3830e-02,\n",
       "        -4.1757e-02, -6.5709e-02, -1.6672e-01,  1.4233e-01,  6.7819e-02,\n",
       "        -6.3437e-02,  2.6119e-01, -3.3096e-01, -1.3948e-01,  9.6189e-02,\n",
       "        -1.7697e-01, -7.5740e-02,  1.2726e-01, -7.7552e-02,  9.9673e-02,\n",
       "         3.2231e-01, -6.4960e-01, -9.9112e-02, -3.7929e-01,  1.7176e-01,\n",
       "         2.0388e-01, -2.3977e-01, -1.0445e-01, -3.6889e-01, -3.5237e-01,\n",
       "        -3.2354e-01, -2.1062e-03, -9.1476e-02, -2.5158e-01,  1.0491e-01,\n",
       "         5.3120e-02, -3.3780e-01,  2.8274e-01,  6.6875e-02,  3.8207e-02,\n",
       "         2.7798e-01, -3.8248e-01,  6.5985e-02,  1.3903e-01,  7.6849e-02,\n",
       "         1.4624e-02,  6.6165e-02, -5.1662e-01,  1.8658e-01,  4.9819e-01,\n",
       "        -3.9858e-01,  1.3053e-01, -6.4167e-01,  1.1461e-01, -1.0547e-01,\n",
       "         1.2144e-01,  1.6425e-01,  4.8617e-02,  1.9471e-01, -2.7490e-04,\n",
       "        -1.3364e-01, -2.2691e-01, -2.5092e-01,  1.0630e-01, -4.0421e-01,\n",
       "        -3.1624e-01,  2.9797e-01, -2.5852e-01,  4.8092e-02,  1.4212e-01,\n",
       "         2.2997e-01, -4.1249e-02, -1.6773e-01, -2.4301e-01,  3.2993e-02,\n",
       "        -7.9914e-02,  6.3555e-02, -1.5670e-01,  2.2210e-01,  1.7786e-01,\n",
       "         1.9631e-01,  2.4996e-01, -2.6169e-04, -5.1684e-02, -1.1046e-01,\n",
       "        -2.2219e-01, -7.2776e-03,  8.8177e-03,  1.6237e-01, -3.9678e-01,\n",
       "         4.0645e-02, -3.3895e-01,  3.5691e-01,  1.6903e-01, -2.0590e-01,\n",
       "        -2.8606e-01, -9.1483e-02, -2.9544e-01, -2.0983e-01,  3.6184e-02,\n",
       "        -1.4971e-01,  3.0878e-01, -1.1136e-01,  1.9575e-01, -1.6381e-01,\n",
       "         3.1295e-01, -2.7512e-01,  1.9495e-01,  4.5033e-01, -2.7491e-01,\n",
       "        -1.5067e-02,  1.5433e-01, -3.2882e-01, -7.9029e-02, -9.2578e-02,\n",
       "         3.7053e-02, -1.8585e-02, -3.7283e-01, -1.5588e-01, -7.8632e-02,\n",
       "        -3.8321e-02,  2.2911e-01,  1.9223e-02, -1.3714e-03, -1.8776e-01,\n",
       "         1.2305e-02,  7.1079e-02, -1.2870e-01,  3.1911e-01,  2.3598e-01,\n",
       "         8.1469e-02, -2.8322e-02,  1.8999e-01, -3.6161e-01, -5.3471e-02,\n",
       "        -4.7251e-02, -1.1429e-02, -1.9142e-01, -1.4842e-01, -1.8062e-01,\n",
       "        -1.2300e-01, -3.6304e-01, -3.8055e-01, -1.9944e-01, -3.7425e-01,\n",
       "         1.1406e-02,  3.5328e-01,  2.7322e-01, -5.1064e-03,  2.8031e-01,\n",
       "        -8.2030e-02,  4.4030e-02, -1.2550e-01, -3.0444e-01, -4.2849e-03,\n",
       "        -9.5474e-02, -9.9621e-02,  1.6179e-01, -1.8810e-01,  8.6489e-02,\n",
       "         3.2562e-01,  3.9510e-01, -1.5600e-01, -1.2893e-01,  2.4753e-01,\n",
       "         2.4258e-02, -2.3683e-01,  2.9162e-02, -1.4820e-02,  3.4879e-01,\n",
       "         1.2712e-01, -2.0059e-01, -1.2987e-01, -8.0359e-03, -1.0245e-01,\n",
       "        -8.4910e-02, -2.6667e-01, -1.4303e-02, -5.2633e-02,  1.0382e-01,\n",
       "         1.2098e-01, -6.9777e-02, -2.0681e-01, -7.9644e-02, -5.6635e-02,\n",
       "         2.5115e-01,  2.4068e-01,  3.5682e-01, -2.0642e-01,  1.9784e-01,\n",
       "        -3.9074e-01, -3.1132e-02, -4.6961e-01, -2.5877e-02, -9.7632e-02,\n",
       "        -1.0190e-01, -2.9629e-01, -2.4003e-01, -3.9418e-01, -4.5536e-01,\n",
       "        -3.7671e-02,  3.3220e-02, -3.4452e-02, -1.2735e-01, -1.4545e-02,\n",
       "        -2.4330e-01, -2.0785e-01, -6.6223e-02,  9.7250e-02, -2.8682e-01,\n",
       "         1.3923e-01,  6.7031e-02, -2.6482e-01,  5.1677e-02,  2.9838e-01,\n",
       "        -1.2432e-01, -2.9487e-01,  3.0031e-01,  6.7511e-02, -3.0749e-01,\n",
       "         2.4238e-01, -9.2944e-02,  1.5810e-01,  3.1731e-01, -1.8730e-01,\n",
       "        -3.0057e-02,  2.5552e-01,  8.5816e-02,  2.1050e-01, -3.1168e-01,\n",
       "         3.1344e-02,  7.5554e-02, -6.1222e-02, -2.3215e-01, -3.0542e-01,\n",
       "        -4.3191e-01,  1.6740e-01, -1.4005e-01, -1.9691e-01, -3.8674e-01,\n",
       "        -2.4554e-02, -3.1702e-02,  6.5704e-02, -4.0525e-01,  2.7399e-01,\n",
       "        -2.5219e-01,  3.1728e-01, -4.9878e-01, -1.1071e-01,  1.1491e-02,\n",
       "        -2.3279e-01,  7.2055e-02, -4.7199e-02,  2.0361e-02,  3.1727e-02,\n",
       "        -1.5212e-01,  2.8780e-01, -2.0622e-01,  1.5307e-01,  1.7792e-01,\n",
       "         4.5277e-01, -1.9448e-01, -1.7493e-02, -1.4160e-01, -3.1740e-01,\n",
       "        -2.7239e-02, -1.1782e-01,  3.8456e-03,  2.2927e-01,  3.5068e-01,\n",
       "        -2.3491e-02,  1.1001e-01,  2.5341e-01,  7.8930e-02,  2.7619e-02,\n",
       "        -3.0375e-01,  4.4841e-01,  2.8148e-01, -1.6547e-01, -5.5793e-02,\n",
       "         2.7968e-02,  1.2518e-01,  3.8058e-01, -4.9800e-01, -1.7947e-01,\n",
       "         2.2062e-01, -1.4892e-01,  2.4825e-01, -1.3412e-01, -1.2640e-01,\n",
       "        -4.9343e-01,  9.8688e-02, -8.4685e-02,  1.0462e-01,  2.0893e-01,\n",
       "         1.2796e-01,  1.4726e-01, -4.4066e-01,  3.4794e-02, -1.7080e-01,\n",
       "         2.5967e-01, -3.1300e-01, -1.1710e-01,  1.3737e-01,  2.0214e-01,\n",
       "         9.7055e-02, -2.8179e-01,  1.8733e-01, -1.0469e-01,  2.2861e-01,\n",
       "         2.5975e-01,  5.9511e-02, -3.1112e-01,  2.4618e-01, -3.9208e-01,\n",
       "        -4.7273e-02, -1.1677e-01,  1.5518e-01,  3.4118e-01,  1.4729e-01,\n",
       "         1.9056e-01,  3.0808e-01, -4.9831e-02,  2.5808e-01, -1.5410e-01,\n",
       "         2.5885e-01, -1.9234e-01,  2.0572e-01, -1.5409e-01, -4.1292e-02,\n",
       "         1.2131e-01,  1.7000e-01, -1.2474e-01,  3.2285e-01,  1.6727e-01,\n",
       "        -2.1364e-01,  3.5896e-01,  2.3758e-01, -2.2643e-01,  3.3772e-01,\n",
       "        -7.2982e-02, -9.9003e-02, -1.5473e-01,  1.1595e-02,  9.7922e-02,\n",
       "         5.5231e-02,  2.0729e-01,  1.2414e-01, -1.0670e-01, -2.3304e-01,\n",
       "         1.7112e-01, -4.1238e-01, -1.5809e-01, -8.2967e-02,  3.0516e-01,\n",
       "        -4.2648e-01,  2.7929e-01, -2.2182e-01, -2.8662e-01,  2.5450e-02,\n",
       "         2.6904e-01,  1.2994e-01,  1.9066e-01, -2.0499e-01, -5.4370e-03,\n",
       "        -5.3698e-01,  1.0572e-01, -1.1826e-01, -2.1696e-01,  9.0605e-02,\n",
       "         1.4855e-01, -2.8563e-01, -1.9218e-01,  2.0570e-01, -3.1078e-01,\n",
       "        -5.0720e-02, -4.3940e-01, -3.8007e-04,  3.6419e-01, -2.0502e-01,\n",
       "        -1.5252e-02,  2.5733e-01,  3.2505e-01, -4.9744e-02, -4.0520e-02,\n",
       "         2.1369e-01, -2.0828e-01,  3.7539e-02,  1.4374e-01, -3.7220e-01,\n",
       "         1.6395e-01, -2.3755e-01,  3.1872e-01,  1.3053e-01, -3.4488e-01,\n",
       "        -5.9644e-02,  3.7475e-01,  3.4625e-01,  1.5315e-01, -1.4852e-03,\n",
       "        -1.5118e-01, -4.9142e-02, -5.0754e-02, -5.8210e-02, -1.9345e-01,\n",
       "         7.2156e-02, -1.7484e-01, -2.3574e-01,  6.0082e-02,  2.5006e-01,\n",
       "        -4.2117e-02,  1.9236e-01, -1.4950e-01, -8.4228e-02, -7.3894e-02,\n",
       "        -4.3018e-01,  1.3564e-01, -9.9046e-02,  4.2514e-01, -1.2568e-01,\n",
       "        -2.1111e-01, -1.5538e-01,  3.1590e-01,  3.3946e-01,  2.5307e-01,\n",
       "        -2.5602e-01,  1.1491e-01, -4.7320e-02, -6.2367e-02,  4.0695e-01,\n",
       "        -1.8752e-01, -2.1510e-01,  3.1132e-02, -2.6268e-01,  8.9308e-02,\n",
       "         2.4492e-01, -1.5268e-01,  4.6179e-01,  1.2906e-01, -1.9770e-01,\n",
       "        -1.1539e-01, -3.2424e-01, -3.7046e-01, -4.9369e-02, -3.8855e-01,\n",
       "        -1.3716e-01, -2.2272e-01,  2.7746e-01,  3.2036e-02,  1.3964e-01,\n",
       "        -1.0068e-01,  3.7542e-01, -2.5062e-02,  2.2449e-02, -1.0939e-01,\n",
       "         1.9380e-02,  5.0748e-02, -2.0320e-02, -3.4578e-01, -1.4779e-01,\n",
       "         2.8512e-01,  3.6791e-01, -1.5996e-01, -1.3380e-01, -2.8106e-01,\n",
       "        -2.0510e-01,  2.2364e-01, -1.1128e-01, -2.1121e-01,  3.8232e-01,\n",
       "        -5.6826e-02,  1.7131e-02,  3.9389e-01,  7.5624e-02, -3.5629e-01,\n",
       "         1.6999e-01,  1.3545e-01,  3.6491e-01, -1.3396e-01, -1.8059e-02,\n",
       "         3.4483e-01, -2.8832e-02,  4.8316e-01, -1.0991e-01,  2.8080e-01,\n",
       "         2.1013e-01, -1.4763e-01, -4.2285e-01, -2.8835e-01,  1.8929e-01,\n",
       "        -1.5524e-01, -1.3851e-01,  2.5668e-01, -9.5420e-02, -3.5588e-01,\n",
       "         5.0385e-02,  2.2531e-01,  1.0615e-01,  6.4547e-02,  2.0679e-01,\n",
       "        -3.5197e-01, -1.4646e-01, -2.3753e-01, -1.4758e-01,  1.0546e-01,\n",
       "         1.3156e-01, -3.1307e-02, -2.3277e-01, -3.1059e-01,  4.0636e-02,\n",
       "        -8.9198e-02, -1.5514e-01, -4.3791e-02,  2.4660e-01, -4.2913e-01,\n",
       "        -1.3885e-01,  2.0496e-01,  1.4257e-01, -8.9616e-02,  1.2608e-01,\n",
       "        -1.7491e-01, -3.0746e-01, -6.4080e-02,  7.7705e-02,  2.3851e-02,\n",
       "         4.5629e-03, -3.2447e-02,  4.3332e-02,  1.6317e-01, -1.1312e-02,\n",
       "        -6.2997e-03, -3.6664e-01, -2.6308e-01, -3.2335e-01, -1.6612e-01,\n",
       "         1.8579e-01,  2.1800e-01,  2.1131e-01, -1.4624e-01, -5.7292e-02,\n",
       "         3.5385e-02,  2.8212e-01, -5.0031e-01,  3.0591e-01, -4.5856e-01,\n",
       "         3.7069e-01,  4.3267e-01, -4.2379e-01, -3.2224e-01,  2.9925e-01,\n",
       "        -1.6403e-03, -1.7052e-01,  1.1539e-01,  3.2436e-01, -4.0781e-01,\n",
       "        -3.0317e-02,  2.0104e-01, -2.9617e-02,  8.0143e-02,  1.5678e-01,\n",
       "        -2.3856e-01,  9.6771e-02, -1.5176e-01, -3.6437e-01,  2.5549e-01,\n",
       "        -8.3487e-02, -3.2578e-01, -3.7553e-01, -4.4145e-01,  2.3089e-02,\n",
       "         3.5584e-01, -1.7494e-01,  2.8238e-01,  3.2296e-01,  2.5460e-01,\n",
       "        -1.2172e-01, -3.6018e-01, -2.7426e-02,  3.6105e-01, -8.5747e-02,\n",
       "        -1.4837e-01, -1.0646e-02, -1.8320e-01,  5.5386e-03,  1.5754e-01,\n",
       "        -4.6345e-02, -1.8499e-01, -4.0285e-01,  2.3572e-01,  1.7283e-02,\n",
       "        -1.6770e-01, -3.5032e-01,  1.2750e-01,  1.0473e-01,  4.2806e-02,\n",
       "         8.1913e-02,  1.1153e-01,  1.8871e-01, -2.7357e-02,  7.9793e-02,\n",
       "        -7.7929e-02, -4.2923e-01, -1.0892e-01, -2.0760e-01, -2.0349e-01,\n",
       "         3.2066e-01,  1.4555e-01,  5.0307e-02, -8.4933e-02,  1.4162e-01,\n",
       "        -5.0737e-01, -7.5530e-02,  6.1487e-02,  1.9014e-01, -2.4998e-01,\n",
       "        -2.2077e-01, -1.8768e-01, -9.3924e-02, -1.6380e-01,  7.4944e-02,\n",
       "         1.1230e-01,  2.9182e-02, -2.2670e-01,  5.1172e-02,  1.0308e-01,\n",
       "         1.2657e-01,  3.7788e-02, -3.3135e-01,  1.4430e-01,  4.5085e-01,\n",
       "         3.1695e-01,  9.9445e-02,  2.9753e-01,  1.4536e-01,  1.7320e-01,\n",
       "         2.9250e-01, -3.9459e-01, -1.1886e-01, -3.3217e-01,  2.9503e-01,\n",
       "         1.4072e-01,  1.2359e-01,  1.8443e-01, -1.2923e-01,  2.7984e-01,\n",
       "        -3.0694e-02, -1.2005e-01, -1.8035e-01, -1.4678e-01, -2.2166e-01,\n",
       "         2.8076e-02, -2.9601e-01,  3.8606e-02, -1.0828e-01, -3.4774e-01,\n",
       "        -3.1617e-02,  2.4102e-01, -1.0684e-01, -2.8544e-01, -2.2663e-01,\n",
       "         4.2879e-01,  2.2780e-01,  2.7988e-01,  2.3552e-02, -4.4136e-02,\n",
       "         1.5987e-01, -6.5521e-02,  2.5843e-01,  2.7152e-01, -4.3423e-01,\n",
       "         2.8061e-01, -7.8659e-02,  9.2626e-02, -7.8673e-02,  1.8360e-01,\n",
       "         3.8762e-01, -5.1273e-02, -4.5053e-01,  2.2509e-01, -7.4694e-02,\n",
       "        -4.8677e-02, -2.1224e-01, -1.1350e-02, -3.5310e-01, -2.2747e-01,\n",
       "         1.4619e-01, -9.7750e-02,  1.3112e-02,  4.5327e-01, -4.2639e-01,\n",
       "        -1.2638e-01, -7.6540e-02, -2.1241e-03, -3.3851e-02, -1.2525e-01,\n",
       "         3.6091e-01,  4.1959e-01, -6.5365e-02, -1.9498e-01, -1.1104e-01,\n",
       "        -3.0575e-01, -3.3295e-01,  3.8593e-01,  1.3378e-01, -4.5869e-01,\n",
       "        -4.3884e-01,  2.3896e-01,  7.0922e-02, -6.8852e-02, -7.1416e-02,\n",
       "         8.2324e-02, -3.5686e-01, -6.3323e-02,  1.6178e-01,  1.6910e-01,\n",
       "        -3.9129e-02,  1.3701e-01, -3.3123e-01,  2.7243e-02, -1.9510e-01,\n",
       "         3.9025e-01, -2.2367e-01,  3.2490e-03,  9.0077e-02,  1.2234e-01,\n",
       "        -1.5997e-01, -3.5393e-01,  2.7095e-01,  1.5066e-01,  1.6516e-01,\n",
       "         3.7298e-01, -1.0777e-01,  2.5753e-01, -2.4458e-01,  2.5912e-01,\n",
       "         5.2596e-01, -4.5845e-01, -1.6761e-01])"
      ]
     },
     "execution_count": 101,
     "metadata": {},
     "output_type": "execute_result"
    }
   ],
   "source": [
    "all_means[0,:,0]"
   ]
  }
 ],
 "metadata": {
  "kernelspec": {
   "display_name": "Python [conda env:evg]",
   "language": "python",
   "name": "conda-env-evg-py"
  },
  "language_info": {
   "codemirror_mode": {
    "name": "ipython",
    "version": 3
   },
   "file_extension": ".py",
   "mimetype": "text/x-python",
   "name": "python",
   "nbconvert_exporter": "python",
   "pygments_lexer": "ipython3",
   "version": "3.8.13"
  }
 },
 "nbformat": 4,
 "nbformat_minor": 5
}
